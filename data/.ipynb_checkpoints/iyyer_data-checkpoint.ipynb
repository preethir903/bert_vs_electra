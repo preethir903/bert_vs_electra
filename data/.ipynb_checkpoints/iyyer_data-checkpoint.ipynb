{
 "cells": [
  {
   "cell_type": "code",
   "execution_count": 8,
   "metadata": {},
   "outputs": [],
   "source": [
    "import _pickle as cPickle\n",
    "import pickle\n",
    "import treeUtil\n",
    "import pandas as pd\n",
    "import pathlib\n",
    "from load_data import create_sentence_label_full_df"
   ]
  },
  {
   "cell_type": "code",
   "execution_count": 9,
   "metadata": {},
   "outputs": [],
   "source": [
    "[lib, con, neutral] = pickle.load(open( 'ibc_data_full.pkl', 'rb'))"
   ]
  },
  {
   "cell_type": "code",
   "execution_count": 10,
   "metadata": {},
   "outputs": [
    {
     "name": "stdout",
     "output_type": "stream",
     "text": [
      "Liberal  :  Forcing middle-class workers to bear a greater share of the cost of government weakens their support for needed investments and stirs resentment toward those who depend on public services the most . \n",
      "\n",
      "Liberal  :  Because it would not be worthwhile to bring a case for $ 30.22 , the arbitration clause would , as a practical matter , deny the Concepcions any relief and , more important , eliminate a class action that might punish AT&T for its pattern of fraudulent behavior . \n",
      "\n",
      "Liberal  :  Indeed , Lind argues that high profits and high wages reinforce each other because workers then have the wherewithal to buy the products they are making . \n",
      "\n",
      "Liberal  :  In fairness , it should be noted that he devotes an entire chapter to New York Times political columnist Maureen Dowd , a liberal who makes much of the outsized rivalries , jealousies , and personalities that dominate American politics . \n",
      "\n",
      "Liberal  :  Psychological tactics are social control techniques that operate at the level of the mind , with the goal of creating fear and making it difficult for protesters to successfully mobilize . \n",
      "\n"
     ]
    }
   ],
   "source": [
    "for tree in lib[0:5]:\n",
    "    print(tree.label, \" : \", tree.get_words(), '\\n')"
   ]
  },
  {
   "cell_type": "code",
   "execution_count": 28,
   "metadata": {},
   "outputs": [
    {
     "name": "stdout",
     "output_type": "stream",
     "text": [
      "Conservative :  Yet for all its submerged class snobbery and anti-intellectualism disguised as cool detachment , the ultimate failure of the Washington media lies less with the personal failings of its elite members than its structural inadequacy .\n",
      "POS : ROOT+S\n",
      "Conservative :  lies less with the personal failings of its elite members than its structural inadequacy\n",
      "POS : VP\n",
      "Neutral :  the personal failings\n",
      "POS : NP\n"
     ]
    }
   ],
   "source": [
    "ex_tree = con[2]\n",
    "counter = 0\n",
    "\n",
    "for node in ex_tree:\n",
    "    if hasattr(node, 'label'):\n",
    "        print(node.label, ': ', node.get_words())\n",
    "        print('POS', ':', node.pos)\n"
   ]
  },
  {
   "cell_type": "code",
   "execution_count": 28,
   "metadata": {},
   "outputs": [
    {
     "name": "stdout",
     "output_type": "stream",
     "text": [
      "Conservative :  Yet for all its submerged class snobbery and anti-intellectualism disguised as cool detachment , the ultimate failure of the Washington media lies less with the personal failings of its elite members than its structural inadequacy .\n",
      "POS : ROOT+S\n",
      "Conservative :  lies less with the personal failings of its elite members than its structural inadequacy\n",
      "POS : VP\n",
      "Neutral :  the personal failings\n",
      "POS : NP\n"
     ]
    }
   ],
   "source": [
    "ex_tree = con[2]\n",
    "counter = 0\n",
    "\n",
    "for node in ex_tree:\n",
    "    if hasattr(node, 'label'):\n",
    "        print(node.label, ': ', node.get_words())\n",
    "        print('POS', ':', node.pos)\n",
    "    else: \n",
    "        print(node.pos)"
   ]
  },
  {
   "cell_type": "code",
   "execution_count": 15,
   "metadata": {},
   "outputs": [
    {
     "name": "stdout",
     "output_type": "stream",
     "text": [
      "Help on leafObj in module treeUtil object:\n",
      "\n",
      "class leafObj(builtins.object)\n",
      " |  leafObj(word, pos)\n",
      " |  \n",
      " |  Methods defined here:\n",
      " |  \n",
      " |  __init__(self, word, pos)\n",
      " |      Initialize self.  See help(type(self)) for accurate signature.\n",
      " |  \n",
      " |  __iter__(self)\n",
      " |  \n",
      " |  print_leaf(self)\n",
      " |  \n",
      " |  set_label(self, label)\n",
      " |  \n",
      " |  set_parent(self, par)\n",
      " |  \n",
      " |  ----------------------------------------------------------------------\n",
      " |  Data descriptors defined here:\n",
      " |  \n",
      " |  __dict__\n",
      " |      dictionary for instance variables (if defined)\n",
      " |  \n",
      " |  __weakref__\n",
      " |      list of weak references to the object (if defined)\n",
      "\n"
     ]
    }
   ],
   "source": [
    "help(node)"
   ]
  },
  {
   "cell_type": "code",
   "execution_count": 32,
   "metadata": {},
   "outputs": [],
   "source": [
    "full_df = create_sentence_label_full_df()"
   ]
  },
  {
   "cell_type": "code",
   "execution_count": 33,
   "metadata": {},
   "outputs": [],
   "source": [
    "full_df.to_csv('full_df.csv')"
   ]
  },
  {
   "cell_type": "code",
   "execution_count": 7,
   "metadata": {},
   "outputs": [
    {
     "data": {
      "text/html": [
       "<div>\n",
       "<style scoped>\n",
       "    .dataframe tbody tr th:only-of-type {\n",
       "        vertical-align: middle;\n",
       "    }\n",
       "\n",
       "    .dataframe tbody tr th {\n",
       "        vertical-align: top;\n",
       "    }\n",
       "\n",
       "    .dataframe thead th {\n",
       "        text-align: right;\n",
       "    }\n",
       "</style>\n",
       "<table border=\"1\" class=\"dataframe\">\n",
       "  <thead>\n",
       "    <tr style=\"text-align: right;\">\n",
       "      <th></th>\n",
       "      <th>Unnamed: 0</th>\n",
       "      <th>ideology</th>\n",
       "      <th>sentence</th>\n",
       "    </tr>\n",
       "  </thead>\n",
       "  <tbody>\n",
       "    <tr>\n",
       "      <th>0</th>\n",
       "      <td>0</td>\n",
       "      <td>Liberal</td>\n",
       "      <td>Apart from the legal rights , the fact that le...</td>\n",
       "    </tr>\n",
       "    <tr>\n",
       "      <th>1</th>\n",
       "      <td>1</td>\n",
       "      <td>Liberal</td>\n",
       "      <td>Today , a sizable and growing number of indivi...</td>\n",
       "    </tr>\n",
       "    <tr>\n",
       "      <th>2</th>\n",
       "      <td>2</td>\n",
       "      <td>Liberal</td>\n",
       "      <td>Abstract : Democrats have been stumbling on ed...</td>\n",
       "    </tr>\n",
       "    <tr>\n",
       "      <th>3</th>\n",
       "      <td>3</td>\n",
       "      <td>Liberal</td>\n",
       "      <td>Abstract : At the retail level , this system d...</td>\n",
       "    </tr>\n",
       "    <tr>\n",
       "      <th>4</th>\n",
       "      <td>4</td>\n",
       "      <td>Liberal</td>\n",
       "      <td>Molyneux then examines public-opinion polls to...</td>\n",
       "    </tr>\n",
       "  </tbody>\n",
       "</table>\n",
       "</div>"
      ],
      "text/plain": [
       "   Unnamed: 0 ideology                                           sentence\n",
       "0           0  Liberal  Apart from the legal rights , the fact that le...\n",
       "1           1  Liberal  Today , a sizable and growing number of indivi...\n",
       "2           2  Liberal  Abstract : Democrats have been stumbling on ed...\n",
       "3           3  Liberal  Abstract : At the retail level , this system d...\n",
       "4           4  Liberal  Molyneux then examines public-opinion polls to..."
      ]
     },
     "execution_count": 7,
     "metadata": {},
     "output_type": "execute_result"
    }
   ],
   "source": [
    "pd.read_csv('full_df.csv').head()"
   ]
  },
  {
   "cell_type": "code",
   "execution_count": null,
   "metadata": {},
   "outputs": [],
   "source": []
  }
 ],
 "metadata": {
  "kernelspec": {
   "display_name": "Python 3",
   "language": "python",
   "name": "python3"
  },
  "language_info": {
   "codemirror_mode": {
    "name": "ipython",
    "version": 3
   },
   "file_extension": ".py",
   "mimetype": "text/x-python",
   "name": "python",
   "nbconvert_exporter": "python",
   "pygments_lexer": "ipython3",
   "version": "3.9.1"
  },
  "toc": {
   "nav_menu": {},
   "number_sections": true,
   "sideBar": true,
   "skip_h1_title": false,
   "title_cell": "Table of Contents",
   "title_sidebar": "Contents",
   "toc_cell": false,
   "toc_position": {},
   "toc_section_display": true,
   "toc_window_display": false
  }
 },
 "nbformat": 4,
 "nbformat_minor": 4
}
