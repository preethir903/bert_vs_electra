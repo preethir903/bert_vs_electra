{
  "nbformat": 4,
  "nbformat_minor": 0,
  "metadata": {
    "accelerator": "GPU",
    "colab": {
      "name": "bert_tuning.ipynb",
      "provenance": [],
      "collapsed_sections": [],
      "machine_shape": "hm",
      "include_colab_link": true
    },
    "kernelspec": {
      "display_name": "Python 3",
      "name": "python3"
    },
    "language_info": {
      "name": "python"
    }
  },
  "cells": [
    {
      "cell_type": "markdown",
      "metadata": {
        "id": "view-in-github",
        "colab_type": "text"
      },
      "source": [
        "<a href=\"https://colab.research.google.com/github/preethir903/w266_final_project/blob/main/bert_tuning.ipynb\" target=\"_parent\"><img src=\"https://colab.research.google.com/assets/colab-badge.svg\" alt=\"Open In Colab\"/></a>"
      ]
    },
    {
      "cell_type": "code",
      "metadata": {
        "colab": {
          "resources": {
            "http://localhost:8080/nbextensions/google.colab/files.js": {
              "data": "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",
              "ok": true,
              "headers": [
                [
                  "content-type",
                  "application/javascript"
                ]
              ],
              "status": 200,
              "status_text": ""
            }
          },
          "base_uri": "https://localhost:8080/",
          "height": 72
        },
        "id": "LVodDdueGzZp",
        "outputId": "d6f3b54c-862f-43eb-bbdd-b9b630ff593c"
      },
      "source": [
        "from google.colab import files \n",
        "uploaded = files.upload()\n"
      ],
      "execution_count": null,
      "outputs": [
        {
          "output_type": "display_data",
          "data": {
            "text/html": [
              "\n",
              "     <input type=\"file\" id=\"files-ae9dd430-329a-4f08-9949-6f91adcb96e2\" name=\"files[]\" multiple disabled\n",
              "        style=\"border:none\" />\n",
              "     <output id=\"result-ae9dd430-329a-4f08-9949-6f91adcb96e2\">\n",
              "      Upload widget is only available when the cell has been executed in the\n",
              "      current browser session. Please rerun this cell to enable.\n",
              "      </output>\n",
              "      <script src=\"/nbextensions/google.colab/files.js\"></script> "
            ],
            "text/plain": [
              "<IPython.core.display.HTML object>"
            ]
          },
          "metadata": {
            "tags": []
          }
        },
        {
          "output_type": "stream",
          "text": [
            "Saving full_df.csv to full_df.csv\n"
          ],
          "name": "stdout"
        }
      ]
    },
    {
      "cell_type": "code",
      "metadata": {
        "colab": {
          "base_uri": "https://localhost:8080/"
        },
        "id": "PPk9y36Nh7EE",
        "outputId": "3c564d4e-01a9-4134-e6ea-f85bf41327d5"
      },
      "source": [
        "# see if full_df is present in the data\n",
        "!ls"
      ],
      "execution_count": null,
      "outputs": [
        {
          "output_type": "stream",
          "text": [
            "full_df.csv  sample_data\n"
          ],
          "name": "stdout"
        }
      ]
    },
    {
      "cell_type": "code",
      "metadata": {
        "id": "zQriZ5rSKntq",
        "colab": {
          "base_uri": "https://localhost:8080/"
        },
        "outputId": "1f16b685-7f48-4605-a555-61b5276c4af1"
      },
      "source": [
        "# A dependency of the preprocessing for BERT inputs\n",
        "!pip install -q tensorflow-text"
      ],
      "execution_count": null,
      "outputs": [
        {
          "output_type": "stream",
          "text": [
            "\u001b[K     |████████████████████████████████| 4.3MB 8.0MB/s \n",
            "\u001b[?25h"
          ],
          "name": "stdout"
        }
      ]
    },
    {
      "cell_type": "code",
      "metadata": {
        "id": "767WYwdzJsV7",
        "colab": {
          "base_uri": "https://localhost:8080/"
        },
        "outputId": "22228fa9-8f2c-4539-f092-971cc54bfd3d"
      },
      "source": [
        "pip install -q tf-models-official"
      ],
      "execution_count": null,
      "outputs": [
        {
          "output_type": "stream",
          "text": [
            "\u001b[K     |████████████████████████████████| 1.6MB 4.6MB/s \n",
            "\u001b[K     |████████████████████████████████| 645kB 41.2MB/s \n",
            "\u001b[K     |████████████████████████████████| 102kB 15.0MB/s \n",
            "\u001b[K     |████████████████████████████████| 51kB 8.8MB/s \n",
            "\u001b[K     |████████████████████████████████| 38.2MB 78kB/s \n",
            "\u001b[K     |████████████████████████████████| 174kB 53.9MB/s \n",
            "\u001b[K     |████████████████████████████████| 686kB 43.9MB/s \n",
            "\u001b[K     |████████████████████████████████| 1.2MB 48.9MB/s \n",
            "\u001b[K     |████████████████████████████████| 358kB 50.3MB/s \n",
            "\u001b[K     |████████████████████████████████| 61kB 9.0MB/s \n",
            "\u001b[?25h  Building wheel for py-cpuinfo (setup.py) ... \u001b[?25l\u001b[?25hdone\n",
            "  Building wheel for seqeval (setup.py) ... \u001b[?25l\u001b[?25hdone\n"
          ],
          "name": "stdout"
        }
      ]
    },
    {
      "cell_type": "code",
      "metadata": {
        "colab": {
          "base_uri": "https://localhost:8080/"
        },
        "id": "FsroAKE9I3-3",
        "outputId": "39e76409-b257-4b26-f547-26040179990b"
      },
      "source": [
        "pip install transformers"
      ],
      "execution_count": null,
      "outputs": [
        {
          "output_type": "stream",
          "text": [
            "Collecting transformers\n",
            "\u001b[?25l  Downloading https://files.pythonhosted.org/packages/d5/43/cfe4ee779bbd6a678ac6a97c5a5cdeb03c35f9eaebbb9720b036680f9a2d/transformers-4.6.1-py3-none-any.whl (2.2MB)\n",
            "\u001b[K     |████████████████████████████████| 2.3MB 8.5MB/s \n",
            "\u001b[?25hRequirement already satisfied: filelock in /usr/local/lib/python3.7/dist-packages (from transformers) (3.0.12)\n",
            "Collecting huggingface-hub==0.0.8\n",
            "  Downloading https://files.pythonhosted.org/packages/a1/88/7b1e45720ecf59c6c6737ff332f41c955963090a18e72acbcbeac6b25e86/huggingface_hub-0.0.8-py3-none-any.whl\n",
            "Requirement already satisfied: requests in /usr/local/lib/python3.7/dist-packages (from transformers) (2.23.0)\n",
            "Collecting tokenizers<0.11,>=0.10.1\n",
            "\u001b[?25l  Downloading https://files.pythonhosted.org/packages/d4/e2/df3543e8ffdab68f5acc73f613de9c2b155ac47f162e725dcac87c521c11/tokenizers-0.10.3-cp37-cp37m-manylinux_2_5_x86_64.manylinux1_x86_64.manylinux_2_12_x86_64.manylinux2010_x86_64.whl (3.3MB)\n",
            "\u001b[K     |████████████████████████████████| 3.3MB 49.1MB/s \n",
            "\u001b[?25hRequirement already satisfied: tqdm>=4.27 in /usr/local/lib/python3.7/dist-packages (from transformers) (4.41.1)\n",
            "Requirement already satisfied: packaging in /usr/local/lib/python3.7/dist-packages (from transformers) (20.9)\n",
            "Requirement already satisfied: numpy>=1.17 in /usr/local/lib/python3.7/dist-packages (from transformers) (1.19.5)\n",
            "Requirement already satisfied: regex!=2019.12.17 in /usr/local/lib/python3.7/dist-packages (from transformers) (2019.12.20)\n",
            "Requirement already satisfied: importlib-metadata; python_version < \"3.8\" in /usr/local/lib/python3.7/dist-packages (from transformers) (4.0.1)\n",
            "Collecting sacremoses\n",
            "\u001b[?25l  Downloading https://files.pythonhosted.org/packages/75/ee/67241dc87f266093c533a2d4d3d69438e57d7a90abb216fa076e7d475d4a/sacremoses-0.0.45-py3-none-any.whl (895kB)\n",
            "\u001b[K     |████████████████████████████████| 901kB 42.1MB/s \n",
            "\u001b[?25hRequirement already satisfied: certifi>=2017.4.17 in /usr/local/lib/python3.7/dist-packages (from requests->transformers) (2020.12.5)\n",
            "Requirement already satisfied: urllib3!=1.25.0,!=1.25.1,<1.26,>=1.21.1 in /usr/local/lib/python3.7/dist-packages (from requests->transformers) (1.24.3)\n",
            "Requirement already satisfied: idna<3,>=2.5 in /usr/local/lib/python3.7/dist-packages (from requests->transformers) (2.10)\n",
            "Requirement already satisfied: chardet<4,>=3.0.2 in /usr/local/lib/python3.7/dist-packages (from requests->transformers) (3.0.4)\n",
            "Requirement already satisfied: pyparsing>=2.0.2 in /usr/local/lib/python3.7/dist-packages (from packaging->transformers) (2.4.7)\n",
            "Requirement already satisfied: zipp>=0.5 in /usr/local/lib/python3.7/dist-packages (from importlib-metadata; python_version < \"3.8\"->transformers) (3.4.1)\n",
            "Requirement already satisfied: typing-extensions>=3.6.4; python_version < \"3.8\" in /usr/local/lib/python3.7/dist-packages (from importlib-metadata; python_version < \"3.8\"->transformers) (3.7.4.3)\n",
            "Requirement already satisfied: joblib in /usr/local/lib/python3.7/dist-packages (from sacremoses->transformers) (1.0.1)\n",
            "Requirement already satisfied: click in /usr/local/lib/python3.7/dist-packages (from sacremoses->transformers) (7.1.2)\n",
            "Requirement already satisfied: six in /usr/local/lib/python3.7/dist-packages (from sacremoses->transformers) (1.15.0)\n",
            "Installing collected packages: huggingface-hub, tokenizers, sacremoses, transformers\n",
            "Successfully installed huggingface-hub-0.0.8 sacremoses-0.0.45 tokenizers-0.10.3 transformers-4.6.1\n"
          ],
          "name": "stdout"
        }
      ]
    },
    {
      "cell_type": "code",
      "metadata": {
        "id": "i6_fT1VgIN6o"
      },
      "source": [
        "import os\n",
        "import shutil\n",
        "import numpy as np \n",
        "import pandas as pd \n",
        "import tensorflow as tf\n",
        "import tensorflow_hub as hub\n",
        "import tensorflow_text as text\n",
        "import matplotlib.pyplot as plt\n",
        "\n",
        "tf.get_logger().setLevel('ERROR')\n",
        "\n",
        "from official.nlp import optimization  # to create AdamW optmizer\n",
        "#Load the BERT Classifier and Tokenizer alıng with Input modules\n",
        "from transformers import BertTokenizer, TFBertForSequenceClassification\n",
        "from transformers import InputExample, InputFeatures\n",
        "\n",
        "from keras import backend as K\n"
      ],
      "execution_count": null,
      "outputs": []
    },
    {
      "cell_type": "code",
      "metadata": {
        "colab": {
          "base_uri": "https://localhost:8080/",
          "height": 111
        },
        "id": "QNZGnZSDH0rE",
        "outputId": "3d63a1b2-166e-422e-8739-ad238213ddf9"
      },
      "source": [
        "# Get full dataset\n",
        "df = pd.read_csv('full_df.csv', index_col = 0)\n",
        "df['label'] = pd.Categorical(df['ideology'])\n",
        "df['label'] = df.label.cat.codes\n",
        "df.head(2)"
      ],
      "execution_count": null,
      "outputs": [
        {
          "output_type": "execute_result",
          "data": {
            "text/html": [
              "<div>\n",
              "<style scoped>\n",
              "    .dataframe tbody tr th:only-of-type {\n",
              "        vertical-align: middle;\n",
              "    }\n",
              "\n",
              "    .dataframe tbody tr th {\n",
              "        vertical-align: top;\n",
              "    }\n",
              "\n",
              "    .dataframe thead th {\n",
              "        text-align: right;\n",
              "    }\n",
              "</style>\n",
              "<table border=\"1\" class=\"dataframe\">\n",
              "  <thead>\n",
              "    <tr style=\"text-align: right;\">\n",
              "      <th></th>\n",
              "      <th>ideology</th>\n",
              "      <th>sentence</th>\n",
              "      <th>label</th>\n",
              "    </tr>\n",
              "  </thead>\n",
              "  <tbody>\n",
              "    <tr>\n",
              "      <th>0</th>\n",
              "      <td>Liberal</td>\n",
              "      <td>Apart from the legal rights , the fact that le...</td>\n",
              "      <td>1</td>\n",
              "    </tr>\n",
              "    <tr>\n",
              "      <th>1</th>\n",
              "      <td>Liberal</td>\n",
              "      <td>Today , a sizable and growing number of indivi...</td>\n",
              "      <td>1</td>\n",
              "    </tr>\n",
              "  </tbody>\n",
              "</table>\n",
              "</div>"
            ],
            "text/plain": [
              "  ideology                                           sentence  label\n",
              "0  Liberal  Apart from the legal rights , the fact that le...      1\n",
              "1  Liberal  Today , a sizable and growing number of indivi...      1"
            ]
          },
          "metadata": {
            "tags": []
          },
          "execution_count": 7
        }
      ]
    },
    {
      "cell_type": "code",
      "metadata": {
        "id": "W_yysyIcIIzc"
      },
      "source": [
        "map_name_to_handle = {\n",
        "    'bert_en_uncased_L-12_H-768_A-12':\n",
        "        'https://tfhub.dev/tensorflow/bert_en_uncased_L-12_H-768_A-12/3',\n",
        "    'bert_en_cased_L-12_H-768_A-12':\n",
        "        'https://tfhub.dev/tensorflow/bert_en_cased_L-12_H-768_A-12/3',\n",
        "    'bert_multi_cased_L-12_H-768_A-12':\n",
        "        'https://tfhub.dev/tensorflow/bert_multi_cased_L-12_H-768_A-12/3',\n",
        "    'small_bert/bert_en_uncased_L-2_H-128_A-2':\n",
        "        'https://tfhub.dev/tensorflow/small_bert/bert_en_uncased_L-2_H-128_A-2/1',\n",
        "    'small_bert/bert_en_uncased_L-2_H-256_A-4':\n",
        "        'https://tfhub.dev/tensorflow/small_bert/bert_en_uncased_L-2_H-256_A-4/1',\n",
        "    'small_bert/bert_en_uncased_L-2_H-512_A-8':\n",
        "        'https://tfhub.dev/tensorflow/small_bert/bert_en_uncased_L-2_H-512_A-8/1',\n",
        "    'small_bert/bert_en_uncased_L-2_H-768_A-12':\n",
        "        'https://tfhub.dev/tensorflow/small_bert/bert_en_uncased_L-2_H-768_A-12/1',\n",
        "    'small_bert/bert_en_uncased_L-4_H-128_A-2':\n",
        "        'https://tfhub.dev/tensorflow/small_bert/bert_en_uncased_L-4_H-128_A-2/1',\n",
        "    'small_bert/bert_en_uncased_L-4_H-256_A-4':\n",
        "        'https://tfhub.dev/tensorflow/small_bert/bert_en_uncased_L-4_H-256_A-4/1',\n",
        "    'small_bert/bert_en_uncased_L-4_H-512_A-8':\n",
        "        'https://tfhub.dev/tensorflow/small_bert/bert_en_uncased_L-4_H-512_A-8/1',\n",
        "    'small_bert/bert_en_uncased_L-4_H-768_A-12':\n",
        "        'https://tfhub.dev/tensorflow/small_bert/bert_en_uncased_L-4_H-768_A-12/1',\n",
        "    'small_bert/bert_en_uncased_L-6_H-128_A-2':\n",
        "        'https://tfhub.dev/tensorflow/small_bert/bert_en_uncased_L-6_H-128_A-2/1',\n",
        "    'small_bert/bert_en_uncased_L-6_H-256_A-4':\n",
        "        'https://tfhub.dev/tensorflow/small_bert/bert_en_uncased_L-6_H-256_A-4/1',\n",
        "    'small_bert/bert_en_uncased_L-6_H-512_A-8':\n",
        "        'https://tfhub.dev/tensorflow/small_bert/bert_en_uncased_L-6_H-512_A-8/1',\n",
        "    'small_bert/bert_en_uncased_L-6_H-768_A-12':\n",
        "        'https://tfhub.dev/tensorflow/small_bert/bert_en_uncased_L-6_H-768_A-12/1',\n",
        "    'small_bert/bert_en_uncased_L-8_H-128_A-2':\n",
        "        'https://tfhub.dev/tensorflow/small_bert/bert_en_uncased_L-8_H-128_A-2/1',\n",
        "    'small_bert/bert_en_uncased_L-8_H-256_A-4':\n",
        "        'https://tfhub.dev/tensorflow/small_bert/bert_en_uncased_L-8_H-256_A-4/1',\n",
        "    'small_bert/bert_en_uncased_L-8_H-512_A-8':\n",
        "        'https://tfhub.dev/tensorflow/small_bert/bert_en_uncased_L-8_H-512_A-8/1',\n",
        "    'small_bert/bert_en_uncased_L-8_H-768_A-12':\n",
        "        'https://tfhub.dev/tensorflow/small_bert/bert_en_uncased_L-8_H-768_A-12/1',\n",
        "    'small_bert/bert_en_uncased_L-10_H-128_A-2':\n",
        "        'https://tfhub.dev/tensorflow/small_bert/bert_en_uncased_L-10_H-128_A-2/1',\n",
        "    'small_bert/bert_en_uncased_L-10_H-256_A-4':\n",
        "        'https://tfhub.dev/tensorflow/small_bert/bert_en_uncased_L-10_H-256_A-4/1',\n",
        "    'small_bert/bert_en_uncased_L-10_H-512_A-8':\n",
        "        'https://tfhub.dev/tensorflow/small_bert/bert_en_uncased_L-10_H-512_A-8/1',\n",
        "    'small_bert/bert_en_uncased_L-10_H-768_A-12':\n",
        "        'https://tfhub.dev/tensorflow/small_bert/bert_en_uncased_L-10_H-768_A-12/1',\n",
        "    'small_bert/bert_en_uncased_L-12_H-128_A-2':\n",
        "        'https://tfhub.dev/tensorflow/small_bert/bert_en_uncased_L-12_H-128_A-2/1',\n",
        "    'small_bert/bert_en_uncased_L-12_H-256_A-4':\n",
        "        'https://tfhub.dev/tensorflow/small_bert/bert_en_uncased_L-12_H-256_A-4/1',\n",
        "    'small_bert/bert_en_uncased_L-12_H-512_A-8':\n",
        "        'https://tfhub.dev/tensorflow/small_bert/bert_en_uncased_L-12_H-512_A-8/1',\n",
        "    'small_bert/bert_en_uncased_L-12_H-768_A-12':\n",
        "        'https://tfhub.dev/tensorflow/small_bert/bert_en_uncased_L-12_H-768_A-12/1',\n",
        "    'albert_en_base':\n",
        "        'https://tfhub.dev/tensorflow/albert_en_base/2',\n",
        "    'electra_small':\n",
        "        'https://tfhub.dev/google/electra_small/2',\n",
        "    'electra_base':\n",
        "        'https://tfhub.dev/google/electra_base/2',\n",
        "    'experts_pubmed':\n",
        "        'https://tfhub.dev/google/experts/bert/pubmed/2',\n",
        "    'experts_wiki_books':\n",
        "        'https://tfhub.dev/google/experts/bert/wiki_books/2',\n",
        "    'talking-heads_base':\n",
        "        'https://tfhub.dev/tensorflow/talkheads_ggelu_bert_en_base/1',\n",
        "}\n",
        "\n",
        "map_model_to_preprocess = {\n",
        "    'bert_en_uncased_L-12_H-768_A-12':\n",
        "        'https://tfhub.dev/tensorflow/bert_en_uncased_preprocess/3',\n",
        "    'bert_en_cased_L-12_H-768_A-12':\n",
        "        'https://tfhub.dev/tensorflow/bert_en_cased_preprocess/3',\n",
        "    'small_bert/bert_en_uncased_L-2_H-128_A-2':\n",
        "        'https://tfhub.dev/tensorflow/bert_en_uncased_preprocess/3',\n",
        "    'small_bert/bert_en_uncased_L-2_H-256_A-4':\n",
        "        'https://tfhub.dev/tensorflow/bert_en_uncased_preprocess/3',\n",
        "    'small_bert/bert_en_uncased_L-2_H-512_A-8':\n",
        "        'https://tfhub.dev/tensorflow/bert_en_uncased_preprocess/3',\n",
        "    'small_bert/bert_en_uncased_L-2_H-768_A-12':\n",
        "        'https://tfhub.dev/tensorflow/bert_en_uncased_preprocess/3',\n",
        "    'small_bert/bert_en_uncased_L-4_H-128_A-2':\n",
        "        'https://tfhub.dev/tensorflow/bert_en_uncased_preprocess/3',\n",
        "    'small_bert/bert_en_uncased_L-4_H-256_A-4':\n",
        "        'https://tfhub.dev/tensorflow/bert_en_uncased_preprocess/3',\n",
        "    'small_bert/bert_en_uncased_L-4_H-512_A-8':\n",
        "        'https://tfhub.dev/tensorflow/bert_en_uncased_preprocess/3',\n",
        "    'small_bert/bert_en_uncased_L-4_H-768_A-12':\n",
        "        'https://tfhub.dev/tensorflow/bert_en_uncased_preprocess/3',\n",
        "    'small_bert/bert_en_uncased_L-6_H-128_A-2':\n",
        "        'https://tfhub.dev/tensorflow/bert_en_uncased_preprocess/3',\n",
        "    'small_bert/bert_en_uncased_L-6_H-256_A-4':\n",
        "        'https://tfhub.dev/tensorflow/bert_en_uncased_preprocess/3',\n",
        "    'small_bert/bert_en_uncased_L-6_H-512_A-8':\n",
        "        'https://tfhub.dev/tensorflow/bert_en_uncased_preprocess/3',\n",
        "    'small_bert/bert_en_uncased_L-6_H-768_A-12':\n",
        "        'https://tfhub.dev/tensorflow/bert_en_uncased_preprocess/3',\n",
        "    'small_bert/bert_en_uncased_L-8_H-128_A-2':\n",
        "        'https://tfhub.dev/tensorflow/bert_en_uncased_preprocess/3',\n",
        "    'small_bert/bert_en_uncased_L-8_H-256_A-4':\n",
        "        'https://tfhub.dev/tensorflow/bert_en_uncased_preprocess/3',\n",
        "    'small_bert/bert_en_uncased_L-8_H-512_A-8':\n",
        "        'https://tfhub.dev/tensorflow/bert_en_uncased_preprocess/3',\n",
        "    'small_bert/bert_en_uncased_L-8_H-768_A-12':\n",
        "        'https://tfhub.dev/tensorflow/bert_en_uncased_preprocess/3',\n",
        "    'small_bert/bert_en_uncased_L-10_H-128_A-2':\n",
        "        'https://tfhub.dev/tensorflow/bert_en_uncased_preprocess/3',\n",
        "    'small_bert/bert_en_uncased_L-10_H-256_A-4':\n",
        "        'https://tfhub.dev/tensorflow/bert_en_uncased_preprocess/3',\n",
        "    'small_bert/bert_en_uncased_L-10_H-512_A-8':\n",
        "        'https://tfhub.dev/tensorflow/bert_en_uncased_preprocess/3',\n",
        "    'small_bert/bert_en_uncased_L-10_H-768_A-12':\n",
        "        'https://tfhub.dev/tensorflow/bert_en_uncased_preprocess/3',\n",
        "    'small_bert/bert_en_uncased_L-12_H-128_A-2':\n",
        "        'https://tfhub.dev/tensorflow/bert_en_uncased_preprocess/3',\n",
        "    'small_bert/bert_en_uncased_L-12_H-256_A-4':\n",
        "        'https://tfhub.dev/tensorflow/bert_en_uncased_preprocess/3',\n",
        "    'small_bert/bert_en_uncased_L-12_H-512_A-8':\n",
        "        'https://tfhub.dev/tensorflow/bert_en_uncased_preprocess/3',\n",
        "    'small_bert/bert_en_uncased_L-12_H-768_A-12':\n",
        "        'https://tfhub.dev/tensorflow/bert_en_uncased_preprocess/3',\n",
        "    'bert_multi_cased_L-12_H-768_A-12':\n",
        "        'https://tfhub.dev/tensorflow/bert_multi_cased_preprocess/3',\n",
        "    'albert_en_base':\n",
        "        'https://tfhub.dev/tensorflow/albert_en_preprocess/3',\n",
        "    'electra_small':\n",
        "        'https://tfhub.dev/tensorflow/bert_en_uncased_preprocess/3',\n",
        "    'electra_base':\n",
        "        'https://tfhub.dev/tensorflow/bert_en_uncased_preprocess/3',\n",
        "    'experts_pubmed':\n",
        "        'https://tfhub.dev/tensorflow/bert_en_uncased_preprocess/3',\n",
        "    'experts_wiki_books':\n",
        "        'https://tfhub.dev/tensorflow/bert_en_uncased_preprocess/3',\n",
        "    'talking-heads_base':\n",
        "        'https://tfhub.dev/tensorflow/bert_en_uncased_preprocess/3',\n",
        "}\n",
        "\n"
      ],
      "execution_count": null,
      "outputs": []
    },
    {
      "cell_type": "code",
      "metadata": {
        "id": "E6jEPosnqbsm"
      },
      "source": [
        "# plots\n",
        "\n",
        "def plot_loss(history): \n",
        "  history_dict = history.history\n",
        "  print(history_dict.keys())\n",
        "\n",
        "  acc = history_dict['binary_accuracy']\n",
        "  val_acc = history_dict['val_binary_accuracy']\n",
        "  loss = history_dict['loss']\n",
        "  val_loss = history_dict['val_loss']\n",
        "\n",
        "  epochs = range(1, len(acc) + 1)\n",
        "  fig = plt.figure(figsize=(10, 6))\n",
        "  fig.tight_layout()\n",
        "\n",
        "  plt.subplot(2, 1, 1)\n",
        "  # \"bo\" is for \"blue dot\"\n",
        "  plt.plot(epochs, loss, 'r', label='Training loss')\n",
        "  # b is for \"solid blue line\"\n",
        "  plt.plot(epochs, val_loss, 'b', label='Validation loss')\n",
        "  plt.title('Training and validation loss')\n",
        "  # plt.xlabel('Epochs')\n",
        "  plt.ylabel('Loss')\n",
        "  plt.legend()\n",
        "\n",
        "  plt.subplot(2, 1, 2)\n",
        "  plt.plot(epochs, acc, 'r', label='Training acc')\n",
        "  plt.plot(epochs, val_acc, 'b', label='Validation acc')\n",
        "  plt.title('Training and validation accuracy')\n",
        "  plt.xlabel('Epochs')\n",
        "  plt.ylabel('Accuracy')\n",
        "  plt.legend(loc='lower right')\n",
        "\n",
        "def plot_model_structure(classifier_model):\n",
        "  # model structure\n",
        "  tf.keras.utils.plot_model(classifier_model)\n",
        "  #shapes of inputs\n",
        "  tf.keras.utils.plot_model(classifier_model, show_shapes=True, dpi=58)"
      ],
      "execution_count": null,
      "outputs": []
    },
    {
      "cell_type": "code",
      "metadata": {
        "id": "z7zt5DzZQ6Fq"
      },
      "source": [
        "seed = 1\n",
        "\n",
        "def tf_format_data(df, batch_size, seed = seed): \n",
        "  features = df.sentence.values\n",
        "  labels = df.label.values\n",
        "  dataset = tf.data.Dataset.from_tensor_slices( (features, labels) )\n",
        "  raw_df = dataset.shuffle(len(df), seed = seed).batch(batch_size)\n",
        "  AUTOTUNE = tf.data.AUTOTUNE\n",
        "  format_df = raw_df.cache().prefetch(buffer_size=AUTOTUNE) \n",
        "  return format_df\n",
        "\n",
        "def stratified_10_fold_split(df, batch_size, fold = 0, val = True, seed = seed, tf_format = True): \n",
        "  df = df.sample(frac=1, random_state = seed) # shuffle data\n",
        "  label_1 = df[df.label == df.label.unique()[0]].copy() # stratify data\n",
        "  label_2 = df[df.label == df.label.unique()[1]].copy()\n",
        "  # split train / test\n",
        "  split = int(len(df) / (10 * 2)) \n",
        "  test1 = label_1.iloc[fold * split : fold * split + split]\n",
        "  test2 = label_2.iloc[fold * split : fold * split + split]\n",
        "  train1 = label_1[~label_1.index.isin(test1.index)]\n",
        "  train2 = label_2[~label_2.index.isin(test2.index)]\n",
        "  if val: \n",
        "    # then split train into train / val\n",
        "    split = int(len(train1) / (9))\n",
        "    val1 = train1.iloc[fold * split : fold * split + split]\n",
        "    val2 = train2.iloc[fold * split : fold * split + split]\n",
        "    train1 = train1[~train1.index.isin(val1.index)]\n",
        "    train2 = train2[~train2.index.isin(val2.index)]\n",
        "    # concatenate both labels \n",
        "    train, val, test = pd.concat([train1,train2]),pd.concat([val1,val2]),pd.concat([test1,test2])\n",
        "    print('Train ', len(train)) \n",
        "    print('Val ', len(val)) \n",
        "    print('Test ', len(test)) \n",
        "    return tf_format_data(train, batch_size), tf_format_data(val, batch_size), tf_format_data(test, batch_size) \n",
        "  else: \n",
        "    # split only to train test, no val\n",
        "    train, test = pd.concat([train1,train2]),pd.concat([test1,test2]) \n",
        "    print('Train ', len(train)) \n",
        "    print('Test ', len(test)) \n",
        "    if tf_format: \n",
        "      return tf_format_data(train, batch_size), tf_format_data(test, batch_size) \n",
        "    else: \n",
        "      return train, test   \n",
        "\n",
        "\n",
        "def build_classifier_model():\n",
        "  text_input = tf.keras.layers.Input(shape=(), dtype=tf.string, name='text')\n",
        "  preprocessing_layer = hub.KerasLayer(tfhub_handle_preprocess, name='preprocessing')\n",
        "  encoder_inputs = preprocessing_layer(text_input)\n",
        "  encoder = hub.KerasLayer(tfhub_handle_encoder, trainable=True, name='BERT_encoder')\n",
        "  outputs = encoder(encoder_inputs)\n",
        "  net = outputs['pooled_output']\n",
        "  net = tf.keras.layers.Dropout(0.1)(net)\n",
        "  net = tf.keras.layers.Dense(1, activation=None, name='classifier')(net)\n",
        "  #net = tf.keras.layers.Dense(1, activation='tanh', name='classifier')(net)\n",
        "  return tf.keras.Model(text_input, net)\n",
        "\n",
        "def load_bert_to_keras(bert_model_name, do_fine_tuning):\n",
        "    #load pre-trained model to keras\n",
        "    tfhub_handle_encoder = map_name_to_handle[bert_model_name]\n",
        "    tfhub_handle_preprocess = map_model_to_preprocess[bert_model_name]\n",
        "    bert_preprocess_model = hub.KerasLayer(tfhub_handle_preprocess)\n",
        "    bert_model = hub.KerasLayer(tfhub_handle_encoder)\n",
        "    # build classifier model\n",
        "    text_input = tf.keras.layers.Input(shape=(), dtype=tf.string, name='text')\n",
        "    preprocessing_layer = hub.KerasLayer(tfhub_handle_preprocess, name='preprocessing')\n",
        "    encoder_inputs = preprocessing_layer(text_input)\n",
        "    encoder = hub.KerasLayer(tfhub_handle_encoder, trainable=do_fine_tuning, name='BERT_encoder')\n",
        "    outputs = encoder(encoder_inputs)\n",
        "    return outputs['pooled_output'], text_input"
      ],
      "execution_count": null,
      "outputs": []
    },
    {
      "cell_type": "code",
      "metadata": {
        "id": "fnEcf3fUeiyO"
      },
      "source": [
        "# put all the above in one function to initialize for each bert mode\n",
        "\n",
        "def bert_10_fold(epochs, init_lr, batch_size, create_classifier, bert_model_name = 'electra_base', do_fine_tuning = True, folds = 10): \n",
        "  print(bert_model_name)\n",
        "  # get average accuracy on test (k-fold)\n",
        "  accuracies = []\n",
        "  for fold in range(folds): \n",
        "    print('FOLD ', fold)\n",
        "    #load data - seed set upstream to 0 \n",
        "    train, test = stratified_10_fold_split(df, fold = fold, val = False, batch_size = batch_size) \n",
        "    # load bert model to keras\n",
        "    net, text_input = load_bert_to_keras(bert_model_name, do_fine_tuning)\n",
        "    # create rest of the layers / classifier\n",
        "    classifier_model = create_classifier(net, text_input)\n",
        "\n",
        "    #loss function & evaluation\n",
        "    loss = tf.keras.losses.BinaryCrossentropy()\n",
        "    metrics = tf.metrics.BinaryAccuracy()\n",
        "\n",
        "    # optimizer\n",
        "    steps_per_epoch = tf.data.experimental.cardinality(train).numpy()\n",
        "    num_train_steps = steps_per_epoch * epochs\n",
        "    num_warmup_steps = int(0.1*num_train_steps)\n",
        "    optimizer = optimization.create_optimizer(init_lr=init_lr,\n",
        "                                              num_train_steps=num_train_steps,\n",
        "                                              num_warmup_steps=num_warmup_steps,\n",
        "                                              optimizer_type='adamw')\n",
        "    # load BERT model\n",
        "    classifier_model.compile(optimizer=optimizer,\n",
        "                            loss=loss,\n",
        "                            metrics=metrics)\n",
        "    \n",
        "    # fit model and calculate accuracy on test    \n",
        "    history = classifier_model.fit(x=train, validation_data=test, epochs=epochs)\n",
        "    loss, accuracy = classifier_model.evaluate(test)\n",
        "    accuracies.append(accuracy)\n",
        "\n",
        "  return {bert_model_name: accuracies}, history, classifier_model"
      ],
      "execution_count": null,
      "outputs": []
    },
    {
      "cell_type": "code",
      "metadata": {
        "id": "ltrmMeL5pTJK"
      },
      "source": [
        "# bert baseline, no fine tuning\n",
        "bert_model_name = 'bert_en_uncased_L-12_H-768_A-12'\n",
        "epochs = 5\n",
        "init_lr = 3e-5\n",
        "batch_size = 32\n",
        "do_fine_tuning = False\n",
        "folds = 2\n",
        "\n",
        "def create_layers(net, text_input): \n",
        "  net = tf.keras.layers.Dropout(0.1)(net)\n",
        "  net = tf.keras.layers.Dense(1, activation='sigmoid', name='classifier')(net)\n",
        "  return tf.keras.Model(text_input, net)\n",
        "\n",
        "results, history, classifier_model = bert_10_fold(epochs=epochs, \n",
        "                                                  init_lr=init_lr, \n",
        "                                                  batch_size = batch_size, \n",
        "                                                  do_fine_tuning = do_fine_tuning, \n",
        "                                                  create_classifier = create_layers, \n",
        "                                                  bert_model_name = bert_model_name, \n",
        "                                                  folds = folds)"
      ],
      "execution_count": null,
      "outputs": []
    },
    {
      "cell_type": "code",
      "metadata": {
        "colab": {
          "base_uri": "https://localhost:8080/"
        },
        "id": "x5ylFJpCo8TV",
        "outputId": "56b3b070-dfd5-4f36-a7ce-5972f9da56dd"
      },
      "source": [
        "# electra baseline, no fine tuning\n",
        "bert_model_name = 'electra_base'\n",
        "epochs = 5\n",
        "init_lr = 3e-5\n",
        "batch_size = 32\n",
        "do_fine_tuning = False\n",
        "folds = 2\n",
        "\n",
        "def create_layers(net, text_input): \n",
        "  net = tf.keras.layers.Dropout(0.1)(net)\n",
        "  net = tf.keras.layers.Dense(1, activation='sigmoid', name='classifier')(net)\n",
        "  return tf.keras.Model(text_input, net)\n",
        "\n",
        "results, history, classifier_model = bert_10_fold(epochs=epochs, \n",
        "                                                  init_lr=init_lr, \n",
        "                                                  batch_size = batch_size, \n",
        "                                                  do_fine_tuning = do_fine_tuning, \n",
        "                                                  create_classifier = create_layers, \n",
        "                                                  bert_model_name = bert_model_name, \n",
        "                                                  folds = folds)"
      ],
      "execution_count": null,
      "outputs": [
        {
          "output_type": "stream",
          "text": [
            "electra_base\n",
            "FOLD  0\n",
            "Train  3062\n",
            "Test  340\n"
          ],
          "name": "stdout"
        },
        {
          "output_type": "stream",
          "text": [
            "INFO:absl:using Adamw optimizer\n",
            "INFO:absl:gradient_clip_norm=1.000000\n"
          ],
          "name": "stderr"
        },
        {
          "output_type": "stream",
          "text": [
            "Epoch 1/5\n",
            "96/96 [==============================] - 28s 220ms/step - loss: 0.6994 - binary_accuracy: 0.5199 - val_loss: 0.7052 - val_binary_accuracy: 0.5000\n",
            "Epoch 2/5\n",
            "96/96 [==============================] - 20s 213ms/step - loss: 0.6944 - binary_accuracy: 0.5144 - val_loss: 0.7037 - val_binary_accuracy: 0.4588\n",
            "Epoch 3/5\n",
            "96/96 [==============================] - 20s 214ms/step - loss: 0.6925 - binary_accuracy: 0.5259 - val_loss: 0.7033 - val_binary_accuracy: 0.4618\n",
            "Epoch 4/5\n",
            "96/96 [==============================] - 20s 213ms/step - loss: 0.6916 - binary_accuracy: 0.5197 - val_loss: 0.7031 - val_binary_accuracy: 0.4676\n",
            "Epoch 5/5\n",
            "96/96 [==============================] - 20s 213ms/step - loss: 0.6916 - binary_accuracy: 0.5349 - val_loss: 0.7031 - val_binary_accuracy: 0.4706\n",
            "11/11 [==============================] - 2s 185ms/step - loss: 0.7031 - binary_accuracy: 0.4706\n",
            "FOLD  1\n",
            "Train  3062\n",
            "Test  340\n"
          ],
          "name": "stdout"
        },
        {
          "output_type": "stream",
          "text": [
            "INFO:absl:using Adamw optimizer\n",
            "INFO:absl:gradient_clip_norm=1.000000\n"
          ],
          "name": "stderr"
        },
        {
          "output_type": "stream",
          "text": [
            "Epoch 1/5\n",
            "96/96 [==============================] - 28s 220ms/step - loss: 0.7327 - binary_accuracy: 0.5054 - val_loss: 0.7041 - val_binary_accuracy: 0.5147\n",
            "Epoch 2/5\n",
            "96/96 [==============================] - 20s 213ms/step - loss: 0.7067 - binary_accuracy: 0.4968 - val_loss: 0.6937 - val_binary_accuracy: 0.5176\n",
            "Epoch 3/5\n",
            "96/96 [==============================] - 20s 213ms/step - loss: 0.7040 - binary_accuracy: 0.5046 - val_loss: 0.6914 - val_binary_accuracy: 0.5118\n",
            "Epoch 4/5\n",
            "96/96 [==============================] - 20s 213ms/step - loss: 0.6988 - binary_accuracy: 0.5035 - val_loss: 0.6906 - val_binary_accuracy: 0.4971\n",
            "Epoch 5/5\n",
            "96/96 [==============================] - 20s 213ms/step - loss: 0.7028 - binary_accuracy: 0.4969 - val_loss: 0.6905 - val_binary_accuracy: 0.5029\n",
            "11/11 [==============================] - 2s 185ms/step - loss: 0.6905 - binary_accuracy: 0.5029\n"
          ],
          "name": "stdout"
        }
      ]
    },
    {
      "cell_type": "code",
      "metadata": {
        "colab": {
          "base_uri": "https://localhost:8080/"
        },
        "id": "KXpCzUs_qCGd",
        "outputId": "932b1cfb-d580-4d93-fe55-b86dc202f2b0"
      },
      "source": [
        "# bert baseline, fine tuning\n",
        "bert_model_name = 'bert_en_uncased_L-12_H-768_A-12'\n",
        "epochs = 3\n",
        "init_lr = 3e-5\n",
        "batch_size = 32\n",
        "do_fine_tuning = True\n",
        "folds = 2\n",
        "\n",
        "def create_layers(net, text_input): \n",
        "  net = tf.keras.layers.Dropout(0.1)(net)\n",
        "  net = tf.keras.layers.Dense(1, activation='sigmoid', name='classifier')(net)\n",
        "  return tf.keras.Model(text_input, net)\n",
        "\n",
        "results, history, classifier_model = bert_10_fold(epochs=epochs, \n",
        "                                                  init_lr=init_lr, \n",
        "                                                  batch_size = batch_size, \n",
        "                                                  do_fine_tuning = do_fine_tuning, \n",
        "                                                  create_classifier = create_layers, \n",
        "                                                  bert_model_name = bert_model_name, \n",
        "                                                  folds = folds)\n",
        "\n",
        "print('Average error ', np.mean(results[bert_model_name]))"
      ],
      "execution_count": null,
      "outputs": [
        {
          "output_type": "stream",
          "text": [
            "bert_en_uncased_L-12_H-768_A-12\n",
            "FOLD  0\n",
            "Train  3062\n",
            "Test  340\n"
          ],
          "name": "stdout"
        },
        {
          "output_type": "stream",
          "text": [
            "INFO:absl:using Adamw optimizer\n",
            "INFO:absl:gradient_clip_norm=1.000000\n"
          ],
          "name": "stderr"
        },
        {
          "output_type": "stream",
          "text": [
            "Epoch 1/3\n",
            "96/96 [==============================] - 68s 550ms/step - loss: 0.7003 - binary_accuracy: 0.5407 - val_loss: 0.6735 - val_binary_accuracy: 0.5618\n",
            "Epoch 2/3\n",
            "96/96 [==============================] - 52s 542ms/step - loss: 0.6348 - binary_accuracy: 0.6501 - val_loss: 0.7007 - val_binary_accuracy: 0.5941\n",
            "Epoch 3/3\n",
            "96/96 [==============================] - 52s 542ms/step - loss: 0.4998 - binary_accuracy: 0.7616 - val_loss: 0.7166 - val_binary_accuracy: 0.6176\n",
            "11/11 [==============================] - 2s 186ms/step - loss: 0.7166 - binary_accuracy: 0.6176\n",
            "FOLD  1\n",
            "Train  3062\n",
            "Test  340\n"
          ],
          "name": "stdout"
        },
        {
          "output_type": "stream",
          "text": [
            "INFO:absl:using Adamw optimizer\n",
            "INFO:absl:gradient_clip_norm=1.000000\n"
          ],
          "name": "stderr"
        },
        {
          "output_type": "stream",
          "text": [
            "Epoch 1/3\n",
            "96/96 [==============================] - 66s 549ms/step - loss: 0.6954 - binary_accuracy: 0.5302 - val_loss: 0.6471 - val_binary_accuracy: 0.6471\n",
            "Epoch 2/3\n",
            "96/96 [==============================] - 52s 542ms/step - loss: 0.6176 - binary_accuracy: 0.6559 - val_loss: 0.6424 - val_binary_accuracy: 0.6618\n",
            "Epoch 3/3\n",
            "96/96 [==============================] - 52s 542ms/step - loss: 0.4643 - binary_accuracy: 0.7823 - val_loss: 0.7318 - val_binary_accuracy: 0.6441\n",
            "11/11 [==============================] - 2s 185ms/step - loss: 0.7318 - binary_accuracy: 0.6441\n"
          ],
          "name": "stdout"
        }
      ]
    },
    {
      "cell_type": "code",
      "metadata": {
        "colab": {
          "base_uri": "https://localhost:8080/"
        },
        "id": "2CGIw3pRwF94",
        "outputId": "16565f33-9d7a-4c0e-997a-d0ceacf3c138"
      },
      "source": [
        "# bert baseline, fine tuning\n",
        "bert_model_name = 'bert_en_uncased_L-12_H-768_A-12'\n",
        "epochs = 4\n",
        "init_lr = 3e-5\n",
        "batch_size = 32\n",
        "do_fine_tuning = True\n",
        "folds = 2\n",
        "\n",
        "def create_layers(net, text_input): \n",
        "  net = tf.keras.layers.Dropout(0.1)(net)\n",
        "  net = tf.keras.layers.Dense(1, activation='sigmoid', name='classifier')(net)\n",
        "  return tf.keras.Model(text_input, net)\n",
        "\n",
        "results, history, classifier_model = bert_10_fold(epochs=epochs, \n",
        "                                                  init_lr=init_lr, \n",
        "                                                  batch_size = batch_size, \n",
        "                                                  do_fine_tuning = do_fine_tuning, \n",
        "                                                  create_classifier = create_layers, \n",
        "                                                  bert_model_name = bert_model_name, \n",
        "                                                  folds = folds)\n",
        "\n",
        "print('Average error ', np.mean(results[bert_model_name]))"
      ],
      "execution_count": null,
      "outputs": [
        {
          "output_type": "stream",
          "text": [
            "bert_en_uncased_L-12_H-768_A-12\n",
            "FOLD  0\n",
            "Train  3062\n",
            "Test  340\n"
          ],
          "name": "stdout"
        },
        {
          "output_type": "stream",
          "text": [
            "INFO:absl:using Adamw optimizer\n",
            "INFO:absl:gradient_clip_norm=1.000000\n"
          ],
          "name": "stderr"
        },
        {
          "output_type": "stream",
          "text": [
            "Epoch 1/4\n",
            "96/96 [==============================] - 67s 550ms/step - loss: 0.7049 - binary_accuracy: 0.5200 - val_loss: 0.6754 - val_binary_accuracy: 0.5647\n",
            "Epoch 2/4\n",
            "96/96 [==============================] - 52s 543ms/step - loss: 0.6378 - binary_accuracy: 0.6360 - val_loss: 0.6734 - val_binary_accuracy: 0.6000\n",
            "Epoch 3/4\n",
            "96/96 [==============================] - 52s 543ms/step - loss: 0.5116 - binary_accuracy: 0.7569 - val_loss: 0.7508 - val_binary_accuracy: 0.6265\n",
            "Epoch 4/4\n",
            "96/96 [==============================] - 52s 542ms/step - loss: 0.3748 - binary_accuracy: 0.8508 - val_loss: 0.8006 - val_binary_accuracy: 0.6265\n",
            "11/11 [==============================] - 2s 185ms/step - loss: 0.8006 - binary_accuracy: 0.6265\n",
            "FOLD  1\n",
            "Train  3062\n",
            "Test  340\n"
          ],
          "name": "stdout"
        },
        {
          "output_type": "stream",
          "text": [
            "INFO:absl:using Adamw optimizer\n",
            "INFO:absl:gradient_clip_norm=1.000000\n"
          ],
          "name": "stderr"
        },
        {
          "output_type": "stream",
          "text": [
            "Epoch 1/4\n",
            "96/96 [==============================] - 66s 550ms/step - loss: 0.7321 - binary_accuracy: 0.5033 - val_loss: 0.6526 - val_binary_accuracy: 0.6235\n",
            "Epoch 2/4\n",
            "96/96 [==============================] - 52s 543ms/step - loss: 0.6526 - binary_accuracy: 0.6149 - val_loss: 0.6410 - val_binary_accuracy: 0.6412\n",
            "Epoch 3/4\n",
            "96/96 [==============================] - 52s 542ms/step - loss: 0.5203 - binary_accuracy: 0.7486 - val_loss: 0.6989 - val_binary_accuracy: 0.6294\n",
            "Epoch 4/4\n",
            "96/96 [==============================] - 52s 542ms/step - loss: 0.3749 - binary_accuracy: 0.8372 - val_loss: 0.7241 - val_binary_accuracy: 0.6647\n",
            "11/11 [==============================] - 2s 188ms/step - loss: 0.7241 - binary_accuracy: 0.6647\n",
            "Average error  0.645588219165802\n"
          ],
          "name": "stdout"
        }
      ]
    },
    {
      "cell_type": "code",
      "metadata": {
        "colab": {
          "base_uri": "https://localhost:8080/"
        },
        "id": "PlAvLumDvCIE",
        "outputId": "e7da6ac7-a2e9-4a74-ffe7-81c878d1c58d"
      },
      "source": [
        "# bert baseline, fine tuning\n",
        "bert_model_name = 'bert_en_uncased_L-12_H-768_A-12'\n",
        "epochs = 4\n",
        "init_lr = 2e-5\n",
        "batch_size = 32\n",
        "do_fine_tuning = True\n",
        "folds = 2\n",
        "\n",
        "def create_layers(net, text_input): \n",
        "  net = tf.keras.layers.Dropout(0.1)(net)\n",
        "  net = tf.keras.layers.Dense(1, activation='sigmoid', name='classifier')(net)\n",
        "  return tf.keras.Model(text_input, net)\n",
        "\n",
        "results, history, classifier_model = bert_10_fold(epochs=epochs, \n",
        "                                                  init_lr=init_lr, \n",
        "                                                  batch_size = batch_size, \n",
        "                                                  do_fine_tuning = do_fine_tuning, \n",
        "                                                  create_classifier = create_layers, \n",
        "                                                  bert_model_name = bert_model_name, \n",
        "                                                  folds = folds)\n",
        "\n",
        "print('Average error ', np.mean(results[bert_model_name]))"
      ],
      "execution_count": null,
      "outputs": [
        {
          "output_type": "stream",
          "text": [
            "bert_en_uncased_L-12_H-768_A-12\n",
            "FOLD  0\n",
            "Train  3062\n",
            "Test  340\n"
          ],
          "name": "stdout"
        },
        {
          "output_type": "stream",
          "text": [
            "INFO:absl:using Adamw optimizer\n",
            "INFO:absl:gradient_clip_norm=1.000000\n"
          ],
          "name": "stderr"
        },
        {
          "output_type": "stream",
          "text": [
            "Epoch 1/4\n",
            "96/96 [==============================] - 67s 550ms/step - loss: 0.7524 - binary_accuracy: 0.5235 - val_loss: 0.6862 - val_binary_accuracy: 0.5441\n",
            "Epoch 2/4\n",
            "96/96 [==============================] - 52s 542ms/step - loss: 0.6646 - binary_accuracy: 0.5902 - val_loss: 0.6792 - val_binary_accuracy: 0.5882\n",
            "Epoch 3/4\n",
            "96/96 [==============================] - 52s 543ms/step - loss: 0.5710 - binary_accuracy: 0.7005 - val_loss: 0.7201 - val_binary_accuracy: 0.6000\n",
            "Epoch 4/4\n",
            "96/96 [==============================] - 52s 543ms/step - loss: 0.4784 - binary_accuracy: 0.7645 - val_loss: 0.7234 - val_binary_accuracy: 0.6235\n",
            "11/11 [==============================] - 2s 186ms/step - loss: 0.7234 - binary_accuracy: 0.6235\n",
            "FOLD  1\n",
            "Train  3062\n",
            "Test  340\n"
          ],
          "name": "stdout"
        },
        {
          "output_type": "stream",
          "text": [
            "INFO:absl:using Adamw optimizer\n",
            "INFO:absl:gradient_clip_norm=1.000000\n"
          ],
          "name": "stderr"
        },
        {
          "output_type": "stream",
          "text": [
            "Epoch 1/4\n",
            "96/96 [==============================] - 67s 550ms/step - loss: 0.6996 - binary_accuracy: 0.5405 - val_loss: 0.6428 - val_binary_accuracy: 0.6412\n",
            "Epoch 2/4\n",
            "96/96 [==============================] - 52s 543ms/step - loss: 0.6493 - binary_accuracy: 0.6139 - val_loss: 0.6360 - val_binary_accuracy: 0.6529\n",
            "Epoch 3/4\n",
            "96/96 [==============================] - 52s 542ms/step - loss: 0.5546 - binary_accuracy: 0.7123 - val_loss: 0.6444 - val_binary_accuracy: 0.6706\n",
            "Epoch 4/4\n",
            "96/96 [==============================] - 52s 543ms/step - loss: 0.4581 - binary_accuracy: 0.7993 - val_loss: 0.6637 - val_binary_accuracy: 0.6735\n",
            "11/11 [==============================] - 2s 186ms/step - loss: 0.6637 - binary_accuracy: 0.6735\n",
            "Average error  0.6485294103622437\n"
          ],
          "name": "stdout"
        }
      ]
    },
    {
      "cell_type": "code",
      "metadata": {
        "colab": {
          "base_uri": "https://localhost:8080/"
        },
        "id": "0Q1NGqLi0aGA",
        "outputId": "6629ce31-37f7-43fd-9275-b788d4aec7d0"
      },
      "source": [
        "# bert baseline, fine tuning\n",
        "bert_model_name = 'bert_en_uncased_L-12_H-768_A-12'\n",
        "epochs = 4\n",
        "init_lr = 3e-5\n",
        "batch_size = 16\n",
        "do_fine_tuning = True\n",
        "folds = 2\n",
        "\n",
        "def create_layers(net, text_input): \n",
        "  net = tf.keras.layers.Dropout(0.1)(net)\n",
        "  net = tf.keras.layers.Dense(1, activation='sigmoid', name='classifier')(net)\n",
        "  return tf.keras.Model(text_input, net)\n",
        "\n",
        "results, history, classifier_model = bert_10_fold(epochs=epochs, \n",
        "                                                  init_lr=init_lr, \n",
        "                                                  batch_size = batch_size, \n",
        "                                                  do_fine_tuning = do_fine_tuning, \n",
        "                                                  create_classifier = create_layers, \n",
        "                                                  bert_model_name = bert_model_name, \n",
        "                                                  folds = folds)\n",
        "\n",
        "print('Average error ', np.mean(results[bert_model_name]))"
      ],
      "execution_count": null,
      "outputs": [
        {
          "output_type": "stream",
          "text": [
            "bert_en_uncased_L-12_H-768_A-12\n",
            "FOLD  0\n",
            "Train  3062\n",
            "Test  340\n"
          ],
          "name": "stdout"
        },
        {
          "output_type": "stream",
          "text": [
            "INFO:absl:using Adamw optimizer\n",
            "INFO:absl:gradient_clip_norm=1.000000\n"
          ],
          "name": "stderr"
        },
        {
          "output_type": "stream",
          "text": [
            "Epoch 1/4\n",
            "192/192 [==============================] - 71s 290ms/step - loss: 0.7091 - binary_accuracy: 0.4935 - val_loss: 0.6783 - val_binary_accuracy: 0.5765\n",
            "Epoch 2/4\n",
            "192/192 [==============================] - 55s 286ms/step - loss: 0.6449 - binary_accuracy: 0.6073 - val_loss: 0.6948 - val_binary_accuracy: 0.6118\n",
            "Epoch 3/4\n",
            "192/192 [==============================] - 55s 286ms/step - loss: 0.4853 - binary_accuracy: 0.7565 - val_loss: 0.8270 - val_binary_accuracy: 0.6206\n",
            "Epoch 4/4\n",
            "192/192 [==============================] - 55s 285ms/step - loss: 0.2863 - binary_accuracy: 0.8813 - val_loss: 0.9968 - val_binary_accuracy: 0.6353\n",
            "22/22 [==============================] - 2s 91ms/step - loss: 0.9968 - binary_accuracy: 0.6353\n",
            "FOLD  1\n",
            "Train  3062\n",
            "Test  340\n"
          ],
          "name": "stdout"
        },
        {
          "output_type": "stream",
          "text": [
            "INFO:absl:using Adamw optimizer\n",
            "INFO:absl:gradient_clip_norm=1.000000\n"
          ],
          "name": "stderr"
        },
        {
          "output_type": "stream",
          "text": [
            "Epoch 1/4\n",
            "192/192 [==============================] - 71s 290ms/step - loss: 0.7075 - binary_accuracy: 0.5156 - val_loss: 0.6409 - val_binary_accuracy: 0.6147\n",
            "Epoch 2/4\n",
            "192/192 [==============================] - 55s 286ms/step - loss: 0.6324 - binary_accuracy: 0.6360 - val_loss: 0.6272 - val_binary_accuracy: 0.6588\n",
            "Epoch 3/4\n",
            "192/192 [==============================] - 55s 285ms/step - loss: 0.4621 - binary_accuracy: 0.7896 - val_loss: 0.8130 - val_binary_accuracy: 0.6500\n",
            "Epoch 4/4\n",
            "192/192 [==============================] - 55s 286ms/step - loss: 0.2963 - binary_accuracy: 0.8858 - val_loss: 1.0149 - val_binary_accuracy: 0.6471\n",
            "22/22 [==============================] - 2s 91ms/step - loss: 1.0149 - binary_accuracy: 0.6471\n",
            "Average error  0.6411764919757843\n"
          ],
          "name": "stdout"
        }
      ]
    },
    {
      "cell_type": "code",
      "metadata": {
        "colab": {
          "base_uri": "https://localhost:8080/"
        },
        "id": "ndf429Kr2xKv",
        "outputId": "1589332f-4060-443e-a4aa-7bacd3f1dd02"
      },
      "source": [
        "# bert baseline, fine tuning\n",
        "bert_model_name = 'bert_en_uncased_L-12_H-768_A-12'\n",
        "epochs = 4\n",
        "init_lr = 3e-5\n",
        "batch_size = 32\n",
        "do_fine_tuning = True\n",
        "folds = 2\n",
        "\n",
        "def create_layers(net, text_input): \n",
        "  net = tf.keras.layers.Dropout(0.2)(net)\n",
        "  net = tf.keras.layers.Dense(1, activation='sigmoid', name='classifier')(net)\n",
        "  return tf.keras.Model(text_input, net)\n",
        "\n",
        "results, history, classifier_model = bert_10_fold(epochs=epochs, \n",
        "                                                  init_lr=init_lr, \n",
        "                                                  batch_size = batch_size, \n",
        "                                                  do_fine_tuning = do_fine_tuning, \n",
        "                                                  create_classifier = create_layers, \n",
        "                                                  bert_model_name = bert_model_name, \n",
        "                                                  folds = folds)\n",
        "\n",
        "print('Average error ', np.mean(results[bert_model_name]))"
      ],
      "execution_count": null,
      "outputs": [
        {
          "output_type": "stream",
          "text": [
            "bert_en_uncased_L-12_H-768_A-12\n",
            "FOLD  0\n",
            "Train  3062\n",
            "Test  340\n"
          ],
          "name": "stdout"
        },
        {
          "output_type": "stream",
          "text": [
            "INFO:absl:using Adamw optimizer\n",
            "INFO:absl:gradient_clip_norm=1.000000\n"
          ],
          "name": "stderr"
        },
        {
          "output_type": "stream",
          "text": [
            "Epoch 1/4\n",
            "96/96 [==============================] - 67s 550ms/step - loss: 0.7391 - binary_accuracy: 0.4766 - val_loss: 0.6722 - val_binary_accuracy: 0.5971\n",
            "Epoch 2/4\n",
            "96/96 [==============================] - 52s 543ms/step - loss: 0.6542 - binary_accuracy: 0.6065 - val_loss: 0.6904 - val_binary_accuracy: 0.6235\n",
            "Epoch 3/4\n",
            "96/96 [==============================] - 52s 542ms/step - loss: 0.5462 - binary_accuracy: 0.7334 - val_loss: 0.7331 - val_binary_accuracy: 0.6118\n",
            "Epoch 4/4\n",
            "96/96 [==============================] - 52s 542ms/step - loss: 0.4221 - binary_accuracy: 0.8144 - val_loss: 0.8005 - val_binary_accuracy: 0.6147\n",
            "11/11 [==============================] - 2s 187ms/step - loss: 0.8005 - binary_accuracy: 0.6147\n",
            "FOLD  1\n",
            "Train  3062\n",
            "Test  340\n"
          ],
          "name": "stdout"
        },
        {
          "output_type": "stream",
          "text": [
            "INFO:absl:using Adamw optimizer\n",
            "INFO:absl:gradient_clip_norm=1.000000\n"
          ],
          "name": "stderr"
        },
        {
          "output_type": "stream",
          "text": [
            "Epoch 1/4\n",
            "96/96 [==============================] - 66s 549ms/step - loss: 0.7558 - binary_accuracy: 0.5229 - val_loss: 0.6481 - val_binary_accuracy: 0.6265\n",
            "Epoch 2/4\n",
            "96/96 [==============================] - 52s 542ms/step - loss: 0.6532 - binary_accuracy: 0.6190 - val_loss: 0.6659 - val_binary_accuracy: 0.6441\n",
            "Epoch 3/4\n",
            "96/96 [==============================] - 52s 542ms/step - loss: 0.5294 - binary_accuracy: 0.7355 - val_loss: 0.6943 - val_binary_accuracy: 0.6441\n",
            "Epoch 4/4\n",
            "96/96 [==============================] - 52s 543ms/step - loss: 0.4252 - binary_accuracy: 0.8075 - val_loss: 0.7046 - val_binary_accuracy: 0.6412\n",
            "11/11 [==============================] - 2s 187ms/step - loss: 0.7046 - binary_accuracy: 0.6412\n",
            "Average error  0.6279411613941193\n"
          ],
          "name": "stdout"
        }
      ]
    },
    {
      "cell_type": "code",
      "metadata": {
        "colab": {
          "base_uri": "https://localhost:8080/"
        },
        "id": "3ySI-3jeJhVs",
        "outputId": "889d8bd2-3dc6-49b1-fd6c-b631e57130de"
      },
      "source": [
        "# electra with fine-tuning\n",
        "bert_model_name = 'electra_base'\n",
        "epochs = 4\n",
        "init_lr = 2e-5\n",
        "batch_size = 32\n",
        "do_fine_tuning = True\n",
        "folds = 2\n",
        "\n",
        "def create_layers(net, text_input): \n",
        "  net = tf.keras.layers.Dropout(0.1)(net)\n",
        "  net = tf.keras.layers.Dense(1, activation='sigmoid', name='classifier')(net)\n",
        "  return tf.keras.Model(text_input, net)\n",
        "\n",
        "results, history, classifier_model = bert_10_fold(epochs=epochs, \n",
        "                                                  init_lr=init_lr, \n",
        "                                                  batch_size = batch_size, \n",
        "                                                  do_fine_tuning = do_fine_tuning, \n",
        "                                                  create_classifier = create_layers, \n",
        "                                                  bert_model_name = bert_model_name, \n",
        "                                                  folds = folds)\n",
        "\n",
        "print('Average error ', np.mean(results[bert_model_name]))"
      ],
      "execution_count": null,
      "outputs": [
        {
          "output_type": "stream",
          "text": [
            "electra_base\n",
            "FOLD  0\n",
            "Train  3062\n",
            "Test  340\n"
          ],
          "name": "stdout"
        },
        {
          "output_type": "stream",
          "text": [
            "INFO:absl:using Adamw optimizer\n",
            "INFO:absl:gradient_clip_norm=1.000000\n"
          ],
          "name": "stderr"
        },
        {
          "output_type": "stream",
          "text": [
            "Epoch 1/4\n",
            "96/96 [==============================] - 67s 551ms/step - loss: 0.7223 - binary_accuracy: 0.4873 - val_loss: 0.6723 - val_binary_accuracy: 0.5824\n",
            "Epoch 2/4\n",
            "96/96 [==============================] - 52s 543ms/step - loss: 0.6496 - binary_accuracy: 0.6185 - val_loss: 0.6700 - val_binary_accuracy: 0.6324\n",
            "Epoch 3/4\n",
            "96/96 [==============================] - 52s 543ms/step - loss: 0.5351 - binary_accuracy: 0.7265 - val_loss: 0.7188 - val_binary_accuracy: 0.6176\n",
            "Epoch 4/4\n",
            "96/96 [==============================] - 52s 543ms/step - loss: 0.4526 - binary_accuracy: 0.8029 - val_loss: 0.7171 - val_binary_accuracy: 0.6206\n",
            "11/11 [==============================] - 2s 186ms/step - loss: 0.7171 - binary_accuracy: 0.6206\n",
            "FOLD  1\n",
            "Train  3062\n",
            "Test  340\n"
          ],
          "name": "stdout"
        },
        {
          "output_type": "stream",
          "text": [
            "INFO:absl:using Adamw optimizer\n",
            "INFO:absl:gradient_clip_norm=1.000000\n"
          ],
          "name": "stderr"
        },
        {
          "output_type": "stream",
          "text": [
            "Epoch 1/4\n",
            "96/96 [==============================] - 67s 550ms/step - loss: 0.7191 - binary_accuracy: 0.5058 - val_loss: 0.6555 - val_binary_accuracy: 0.5971\n",
            "Epoch 2/4\n",
            "96/96 [==============================] - 52s 543ms/step - loss: 0.6509 - binary_accuracy: 0.6149 - val_loss: 0.6251 - val_binary_accuracy: 0.6441\n",
            "Epoch 3/4\n",
            "96/96 [==============================] - 52s 543ms/step - loss: 0.5908 - binary_accuracy: 0.6907 - val_loss: 0.6134 - val_binary_accuracy: 0.6824\n",
            "Epoch 4/4\n",
            "96/96 [==============================] - 52s 542ms/step - loss: 0.5114 - binary_accuracy: 0.7560 - val_loss: 0.6254 - val_binary_accuracy: 0.6647\n",
            "11/11 [==============================] - 2s 187ms/step - loss: 0.6254 - binary_accuracy: 0.6647\n",
            "Average error  0.6426470577716827\n"
          ],
          "name": "stdout"
        }
      ]
    },
    {
      "cell_type": "code",
      "metadata": {
        "colab": {
          "base_uri": "https://localhost:8080/"
        },
        "id": "VZmr4GLT7wDd",
        "outputId": "b6f032a7-fa88-4cf9-8157-8700090b47ef"
      },
      "source": [
        "# electra with fine-tuning\n",
        "bert_model_name = 'electra_base'\n",
        "epochs = 4\n",
        "init_lr = 2e-5\n",
        "batch_size = 16\n",
        "do_fine_tuning = True\n",
        "folds = 2\n",
        "\n",
        "def create_layers(net, text_input): \n",
        "  net = tf.keras.layers.Dropout(0.1)(net)\n",
        "  net = tf.keras.layers.Dense(1, activation='sigmoid', name='classifier')(net)\n",
        "  return tf.keras.Model(text_input, net)\n",
        "\n",
        "results, history, classifier_model = bert_10_fold(epochs=epochs, \n",
        "                                                  init_lr=init_lr, \n",
        "                                                  batch_size = batch_size, \n",
        "                                                  do_fine_tuning = do_fine_tuning, \n",
        "                                                  create_classifier = create_layers, \n",
        "                                                  bert_model_name = bert_model_name, \n",
        "                                                  folds = folds)\n",
        "\n",
        "print('Average error ', np.mean(results[bert_model_name]))"
      ],
      "execution_count": null,
      "outputs": [
        {
          "output_type": "stream",
          "text": [
            "electra_base\n",
            "FOLD  0\n",
            "Train  3062\n",
            "Test  340\n"
          ],
          "name": "stdout"
        },
        {
          "output_type": "stream",
          "text": [
            "INFO:absl:using Adamw optimizer\n",
            "INFO:absl:gradient_clip_norm=1.000000\n"
          ],
          "name": "stderr"
        },
        {
          "output_type": "stream",
          "text": [
            "Epoch 1/4\n",
            "192/192 [==============================] - 74s 290ms/step - loss: 0.7102 - binary_accuracy: 0.5062 - val_loss: 0.6992 - val_binary_accuracy: 0.5412\n",
            "Epoch 2/4\n",
            "192/192 [==============================] - 55s 286ms/step - loss: 0.6522 - binary_accuracy: 0.6113 - val_loss: 0.7016 - val_binary_accuracy: 0.6147\n",
            "Epoch 3/4\n",
            "192/192 [==============================] - 55s 286ms/step - loss: 0.4921 - binary_accuracy: 0.7597 - val_loss: 0.8453 - val_binary_accuracy: 0.6147\n",
            "Epoch 4/4\n",
            "192/192 [==============================] - 55s 286ms/step - loss: 0.3471 - binary_accuracy: 0.8588 - val_loss: 0.8401 - val_binary_accuracy: 0.6176\n",
            "22/22 [==============================] - 2s 92ms/step - loss: 0.8401 - binary_accuracy: 0.6176\n",
            "FOLD  1\n",
            "Train  3062\n",
            "Test  340\n"
          ],
          "name": "stdout"
        },
        {
          "output_type": "stream",
          "text": [
            "INFO:absl:using Adamw optimizer\n",
            "INFO:absl:gradient_clip_norm=1.000000\n"
          ],
          "name": "stderr"
        },
        {
          "output_type": "stream",
          "text": [
            "Epoch 1/4\n",
            "192/192 [==============================] - 69s 289ms/step - loss: 0.7031 - binary_accuracy: 0.5168 - val_loss: 0.6521 - val_binary_accuracy: 0.5912\n",
            "Epoch 2/4\n",
            "192/192 [==============================] - 55s 286ms/step - loss: 0.6426 - binary_accuracy: 0.6234 - val_loss: 0.6118 - val_binary_accuracy: 0.6824\n",
            "Epoch 3/4\n",
            "192/192 [==============================] - 55s 286ms/step - loss: 0.5018 - binary_accuracy: 0.7563 - val_loss: 0.6562 - val_binary_accuracy: 0.6882\n",
            "Epoch 4/4\n",
            "192/192 [==============================] - 55s 286ms/step - loss: 0.3671 - binary_accuracy: 0.8413 - val_loss: 0.7002 - val_binary_accuracy: 0.6971\n",
            "22/22 [==============================] - 2s 92ms/step - loss: 0.7002 - binary_accuracy: 0.6971\n",
            "Average error  0.6573529243469238\n"
          ],
          "name": "stdout"
        }
      ]
    },
    {
      "cell_type": "code",
      "metadata": {
        "colab": {
          "base_uri": "https://localhost:8080/"
        },
        "id": "Tj9OiKkK92pS",
        "outputId": "80cd36c4-ad9a-4fda-c360-ac7fe1a78257"
      },
      "source": [
        "# electra with fine-tuning\n",
        "bert_model_name = 'electra_base'\n",
        "epochs = 4\n",
        "init_lr = 2e-5\n",
        "batch_size = 8\n",
        "do_fine_tuning = True\n",
        "folds = 2\n",
        "\n",
        "def create_layers(net, text_input): \n",
        "  net = tf.keras.layers.Dropout(0.1)(net)\n",
        "  net = tf.keras.layers.Dense(1, activation='sigmoid', name='classifier')(net)\n",
        "  return tf.keras.Model(text_input, net)\n",
        "\n",
        "results, history, classifier_model = bert_10_fold(epochs=epochs, \n",
        "                                                  init_lr=init_lr, \n",
        "                                                  batch_size = batch_size, \n",
        "                                                  do_fine_tuning = do_fine_tuning, \n",
        "                                                  create_classifier = create_layers, \n",
        "                                                  bert_model_name = bert_model_name, \n",
        "                                                  folds = folds)\n",
        "\n",
        "print('Average error ', np.mean(results[bert_model_name]))"
      ],
      "execution_count": null,
      "outputs": [
        {
          "output_type": "stream",
          "text": [
            "electra_base\n",
            "FOLD  0\n",
            "Train  3062\n",
            "Test  340\n"
          ],
          "name": "stdout"
        },
        {
          "output_type": "stream",
          "text": [
            "INFO:absl:using Adamw optimizer\n",
            "INFO:absl:gradient_clip_norm=1.000000\n"
          ],
          "name": "stderr"
        },
        {
          "output_type": "stream",
          "text": [
            "Epoch 1/4\n",
            "383/383 [==============================] - 78s 165ms/step - loss: 0.7057 - binary_accuracy: 0.5254 - val_loss: 0.6516 - val_binary_accuracy: 0.6206\n",
            "Epoch 2/4\n",
            "383/383 [==============================] - 62s 163ms/step - loss: 0.6148 - binary_accuracy: 0.6757 - val_loss: 0.6861 - val_binary_accuracy: 0.6500\n",
            "Epoch 3/4\n",
            "383/383 [==============================] - 63s 163ms/step - loss: 0.4198 - binary_accuracy: 0.8272 - val_loss: 0.8328 - val_binary_accuracy: 0.6853\n",
            "Epoch 4/4\n",
            "383/383 [==============================] - 62s 163ms/step - loss: 0.2674 - binary_accuracy: 0.8968 - val_loss: 1.0019 - val_binary_accuracy: 0.6618\n",
            "43/43 [==============================] - 2s 49ms/step - loss: 1.0019 - binary_accuracy: 0.6618\n",
            "FOLD  1\n",
            "Train  3062\n",
            "Test  340\n"
          ],
          "name": "stdout"
        },
        {
          "output_type": "stream",
          "text": [
            "INFO:absl:using Adamw optimizer\n",
            "INFO:absl:gradient_clip_norm=1.000000\n"
          ],
          "name": "stderr"
        },
        {
          "output_type": "stream",
          "text": [
            "Epoch 1/4\n",
            "383/383 [==============================] - 79s 165ms/step - loss: 0.7088 - binary_accuracy: 0.5200 - val_loss: 0.6436 - val_binary_accuracy: 0.6235\n",
            "Epoch 2/4\n",
            "383/383 [==============================] - 62s 163ms/step - loss: 0.6164 - binary_accuracy: 0.6678 - val_loss: 0.6605 - val_binary_accuracy: 0.6618\n",
            "Epoch 3/4\n",
            "383/383 [==============================] - 62s 163ms/step - loss: 0.4145 - binary_accuracy: 0.8280 - val_loss: 0.7751 - val_binary_accuracy: 0.7088\n",
            "Epoch 4/4\n",
            "383/383 [==============================] - 62s 163ms/step - loss: 0.2490 - binary_accuracy: 0.9034 - val_loss: 0.9428 - val_binary_accuracy: 0.7000\n",
            "43/43 [==============================] - 2s 49ms/step - loss: 0.9428 - binary_accuracy: 0.7000\n",
            "Average error  0.6808823347091675\n"
          ],
          "name": "stdout"
        }
      ]
    },
    {
      "cell_type": "code",
      "metadata": {
        "colab": {
          "base_uri": "https://localhost:8080/"
        },
        "id": "bPOYPjO_ActA",
        "outputId": "f228c72b-d1cb-4bcc-fe0d-ce2b39531aac"
      },
      "source": [
        "# electra with fine-tuning\n",
        "bert_model_name = 'electra_base'\n",
        "epochs = 4\n",
        "init_lr = 2e-5\n",
        "batch_size = 8\n",
        "do_fine_tuning = True\n",
        "folds = 10\n",
        "\n",
        "def create_layers(net, text_input): \n",
        "  net = tf.keras.layers.Dropout(0.1)(net)\n",
        "  net = tf.keras.layers.Dense(1, activation='sigmoid', name='classifier')(net)\n",
        "  return tf.keras.Model(text_input, net)\n",
        "\n",
        "results, history, classifier_model = bert_10_fold(epochs=epochs, \n",
        "                                                  init_lr=init_lr, \n",
        "                                                  batch_size = batch_size, \n",
        "                                                  do_fine_tuning = do_fine_tuning, \n",
        "                                                  create_classifier = create_layers, \n",
        "                                                  bert_model_name = bert_model_name, \n",
        "                                                  folds = folds)\n",
        "\n",
        "print('Average error ', np.mean(results[bert_model_name]))"
      ],
      "execution_count": null,
      "outputs": [
        {
          "output_type": "stream",
          "text": [
            "electra_base\n",
            "FOLD  0\n",
            "Train  3062\n",
            "Test  340\n"
          ],
          "name": "stdout"
        },
        {
          "output_type": "stream",
          "text": [
            "INFO:absl:using Adamw optimizer\n",
            "INFO:absl:gradient_clip_norm=1.000000\n"
          ],
          "name": "stderr"
        },
        {
          "output_type": "stream",
          "text": [
            "Epoch 1/4\n",
            "383/383 [==============================] - 78s 165ms/step - loss: 0.7086 - binary_accuracy: 0.5139 - val_loss: 0.6642 - val_binary_accuracy: 0.5912\n",
            "Epoch 2/4\n",
            "383/383 [==============================] - 62s 162ms/step - loss: 0.6008 - binary_accuracy: 0.6650 - val_loss: 0.7506 - val_binary_accuracy: 0.6353\n",
            "Epoch 3/4\n",
            "383/383 [==============================] - 62s 163ms/step - loss: 0.4043 - binary_accuracy: 0.8273 - val_loss: 1.0335 - val_binary_accuracy: 0.6471\n",
            "Epoch 4/4\n",
            "383/383 [==============================] - 62s 163ms/step - loss: 0.2620 - binary_accuracy: 0.9054 - val_loss: 1.1740 - val_binary_accuracy: 0.6500\n",
            "43/43 [==============================] - 2s 50ms/step - loss: 1.1740 - binary_accuracy: 0.6500\n",
            "FOLD  1\n",
            "Train  3062\n",
            "Test  340\n"
          ],
          "name": "stdout"
        },
        {
          "output_type": "stream",
          "text": [
            "INFO:absl:using Adamw optimizer\n",
            "INFO:absl:gradient_clip_norm=1.000000\n"
          ],
          "name": "stderr"
        },
        {
          "output_type": "stream",
          "text": [
            "Epoch 1/4\n",
            "383/383 [==============================] - 77s 164ms/step - loss: 0.7081 - binary_accuracy: 0.5246 - val_loss: 0.6329 - val_binary_accuracy: 0.6676\n",
            "Epoch 2/4\n",
            "383/383 [==============================] - 62s 163ms/step - loss: 0.6200 - binary_accuracy: 0.6552 - val_loss: 0.7080 - val_binary_accuracy: 0.6912\n",
            "Epoch 3/4\n",
            "383/383 [==============================] - 62s 163ms/step - loss: 0.4278 - binary_accuracy: 0.8119 - val_loss: 0.8339 - val_binary_accuracy: 0.7059\n",
            "Epoch 4/4\n",
            "383/383 [==============================] - 62s 163ms/step - loss: 0.2461 - binary_accuracy: 0.9059 - val_loss: 0.9735 - val_binary_accuracy: 0.6853\n",
            "43/43 [==============================] - 2s 50ms/step - loss: 0.9735 - binary_accuracy: 0.6853\n",
            "FOLD  2\n",
            "Train  3062\n",
            "Test  340\n"
          ],
          "name": "stdout"
        },
        {
          "output_type": "stream",
          "text": [
            "INFO:absl:using Adamw optimizer\n",
            "INFO:absl:gradient_clip_norm=1.000000\n"
          ],
          "name": "stderr"
        },
        {
          "output_type": "stream",
          "text": [
            "Epoch 1/4\n",
            "383/383 [==============================] - 78s 164ms/step - loss: 0.6990 - binary_accuracy: 0.5238 - val_loss: 0.6273 - val_binary_accuracy: 0.6706\n",
            "Epoch 2/4\n",
            "383/383 [==============================] - 62s 163ms/step - loss: 0.6121 - binary_accuracy: 0.6542 - val_loss: 0.6669 - val_binary_accuracy: 0.6559\n",
            "Epoch 3/4\n",
            "383/383 [==============================] - 62s 162ms/step - loss: 0.3999 - binary_accuracy: 0.8173 - val_loss: 0.8035 - val_binary_accuracy: 0.6500\n",
            "Epoch 4/4\n",
            "383/383 [==============================] - 62s 162ms/step - loss: 0.2219 - binary_accuracy: 0.9159 - val_loss: 1.0802 - val_binary_accuracy: 0.6647\n",
            "43/43 [==============================] - 2s 49ms/step - loss: 1.0802 - binary_accuracy: 0.6647\n",
            "FOLD  3\n",
            "Train  3062\n",
            "Test  340\n"
          ],
          "name": "stdout"
        },
        {
          "output_type": "stream",
          "text": [
            "INFO:absl:using Adamw optimizer\n",
            "INFO:absl:gradient_clip_norm=1.000000\n"
          ],
          "name": "stderr"
        },
        {
          "output_type": "stream",
          "text": [
            "Epoch 1/4\n",
            "383/383 [==============================] - 77s 164ms/step - loss: 0.7040 - binary_accuracy: 0.5009 - val_loss: 0.6691 - val_binary_accuracy: 0.5941\n",
            "Epoch 2/4\n",
            "383/383 [==============================] - 62s 163ms/step - loss: 0.6111 - binary_accuracy: 0.6604 - val_loss: 0.7006 - val_binary_accuracy: 0.6618\n",
            "Epoch 3/4\n",
            "383/383 [==============================] - 62s 162ms/step - loss: 0.4446 - binary_accuracy: 0.7897 - val_loss: 0.9054 - val_binary_accuracy: 0.6676\n",
            "Epoch 4/4\n",
            "383/383 [==============================] - 62s 163ms/step - loss: 0.3079 - binary_accuracy: 0.8789 - val_loss: 1.0062 - val_binary_accuracy: 0.6824\n",
            "43/43 [==============================] - 2s 49ms/step - loss: 1.0062 - binary_accuracy: 0.6824\n",
            "FOLD  4\n",
            "Train  3062\n",
            "Test  340\n"
          ],
          "name": "stdout"
        },
        {
          "output_type": "stream",
          "text": [
            "INFO:absl:using Adamw optimizer\n",
            "INFO:absl:gradient_clip_norm=1.000000\n"
          ],
          "name": "stderr"
        },
        {
          "output_type": "stream",
          "text": [
            "Epoch 1/4\n",
            "383/383 [==============================] - 78s 165ms/step - loss: 0.7105 - binary_accuracy: 0.5082 - val_loss: 0.6554 - val_binary_accuracy: 0.6265\n",
            "Epoch 2/4\n",
            "383/383 [==============================] - 62s 163ms/step - loss: 0.6064 - binary_accuracy: 0.6790 - val_loss: 0.7699 - val_binary_accuracy: 0.6353\n",
            "Epoch 3/4\n",
            "383/383 [==============================] - 62s 162ms/step - loss: 0.4233 - binary_accuracy: 0.8168 - val_loss: 1.0356 - val_binary_accuracy: 0.6500\n",
            "Epoch 4/4\n",
            "383/383 [==============================] - 62s 162ms/step - loss: 0.2664 - binary_accuracy: 0.8983 - val_loss: 1.2678 - val_binary_accuracy: 0.6588\n",
            "43/43 [==============================] - 2s 49ms/step - loss: 1.2678 - binary_accuracy: 0.6588\n",
            "FOLD  5\n",
            "Train  3062\n",
            "Test  340\n"
          ],
          "name": "stdout"
        },
        {
          "output_type": "stream",
          "text": [
            "INFO:absl:using Adamw optimizer\n",
            "INFO:absl:gradient_clip_norm=1.000000\n"
          ],
          "name": "stderr"
        },
        {
          "output_type": "stream",
          "text": [
            "Epoch 1/4\n",
            "383/383 [==============================] - 80s 165ms/step - loss: 0.6954 - binary_accuracy: 0.5374 - val_loss: 0.6764 - val_binary_accuracy: 0.6294\n",
            "Epoch 2/4\n",
            "383/383 [==============================] - 62s 163ms/step - loss: 0.6025 - binary_accuracy: 0.6647 - val_loss: 0.7331 - val_binary_accuracy: 0.6324\n",
            "Epoch 3/4\n",
            "383/383 [==============================] - 62s 162ms/step - loss: 0.4691 - binary_accuracy: 0.7767 - val_loss: 0.9020 - val_binary_accuracy: 0.6412\n",
            "Epoch 4/4\n",
            "383/383 [==============================] - 62s 163ms/step - loss: 0.3085 - binary_accuracy: 0.8747 - val_loss: 1.0677 - val_binary_accuracy: 0.6294\n",
            "43/43 [==============================] - 2s 50ms/step - loss: 1.0677 - binary_accuracy: 0.6294\n",
            "FOLD  6\n",
            "Train  3062\n",
            "Test  340\n"
          ],
          "name": "stdout"
        },
        {
          "output_type": "stream",
          "text": [
            "INFO:absl:using Adamw optimizer\n",
            "INFO:absl:gradient_clip_norm=1.000000\n"
          ],
          "name": "stderr"
        },
        {
          "output_type": "stream",
          "text": [
            "Epoch 1/4\n",
            "383/383 [==============================] - 77s 165ms/step - loss: 0.6923 - binary_accuracy: 0.5578 - val_loss: 0.6370 - val_binary_accuracy: 0.6353\n",
            "Epoch 2/4\n",
            "383/383 [==============================] - 62s 162ms/step - loss: 0.6136 - binary_accuracy: 0.6596 - val_loss: 0.6941 - val_binary_accuracy: 0.6471\n",
            "Epoch 3/4\n",
            "383/383 [==============================] - 62s 163ms/step - loss: 0.4159 - binary_accuracy: 0.8194 - val_loss: 0.7226 - val_binary_accuracy: 0.6706\n",
            "Epoch 4/4\n",
            "383/383 [==============================] - 63s 163ms/step - loss: 0.2351 - binary_accuracy: 0.9022 - val_loss: 0.9984 - val_binary_accuracy: 0.6676\n",
            "43/43 [==============================] - 2s 52ms/step - loss: 0.9984 - binary_accuracy: 0.6676\n",
            "FOLD  7\n",
            "Train  3062\n",
            "Test  340\n"
          ],
          "name": "stdout"
        },
        {
          "output_type": "stream",
          "text": [
            "INFO:absl:using Adamw optimizer\n",
            "INFO:absl:gradient_clip_norm=1.000000\n"
          ],
          "name": "stderr"
        },
        {
          "output_type": "stream",
          "text": [
            "Epoch 1/4\n",
            "383/383 [==============================] - 80s 166ms/step - loss: 0.7120 - binary_accuracy: 0.5134 - val_loss: 0.6343 - val_binary_accuracy: 0.6294\n",
            "Epoch 2/4\n",
            "383/383 [==============================] - 63s 165ms/step - loss: 0.5991 - binary_accuracy: 0.6719 - val_loss: 0.6159 - val_binary_accuracy: 0.6853\n",
            "Epoch 3/4\n",
            "383/383 [==============================] - 63s 165ms/step - loss: 0.4143 - binary_accuracy: 0.8146 - val_loss: 0.8668 - val_binary_accuracy: 0.6559\n",
            "Epoch 4/4\n",
            "383/383 [==============================] - 63s 165ms/step - loss: 0.2307 - binary_accuracy: 0.9009 - val_loss: 1.2097 - val_binary_accuracy: 0.6471\n",
            "43/43 [==============================] - 2s 52ms/step - loss: 1.2097 - binary_accuracy: 0.6471\n",
            "FOLD  8\n",
            "Train  3062\n",
            "Test  340\n"
          ],
          "name": "stdout"
        },
        {
          "output_type": "stream",
          "text": [
            "INFO:absl:using Adamw optimizer\n",
            "INFO:absl:gradient_clip_norm=1.000000\n"
          ],
          "name": "stderr"
        },
        {
          "output_type": "stream",
          "text": [
            "Epoch 1/4\n",
            "383/383 [==============================] - 83s 167ms/step - loss: 0.7146 - binary_accuracy: 0.4982 - val_loss: 0.6439 - val_binary_accuracy: 0.6324\n",
            "Epoch 2/4\n",
            "383/383 [==============================] - 63s 165ms/step - loss: 0.6060 - binary_accuracy: 0.6685 - val_loss: 0.7973 - val_binary_accuracy: 0.6118\n",
            "Epoch 3/4\n",
            "383/383 [==============================] - 63s 165ms/step - loss: 0.4187 - binary_accuracy: 0.8123 - val_loss: 1.0211 - val_binary_accuracy: 0.6441\n",
            "Epoch 4/4\n",
            "383/383 [==============================] - 63s 165ms/step - loss: 0.2782 - binary_accuracy: 0.8910 - val_loss: 1.1132 - val_binary_accuracy: 0.6765\n",
            "43/43 [==============================] - 2s 52ms/step - loss: 1.1132 - binary_accuracy: 0.6765\n",
            "FOLD  9\n",
            "Train  3062\n",
            "Test  340\n"
          ],
          "name": "stdout"
        },
        {
          "output_type": "stream",
          "text": [
            "INFO:absl:using Adamw optimizer\n",
            "INFO:absl:gradient_clip_norm=1.000000\n"
          ],
          "name": "stderr"
        },
        {
          "output_type": "stream",
          "text": [
            "Epoch 1/4\n",
            "383/383 [==============================] - 80s 167ms/step - loss: 0.7125 - binary_accuracy: 0.5173 - val_loss: 0.6424 - val_binary_accuracy: 0.6294\n",
            "Epoch 2/4\n",
            "383/383 [==============================] - 63s 164ms/step - loss: 0.6040 - binary_accuracy: 0.6729 - val_loss: 0.7064 - val_binary_accuracy: 0.6471\n",
            "Epoch 3/4\n",
            "383/383 [==============================] - 63s 165ms/step - loss: 0.3997 - binary_accuracy: 0.8156 - val_loss: 0.9631 - val_binary_accuracy: 0.6324\n",
            "Epoch 4/4\n",
            "383/383 [==============================] - 63s 164ms/step - loss: 0.2375 - binary_accuracy: 0.9036 - val_loss: 1.1594 - val_binary_accuracy: 0.6529\n",
            "43/43 [==============================] - 2s 50ms/step - loss: 1.1594 - binary_accuracy: 0.6529\n",
            "Average error  0.6614705860614777\n"
          ],
          "name": "stdout"
        }
      ]
    },
    {
      "cell_type": "code",
      "metadata": {
        "id": "uTdeFYZMANG_"
      },
      "source": [
        "# electra with fine-tuning\n",
        "bert_model_name = 'electra_base'\n",
        "epochs = 4\n",
        "init_lr = 2e-5\n",
        "batch_size = 8\n",
        "do_fine_tuning = True\n",
        "folds = 2\n",
        "\n",
        "def create_layers(net, text_input): \n",
        "  net = tf.keras.layers.Dropout(0.2)(net)\n",
        "  net = tf.keras.layers.Dense(1, activation='sigmoid', name='classifier')(net)\n",
        "  return tf.keras.Model(text_input, net)\n",
        "\n",
        "results, history, classifier_model = bert_10_fold(epochs=epochs, \n",
        "                                                  init_lr=init_lr, \n",
        "                                                  batch_size = batch_size, \n",
        "                                                  do_fine_tuning = do_fine_tuning, \n",
        "                                                  create_classifier = create_layers, \n",
        "                                                  bert_model_name = bert_model_name, \n",
        "                                                  folds = folds)\n",
        "\n",
        "print('Average error ', np.mean(results[bert_model_name]))"
      ],
      "execution_count": null,
      "outputs": []
    },
    {
      "cell_type": "code",
      "metadata": {
        "colab": {
          "base_uri": "https://localhost:8080/"
        },
        "id": "pvbDjrJRCo8d",
        "outputId": "d0da3d39-2c53-4df0-c50e-3d8e92b1bbf9"
      },
      "source": [
        "# electra with fine-tuning, regularization\n",
        "bert_model_name = 'electra_base'\n",
        "epochs = 4\n",
        "init_lr = 2e-5\n",
        "batch_size = 8\n",
        "do_fine_tuning = True\n",
        "folds = 2\n",
        "\n",
        "def create_layers(net, text_input): \n",
        "  net = tf.keras.layers.Dropout(0.2)(net)\n",
        "  net = tf.keras.layers.Dense(1, activation='sigmoid', name='classifier', \n",
        "                              kernel_regularizer=tf.keras.regularizers.l2(0.01)\n",
        "                              )(net)\n",
        "  return tf.keras.Model(text_input, net)\n",
        "#tf.keras.regularizers.L1L2(l1=0.01, l2=0.01)\n",
        "results, history, classifier_model = bert_10_fold(epochs=epochs, \n",
        "                                                  init_lr=init_lr, \n",
        "                                                  batch_size = batch_size, \n",
        "                                                  do_fine_tuning = do_fine_tuning, \n",
        "                                                  create_classifier = create_layers, \n",
        "                                                  bert_model_name = bert_model_name, \n",
        "                                                  folds = folds)\n",
        "\n",
        "print('Average error ', np.mean(results[bert_model_name]))"
      ],
      "execution_count": null,
      "outputs": [
        {
          "output_type": "stream",
          "text": [
            "electra_base\n",
            "FOLD  0\n",
            "Train  3062\n",
            "Test  340\n"
          ],
          "name": "stdout"
        },
        {
          "output_type": "stream",
          "text": [
            "INFO:absl:using Adamw optimizer\n",
            "INFO:absl:gradient_clip_norm=1.000000\n"
          ],
          "name": "stderr"
        },
        {
          "output_type": "stream",
          "text": [
            "Epoch 1/4\n",
            "383/383 [==============================] - 80s 165ms/step - loss: 0.7439 - binary_accuracy: 0.4972 - val_loss: 0.6977 - val_binary_accuracy: 0.6029\n",
            "Epoch 2/4\n",
            "383/383 [==============================] - 63s 164ms/step - loss: 0.6288 - binary_accuracy: 0.6692 - val_loss: 0.6961 - val_binary_accuracy: 0.6647\n",
            "Epoch 3/4\n",
            "383/383 [==============================] - 63s 164ms/step - loss: 0.4410 - binary_accuracy: 0.8128 - val_loss: 0.9576 - val_binary_accuracy: 0.6294\n",
            "Epoch 4/4\n",
            "383/383 [==============================] - 63s 164ms/step - loss: 0.2615 - binary_accuracy: 0.9101 - val_loss: 1.3305 - val_binary_accuracy: 0.6118\n",
            "43/43 [==============================] - 2s 51ms/step - loss: 1.3305 - binary_accuracy: 0.6118\n",
            "FOLD  1\n",
            "Train  3062\n",
            "Test  340\n"
          ],
          "name": "stdout"
        },
        {
          "output_type": "stream",
          "text": [
            "INFO:absl:using Adamw optimizer\n",
            "INFO:absl:gradient_clip_norm=1.000000\n"
          ],
          "name": "stderr"
        },
        {
          "output_type": "stream",
          "text": [
            "Epoch 1/4\n",
            "383/383 [==============================] - 77s 165ms/step - loss: 0.7325 - binary_accuracy: 0.4937 - val_loss: 0.6556 - val_binary_accuracy: 0.6500\n",
            "Epoch 2/4\n",
            "383/383 [==============================] - 63s 164ms/step - loss: 0.6493 - binary_accuracy: 0.6494 - val_loss: 0.6374 - val_binary_accuracy: 0.6824\n",
            "Epoch 3/4\n",
            "383/383 [==============================] - 63s 163ms/step - loss: 0.4596 - binary_accuracy: 0.7944 - val_loss: 0.8092 - val_binary_accuracy: 0.6912\n",
            "Epoch 4/4\n",
            "383/383 [==============================] - 63s 164ms/step - loss: 0.2960 - binary_accuracy: 0.8904 - val_loss: 0.8995 - val_binary_accuracy: 0.7000\n",
            "43/43 [==============================] - 2s 50ms/step - loss: 0.8995 - binary_accuracy: 0.7000\n",
            "Average error  0.6558823585510254\n"
          ],
          "name": "stdout"
        }
      ]
    },
    {
      "cell_type": "code",
      "metadata": {
        "colab": {
          "base_uri": "https://localhost:8080/"
        },
        "id": "wn0XKlqyE85n",
        "outputId": "24158eb5-b0e0-43e5-83db-b71c185b6340"
      },
      "source": [
        "# electra with fine-tuning\n",
        "bert_model_name = 'electra_base'\n",
        "epochs = 4\n",
        "init_lr = 2e-5\n",
        "batch_size = 8\n",
        "do_fine_tuning = True\n",
        "folds = 2\n",
        "\n",
        "def create_layers(net, text_input): \n",
        "  net = tf.keras.layers.Dropout(0.1)(net)\n",
        "  net = tf.keras.layers.Dense(1, activation='sigmoid', name='classifier', \n",
        "                              kernel_regularizer=tf.keras.regularizers.L1L2(l1=0.01, l2=0.01)\n",
        "                              )(net)\n",
        "  return tf.keras.Model(text_input, net)\n",
        "\n",
        "results, history, classifier_model = bert_10_fold(epochs=epochs, \n",
        "                                                  init_lr=init_lr, \n",
        "                                                  batch_size = batch_size, \n",
        "                                                  do_fine_tuning = do_fine_tuning, \n",
        "                                                  create_classifier = create_layers, \n",
        "                                                  bert_model_name = bert_model_name, \n",
        "                                                  folds = folds)\n",
        "\n",
        "print('Average error ', np.mean(results[bert_model_name]))"
      ],
      "execution_count": null,
      "outputs": [
        {
          "output_type": "stream",
          "text": [
            "electra_base\n",
            "FOLD  0\n",
            "Train  3062\n",
            "Test  340\n"
          ],
          "name": "stdout"
        },
        {
          "output_type": "stream",
          "text": [
            "INFO:absl:using Adamw optimizer\n",
            "INFO:absl:gradient_clip_norm=1.000000\n"
          ],
          "name": "stderr"
        },
        {
          "output_type": "stream",
          "text": [
            "Epoch 1/4\n",
            "383/383 [==============================] - 80s 165ms/step - loss: 1.0369 - binary_accuracy: 0.5390 - val_loss: 0.9898 - val_binary_accuracy: 0.6118\n",
            "Epoch 2/4\n",
            "383/383 [==============================] - 63s 163ms/step - loss: 0.9364 - binary_accuracy: 0.6748 - val_loss: 1.0130 - val_binary_accuracy: 0.6588\n",
            "Epoch 3/4\n",
            "383/383 [==============================] - 63s 163ms/step - loss: 0.7527 - binary_accuracy: 0.8117 - val_loss: 1.2511 - val_binary_accuracy: 0.6559\n",
            "Epoch 4/4\n",
            "383/383 [==============================] - 62s 163ms/step - loss: 0.5728 - binary_accuracy: 0.9103 - val_loss: 1.4447 - val_binary_accuracy: 0.6706\n",
            "43/43 [==============================] - 2s 50ms/step - loss: 1.4447 - binary_accuracy: 0.6706\n",
            "FOLD  1\n",
            "Train  3062\n",
            "Test  340\n"
          ],
          "name": "stdout"
        },
        {
          "output_type": "stream",
          "text": [
            "INFO:absl:using Adamw optimizer\n",
            "INFO:absl:gradient_clip_norm=1.000000\n"
          ],
          "name": "stderr"
        },
        {
          "output_type": "stream",
          "text": [
            "Epoch 1/4\n",
            "383/383 [==============================] - 79s 165ms/step - loss: 1.0758 - binary_accuracy: 0.4985 - val_loss: 0.9979 - val_binary_accuracy: 0.6353\n",
            "Epoch 2/4\n",
            "383/383 [==============================] - 62s 163ms/step - loss: 0.9728 - binary_accuracy: 0.6563 - val_loss: 0.9663 - val_binary_accuracy: 0.6912\n",
            "Epoch 3/4\n",
            "383/383 [==============================] - 62s 163ms/step - loss: 0.7757 - binary_accuracy: 0.8035 - val_loss: 1.0450 - val_binary_accuracy: 0.7059\n",
            "Epoch 4/4\n",
            "383/383 [==============================] - 62s 163ms/step - loss: 0.5913 - binary_accuracy: 0.9007 - val_loss: 1.2429 - val_binary_accuracy: 0.7206\n",
            "43/43 [==============================] - 2s 50ms/step - loss: 1.2429 - binary_accuracy: 0.7206\n",
            "Average error  0.695588231086731\n"
          ],
          "name": "stdout"
        }
      ]
    },
    {
      "cell_type": "code",
      "metadata": {
        "colab": {
          "base_uri": "https://localhost:8080/"
        },
        "id": "RzwbT3NjGSmE",
        "outputId": "984ddbb6-8e29-475d-f3d3-c3dda297380f"
      },
      "source": [
        "# electra with fine-tuning, relu\n",
        "bert_model_name = 'electra_base'\n",
        "epochs = 4\n",
        "init_lr = 2e-5\n",
        "batch_size = 8\n",
        "do_fine_tuning = True\n",
        "folds = 2\n",
        "\n",
        "def create_layers(net, text_input): \n",
        "  net = tf.keras.layers.Dense(256, activation = 'relu')(net)\n",
        "  net = tf.keras.layers.Dropout(0.1)(net)\n",
        "  net = tf.keras.layers.Dense(1, activation='sigmoid', name='classifier', \n",
        "                              kernel_regularizer=tf.keras.regularizers.L1L2(l1=0.01, l2=0.01)\n",
        "                              )(net)\n",
        "  return tf.keras.Model(text_input, net)\n",
        "\n",
        "results, history, classifier_model = bert_10_fold(epochs=epochs, \n",
        "                                                  init_lr=init_lr, \n",
        "                                                  batch_size = batch_size, \n",
        "                                                  do_fine_tuning = do_fine_tuning, \n",
        "                                                  create_classifier = create_layers, \n",
        "                                                  bert_model_name = bert_model_name, \n",
        "                                                  folds = folds)\n",
        "\n",
        "print('Average error ', np.mean(results[bert_model_name]))"
      ],
      "execution_count": null,
      "outputs": [
        {
          "output_type": "stream",
          "text": [
            "electra_base\n",
            "FOLD  0\n",
            "Train  3062\n",
            "Test  340\n"
          ],
          "name": "stdout"
        },
        {
          "output_type": "stream",
          "text": [
            "INFO:absl:using Adamw optimizer\n",
            "INFO:absl:gradient_clip_norm=1.000000\n"
          ],
          "name": "stderr"
        },
        {
          "output_type": "stream",
          "text": [
            "Epoch 1/4\n",
            "383/383 [==============================] - 81s 166ms/step - loss: 0.9102 - binary_accuracy: 0.5336 - val_loss: 0.8693 - val_binary_accuracy: 0.6029\n",
            "Epoch 2/4\n",
            "383/383 [==============================] - 63s 164ms/step - loss: 0.8254 - binary_accuracy: 0.6699 - val_loss: 0.8735 - val_binary_accuracy: 0.6353\n",
            "Epoch 3/4\n",
            "383/383 [==============================] - 63s 164ms/step - loss: 0.6634 - binary_accuracy: 0.7973 - val_loss: 1.0584 - val_binary_accuracy: 0.6529\n",
            "Epoch 4/4\n",
            "383/383 [==============================] - 63s 164ms/step - loss: 0.4962 - binary_accuracy: 0.8868 - val_loss: 1.2075 - val_binary_accuracy: 0.6588\n",
            "43/43 [==============================] - 2s 51ms/step - loss: 1.2075 - binary_accuracy: 0.6588\n",
            "FOLD  1\n",
            "Train  3062\n",
            "Test  340\n"
          ],
          "name": "stdout"
        },
        {
          "output_type": "stream",
          "text": [
            "INFO:absl:using Adamw optimizer\n",
            "INFO:absl:gradient_clip_norm=1.000000\n"
          ],
          "name": "stderr"
        },
        {
          "output_type": "stream",
          "text": [
            "Epoch 1/4\n",
            "383/383 [==============================] - 78s 166ms/step - loss: 0.9269 - binary_accuracy: 0.5269 - val_loss: 0.8690 - val_binary_accuracy: 0.6441\n",
            "Epoch 2/4\n",
            "383/383 [==============================] - 63s 164ms/step - loss: 0.8412 - binary_accuracy: 0.6426 - val_loss: 0.8831 - val_binary_accuracy: 0.6382\n",
            "Epoch 3/4\n",
            "383/383 [==============================] - 63s 164ms/step - loss: 0.6600 - binary_accuracy: 0.7768 - val_loss: 1.0314 - val_binary_accuracy: 0.6824\n",
            "Epoch 4/4\n",
            "383/383 [==============================] - 63s 164ms/step - loss: 0.4992 - binary_accuracy: 0.8860 - val_loss: 1.1709 - val_binary_accuracy: 0.6706\n",
            "43/43 [==============================] - 2s 51ms/step - loss: 1.1709 - binary_accuracy: 0.6706\n",
            "Average error  0.664705902338028\n"
          ],
          "name": "stdout"
        }
      ]
    },
    {
      "cell_type": "code",
      "metadata": {
        "colab": {
          "base_uri": "https://localhost:8080/"
        },
        "id": "qAR68XhIGOfG",
        "outputId": "282e6d93-06d1-4da4-c5bf-d800301fff96"
      },
      "source": [
        "# electra with fine-tuning, CNN \n",
        "bert_model_name = 'electra_base'\n",
        "epochs = 4\n",
        "init_lr = 2e-5\n",
        "batch_size = 8\n",
        "do_fine_tuning = True\n",
        "folds = 2\n",
        "\n",
        "def create_layers(net, text_input): \n",
        "  filter_length = 1\n",
        "  seq_len = 256\n",
        "  net = tf.keras.layers.Reshape((2,384), input_shape=(None,768))(net)\n",
        "  net = tf.keras.layers.Conv1D(filters=256, kernel_size=(filter_length), padding='valid',strides=1, activation='relu')(net)\n",
        "  net = tf.keras.layers.MaxPool1D(pool_size=2)(net)\n",
        "  net = tf.keras.layers.Flatten()(net)\n",
        "  net = tf.keras.layers.Dense(256, activation = 'relu')(net)\n",
        "  net = tf.keras.layers.Dropout(0.2)(net)\n",
        "  net = tf.keras.layers.Dense(1, activation='sigmoid', name='classifier', \n",
        "                              kernel_regularizer=tf.keras.regularizers.L1L2(l1=0.01, l2=0.01)\n",
        "                              )(net)\n",
        "  return tf.keras.Model(text_input, net)\n",
        "\n",
        "results, history, classifier_model = bert_10_fold(epochs=epochs, \n",
        "                                                  init_lr=init_lr, \n",
        "                                                  batch_size = batch_size, \n",
        "                                                  do_fine_tuning = do_fine_tuning, \n",
        "                                                  create_classifier = create_layers, \n",
        "                                                  bert_model_name = bert_model_name, \n",
        "                                                  folds = folds)\n",
        "\n",
        "print('Average error ', np.mean(results[bert_model_name]))"
      ],
      "execution_count": null,
      "outputs": [
        {
          "output_type": "stream",
          "text": [
            "electra_base\n",
            "FOLD  0\n",
            "Train  3062\n",
            "Test  340\n"
          ],
          "name": "stdout"
        },
        {
          "output_type": "stream",
          "text": [
            "INFO:absl:using Adamw optimizer\n",
            "INFO:absl:gradient_clip_norm=1.000000\n"
          ],
          "name": "stderr"
        },
        {
          "output_type": "stream",
          "text": [
            "Epoch 1/4\n",
            "383/383 [==============================] - 95s 166ms/step - loss: 0.9254 - binary_accuracy: 0.4971 - val_loss: 0.8844 - val_binary_accuracy: 0.5882\n",
            "Epoch 2/4\n",
            "383/383 [==============================] - 63s 164ms/step - loss: 0.8737 - binary_accuracy: 0.6121 - val_loss: 0.8727 - val_binary_accuracy: 0.6412\n",
            "Epoch 3/4\n",
            "383/383 [==============================] - 63s 164ms/step - loss: 0.7263 - binary_accuracy: 0.7464 - val_loss: 0.9747 - val_binary_accuracy: 0.6647\n",
            "Epoch 4/4\n",
            "383/383 [==============================] - 63s 164ms/step - loss: 0.5540 - binary_accuracy: 0.8625 - val_loss: 1.0818 - val_binary_accuracy: 0.6706\n",
            "43/43 [==============================] - 2s 50ms/step - loss: 1.0818 - binary_accuracy: 0.6706\n",
            "FOLD  1\n",
            "Train  3062\n",
            "Test  340\n"
          ],
          "name": "stdout"
        },
        {
          "output_type": "stream",
          "text": [
            "INFO:absl:using Adamw optimizer\n",
            "INFO:absl:gradient_clip_norm=1.000000\n"
          ],
          "name": "stderr"
        },
        {
          "output_type": "stream",
          "text": [
            "Epoch 1/4\n",
            "383/383 [==============================] - 80s 166ms/step - loss: 0.9252 - binary_accuracy: 0.5075 - val_loss: 0.8735 - val_binary_accuracy: 0.6147\n",
            "Epoch 2/4\n",
            "383/383 [==============================] - 63s 164ms/step - loss: 0.8762 - binary_accuracy: 0.6100 - val_loss: 0.8178 - val_binary_accuracy: 0.6765\n",
            "Epoch 3/4\n",
            "383/383 [==============================] - 63s 164ms/step - loss: 0.7481 - binary_accuracy: 0.7369 - val_loss: 0.8751 - val_binary_accuracy: 0.6735\n",
            "Epoch 4/4\n",
            "383/383 [==============================] - 63s 164ms/step - loss: 0.5979 - binary_accuracy: 0.8391 - val_loss: 0.9670 - val_binary_accuracy: 0.6676\n",
            "43/43 [==============================] - 2s 51ms/step - loss: 0.9670 - binary_accuracy: 0.6676\n",
            "Average error  0.669117659330368\n"
          ],
          "name": "stdout"
        }
      ]
    },
    {
      "cell_type": "code",
      "metadata": {
        "colab": {
          "base_uri": "https://localhost:8080/"
        },
        "id": "p9YsS4u_WSnK",
        "outputId": "1ddb63d6-8749-46d6-96dc-b9894078d483"
      },
      "source": [
        "# electra with fine-tuning, CNN \n",
        "bert_model_name = 'electra_base'\n",
        "epochs = 4\n",
        "init_lr = 2e-5\n",
        "batch_size = 8\n",
        "do_fine_tuning = True\n",
        "folds = 2\n",
        "\n",
        "def create_layers(net, text_input): \n",
        "  filter_length = 1\n",
        "  seq_len = 256\n",
        "  net = tf.keras.layers.Reshape((2,384), input_shape=(None,768))(net)\n",
        "  net = tf.keras.layers.Conv1D(filters=256, kernel_size=(filter_length), padding='valid',strides=1, activation='relu')(net)\n",
        "  net = tf.keras.layers.MaxPool1D(pool_size=2)(net)\n",
        "  net = tf.keras.layers.Flatten()(net)\n",
        "  net = tf.keras.layers.Dropout(0.2)(net)\n",
        "  net = tf.keras.layers.Dense(1, activation='sigmoid', name='classifier', \n",
        "                              kernel_regularizer=tf.keras.regularizers.L1L2(l1=0.01, l2=0.01)\n",
        "                              )(net)\n",
        "  return tf.keras.Model(text_input, net)\n",
        "\n",
        "results, history, classifier_model = bert_10_fold(epochs=epochs, \n",
        "                                                  init_lr=init_lr, \n",
        "                                                  batch_size = batch_size, \n",
        "                                                  do_fine_tuning = do_fine_tuning, \n",
        "                                                  create_classifier = create_layers, \n",
        "                                                  bert_model_name = bert_model_name, \n",
        "                                                  folds = folds)\n",
        "\n",
        "print('Average error ', np.mean(results[bert_model_name]))"
      ],
      "execution_count": null,
      "outputs": [
        {
          "output_type": "stream",
          "text": [
            "electra_base\n",
            "FOLD  0\n",
            "Train  3062\n",
            "Test  340\n"
          ],
          "name": "stdout"
        },
        {
          "output_type": "stream",
          "text": [
            "INFO:absl:using Adamw optimizer\n",
            "INFO:absl:gradient_clip_norm=1.000000\n"
          ],
          "name": "stderr"
        },
        {
          "output_type": "stream",
          "text": [
            "Epoch 1/4\n",
            "383/383 [==============================] - 81s 166ms/step - loss: 0.9034 - binary_accuracy: 0.5243 - val_loss: 0.8629 - val_binary_accuracy: 0.5735\n",
            "Epoch 2/4\n",
            "383/383 [==============================] - 63s 164ms/step - loss: 0.8404 - binary_accuracy: 0.6184 - val_loss: 0.8713 - val_binary_accuracy: 0.6324\n",
            "Epoch 3/4\n",
            "383/383 [==============================] - 63s 164ms/step - loss: 0.6666 - binary_accuracy: 0.7864 - val_loss: 1.1397 - val_binary_accuracy: 0.6147\n",
            "Epoch 4/4\n",
            "383/383 [==============================] - 63s 164ms/step - loss: 0.4878 - binary_accuracy: 0.8846 - val_loss: 1.2642 - val_binary_accuracy: 0.6265\n",
            "43/43 [==============================] - 2s 51ms/step - loss: 1.2642 - binary_accuracy: 0.6265\n",
            "FOLD  1\n",
            "Train  3062\n",
            "Test  340\n"
          ],
          "name": "stdout"
        },
        {
          "output_type": "stream",
          "text": [
            "INFO:absl:using Adamw optimizer\n",
            "INFO:absl:gradient_clip_norm=1.000000\n"
          ],
          "name": "stderr"
        },
        {
          "output_type": "stream",
          "text": [
            "Epoch 1/4\n",
            "383/383 [==============================] - 80s 166ms/step - loss: 0.9202 - binary_accuracy: 0.5054 - val_loss: 0.8585 - val_binary_accuracy: 0.6235\n",
            "Epoch 2/4\n",
            "383/383 [==============================] - 63s 164ms/step - loss: 0.8467 - binary_accuracy: 0.6364 - val_loss: 0.8346 - val_binary_accuracy: 0.6941\n",
            "Epoch 3/4\n",
            "383/383 [==============================] - 63s 165ms/step - loss: 0.6950 - binary_accuracy: 0.7712 - val_loss: 0.9029 - val_binary_accuracy: 0.6971\n",
            "Epoch 4/4\n",
            "383/383 [==============================] - 63s 165ms/step - loss: 0.5168 - binary_accuracy: 0.8694 - val_loss: 1.0334 - val_binary_accuracy: 0.6912\n",
            "43/43 [==============================] - 2s 51ms/step - loss: 1.0334 - binary_accuracy: 0.6912\n",
            "Average error  0.6588235199451447\n"
          ],
          "name": "stdout"
        }
      ]
    },
    {
      "cell_type": "code",
      "metadata": {
        "colab": {
          "base_uri": "https://localhost:8080/"
        },
        "id": "IZyMC3B-Xujq",
        "outputId": "59228910-b63f-46eb-9b49-8f60ce023e23"
      },
      "source": [
        "# electra with fine-tuning, CNN, remove max pool input\n",
        "bert_model_name = 'electra_base'\n",
        "epochs = 4\n",
        "init_lr = 2e-5\n",
        "batch_size = 8\n",
        "do_fine_tuning = True\n",
        "folds = 2\n",
        "\n",
        "def create_layers(net, text_input): \n",
        "  filter_length = 1\n",
        "  seq_len = 256\n",
        "  net = tf.keras.layers.Reshape((2,384), input_shape=(None,768))(net)\n",
        "  net = tf.keras.layers.Conv1D(filters=256, kernel_size=(filter_length), padding='valid',strides=1, activation='relu')(net)\n",
        "  net = tf.keras.layers.MaxPool1D()(net)\n",
        "  net = tf.keras.layers.Flatten()(net)\n",
        "  net = tf.keras.layers.Dense(256, activation = 'relu')(net)\n",
        "  net = tf.keras.layers.Dropout(0.2)(net)\n",
        "  net = tf.keras.layers.Dense(1, activation='sigmoid', name='classifier', \n",
        "                              kernel_regularizer=tf.keras.regularizers.L1L2(l1=0.01, l2=0.01)\n",
        "                              )(net)\n",
        "  return tf.keras.Model(text_input, net)\n",
        "\n",
        "results, history, classifier_model = bert_10_fold(epochs=epochs, \n",
        "                                                  init_lr=init_lr, \n",
        "                                                  batch_size = batch_size, \n",
        "                                                  do_fine_tuning = do_fine_tuning, \n",
        "                                                  create_classifier = create_layers, \n",
        "                                                  bert_model_name = bert_model_name, \n",
        "                                                  folds = folds)\n",
        "\n",
        "print('Average error ', np.mean(results[bert_model_name]))"
      ],
      "execution_count": null,
      "outputs": [
        {
          "output_type": "stream",
          "text": [
            "electra_base\n",
            "FOLD  0\n",
            "Train  3062\n",
            "Test  340\n"
          ],
          "name": "stdout"
        },
        {
          "output_type": "stream",
          "text": [
            "INFO:absl:using Adamw optimizer\n",
            "INFO:absl:gradient_clip_norm=1.000000\n"
          ],
          "name": "stderr"
        },
        {
          "output_type": "stream",
          "text": [
            "Epoch 1/4\n",
            "383/383 [==============================] - 79s 167ms/step - loss: 0.9292 - binary_accuracy: 0.5219 - val_loss: 0.8794 - val_binary_accuracy: 0.6118\n",
            "Epoch 2/4\n",
            "383/383 [==============================] - 63s 165ms/step - loss: 0.8658 - binary_accuracy: 0.6182 - val_loss: 0.8789 - val_binary_accuracy: 0.6265\n",
            "Epoch 3/4\n",
            "383/383 [==============================] - 63s 165ms/step - loss: 0.7371 - binary_accuracy: 0.7534 - val_loss: 1.0353 - val_binary_accuracy: 0.6529\n",
            "Epoch 4/4\n",
            "383/383 [==============================] - 63s 165ms/step - loss: 0.6161 - binary_accuracy: 0.8357 - val_loss: 1.0763 - val_binary_accuracy: 0.6412\n",
            "43/43 [==============================] - 2s 53ms/step - loss: 1.0763 - binary_accuracy: 0.6412\n",
            "FOLD  1\n",
            "Train  3062\n",
            "Test  340\n"
          ],
          "name": "stdout"
        },
        {
          "output_type": "stream",
          "text": [
            "INFO:absl:using Adamw optimizer\n",
            "INFO:absl:gradient_clip_norm=1.000000\n"
          ],
          "name": "stderr"
        },
        {
          "output_type": "stream",
          "text": [
            "Epoch 1/4\n",
            "383/383 [==============================] - 79s 167ms/step - loss: 0.9121 - binary_accuracy: 0.5169 - val_loss: 0.8427 - val_binary_accuracy: 0.6735\n",
            "Epoch 2/4\n",
            "383/383 [==============================] - 63s 165ms/step - loss: 0.8476 - binary_accuracy: 0.6337 - val_loss: 0.7907 - val_binary_accuracy: 0.7000\n",
            "Epoch 3/4\n",
            "383/383 [==============================] - 63s 165ms/step - loss: 0.6970 - binary_accuracy: 0.7696 - val_loss: 0.8652 - val_binary_accuracy: 0.6882\n",
            "Epoch 4/4\n",
            "383/383 [==============================] - 63s 164ms/step - loss: 0.5724 - binary_accuracy: 0.8458 - val_loss: 0.9414 - val_binary_accuracy: 0.7029\n",
            "43/43 [==============================] - 2s 51ms/step - loss: 0.9414 - binary_accuracy: 0.7029\n",
            "Average error  0.6720588207244873\n"
          ],
          "name": "stdout"
        }
      ]
    },
    {
      "cell_type": "code",
      "metadata": {
        "colab": {
          "base_uri": "https://localhost:8080/"
        },
        "id": "SxuqIhEQFBt9",
        "outputId": "838a5dde-db18-4640-e872-3905da3af975"
      },
      "source": [
        "# electra with fine-tuning, CNN \n",
        "bert_model_name = 'electra_base'\n",
        "epochs = 4\n",
        "init_lr = 2e-5\n",
        "batch_size = 8\n",
        "do_fine_tuning = True\n",
        "folds = 2\n",
        "\n",
        "def create_layers(net, text_input): \n",
        "  filter_length = 2\n",
        "  seq_len = 256\n",
        "  net = tf.keras.layers.Reshape((4,192), input_shape=(None,768))(net)\n",
        "  net = tf.keras.layers.Conv1D(filters=128, kernel_size=(filter_length), padding='valid',strides=1, activation='relu')(net)\n",
        "  net = tf.keras.layers.MaxPool1D(pool_size=2)(net)\n",
        "  net = tf.keras.layers.Flatten()(net)\n",
        "  net = tf.keras.layers.Dense(128, activation = 'tanh')(net)\n",
        "  net = tf.keras.layers.Dropout(0.2)(net)\n",
        "  net = tf.keras.layers.Dense(1, activation='sigmoid', name='classifier', \n",
        "                              kernel_regularizer=tf.keras.regularizers.L1L2(l1=0.01, l2=0.01)\n",
        "                              )(net)\n",
        "  return tf.keras.Model(text_input, net)\n",
        "\n",
        "results, history, classifier_model = bert_10_fold(epochs=epochs, \n",
        "                                                  init_lr=init_lr, \n",
        "                                                  batch_size = batch_size, \n",
        "                                                  do_fine_tuning = do_fine_tuning, \n",
        "                                                  create_classifier = create_layers, \n",
        "                                                  bert_model_name = bert_model_name, \n",
        "                                                  folds = folds)\n",
        "\n",
        "print('Average error ', np.mean(results[bert_model_name]))"
      ],
      "execution_count": null,
      "outputs": [
        {
          "output_type": "stream",
          "text": [
            "electra_base\n",
            "FOLD  0\n",
            "Train  3062\n",
            "Test  340\n"
          ],
          "name": "stdout"
        },
        {
          "output_type": "stream",
          "text": [
            "INFO:absl:using Adamw optimizer\n",
            "INFO:absl:gradient_clip_norm=1.000000\n"
          ],
          "name": "stderr"
        },
        {
          "output_type": "stream",
          "text": [
            "Epoch 1/4\n",
            "383/383 [==============================] - 82s 166ms/step - loss: 0.8582 - binary_accuracy: 0.4923 - val_loss: 0.8242 - val_binary_accuracy: 0.5882\n",
            "Epoch 2/4\n",
            "383/383 [==============================] - 63s 164ms/step - loss: 0.7852 - binary_accuracy: 0.6400 - val_loss: 0.8243 - val_binary_accuracy: 0.6176\n",
            "Epoch 3/4\n",
            "383/383 [==============================] - 63s 164ms/step - loss: 0.6319 - binary_accuracy: 0.7727 - val_loss: 1.0018 - val_binary_accuracy: 0.6353\n",
            "Epoch 4/4\n",
            "383/383 [==============================] - 63s 164ms/step - loss: 0.4787 - binary_accuracy: 0.8696 - val_loss: 1.0712 - val_binary_accuracy: 0.6471\n",
            "43/43 [==============================] - 2s 51ms/step - loss: 1.0712 - binary_accuracy: 0.6471\n",
            "FOLD  1\n",
            "Train  3062\n",
            "Test  340\n"
          ],
          "name": "stdout"
        },
        {
          "output_type": "stream",
          "text": [
            "INFO:absl:using Adamw optimizer\n",
            "INFO:absl:gradient_clip_norm=1.000000\n"
          ],
          "name": "stderr"
        },
        {
          "output_type": "stream",
          "text": [
            "Epoch 1/4\n",
            "383/383 [==============================] - 78s 166ms/step - loss: 0.8568 - binary_accuracy: 0.5078 - val_loss: 0.7918 - val_binary_accuracy: 0.6324\n",
            "Epoch 2/4\n",
            "383/383 [==============================] - 63s 164ms/step - loss: 0.7960 - binary_accuracy: 0.6323 - val_loss: 0.7416 - val_binary_accuracy: 0.7029\n",
            "Epoch 3/4\n",
            "383/383 [==============================] - 63s 164ms/step - loss: 0.6364 - binary_accuracy: 0.7748 - val_loss: 0.7964 - val_binary_accuracy: 0.7029\n",
            "Epoch 4/4\n",
            "383/383 [==============================] - 63s 164ms/step - loss: 0.4578 - binary_accuracy: 0.8821 - val_loss: 0.8906 - val_binary_accuracy: 0.6912\n",
            "43/43 [==============================] - 2s 51ms/step - loss: 0.8906 - binary_accuracy: 0.6912\n",
            "Average error  0.669117659330368\n"
          ],
          "name": "stdout"
        }
      ]
    },
    {
      "cell_type": "code",
      "metadata": {
        "colab": {
          "base_uri": "https://localhost:8080/"
        },
        "id": "LekCmyRbuIwg",
        "outputId": "3949291e-884d-4cfe-d370-5c393406570e"
      },
      "source": [
        "# electra with fine-tuning, LSTM \n",
        "bert_model_name = 'electra_base'\n",
        "epochs = 4\n",
        "init_lr = 2e-5\n",
        "batch_size = 8\n",
        "do_fine_tuning = True\n",
        "folds = 2\n",
        "\n",
        "def create_layers(net, text_input): \n",
        "  filter_length = 1\n",
        "  seq_len = 256\n",
        "  net = tf.keras.layers.Reshape((2,384), input_shape=(None,768))(net)\n",
        "  net = tf.keras.layers.LSTM(256, return_sequences=True, activation='tanh')(net)\n",
        "  net = tf.keras.layers.Dense(256, activation = 'relu')(net)\n",
        "  net = tf.keras.layers.Dropout(0.2)(net)\n",
        "  net = tf.keras.layers.Dense(1, activation='sigmoid', name='classifier', \n",
        "                              kernel_regularizer=tf.keras.regularizers.L1L2(l1=0.01, l2=0.01)\n",
        "                              )(net)\n",
        "  return tf.keras.Model(text_input, net)\n",
        "\n",
        "results, history, classifier_model = bert_10_fold(epochs=epochs, \n",
        "                                                  init_lr=init_lr, \n",
        "                                                  batch_size = batch_size, \n",
        "                                                  do_fine_tuning = do_fine_tuning, \n",
        "                                                  create_classifier = create_layers, \n",
        "                                                  bert_model_name = bert_model_name, \n",
        "                                                  folds = folds)\n",
        "\n",
        "print('Average error ', np.mean(results[bert_model_name]))"
      ],
      "execution_count": null,
      "outputs": [
        {
          "output_type": "stream",
          "text": [
            "electra_base\n",
            "FOLD  0\n",
            "Train  3062\n",
            "Test  340\n"
          ],
          "name": "stdout"
        },
        {
          "output_type": "stream",
          "text": [
            "INFO:absl:using Adamw optimizer\n",
            "INFO:absl:gradient_clip_norm=1.000000\n"
          ],
          "name": "stderr"
        },
        {
          "output_type": "stream",
          "text": [
            "Epoch 1/4\n",
            "383/383 [==============================] - 82s 171ms/step - loss: 0.9145 - binary_accuracy: 0.5109 - val_loss: 0.9039 - val_binary_accuracy: 0.5088\n",
            "Epoch 2/4\n",
            "383/383 [==============================] - 65s 169ms/step - loss: 0.8751 - binary_accuracy: 0.5922 - val_loss: 0.8885 - val_binary_accuracy: 0.5971\n",
            "Epoch 3/4\n",
            "383/383 [==============================] - 65s 169ms/step - loss: 0.7902 - binary_accuracy: 0.7009 - val_loss: 0.9392 - val_binary_accuracy: 0.6324\n",
            "Epoch 4/4\n",
            "383/383 [==============================] - 65s 169ms/step - loss: 0.7081 - binary_accuracy: 0.7840 - val_loss: 0.9698 - val_binary_accuracy: 0.6088\n",
            "43/43 [==============================] - 2s 55ms/step - loss: 0.9698 - binary_accuracy: 0.6088\n",
            "FOLD  1\n",
            "Train  3062\n",
            "Test  340\n"
          ],
          "name": "stdout"
        },
        {
          "output_type": "stream",
          "text": [
            "INFO:absl:using Adamw optimizer\n",
            "INFO:absl:gradient_clip_norm=1.000000\n"
          ],
          "name": "stderr"
        },
        {
          "output_type": "stream",
          "text": [
            "Epoch 1/4\n",
            "383/383 [==============================] - 84s 172ms/step - loss: 0.9189 - binary_accuracy: 0.4880 - val_loss: 0.9029 - val_binary_accuracy: 0.5162\n",
            "Epoch 2/4\n",
            "383/383 [==============================] - 65s 169ms/step - loss: 0.8874 - binary_accuracy: 0.5645 - val_loss: 0.8353 - val_binary_accuracy: 0.6515\n",
            "Epoch 3/4\n",
            "383/383 [==============================] - 65s 169ms/step - loss: 0.7776 - binary_accuracy: 0.7156 - val_loss: 0.8307 - val_binary_accuracy: 0.6897\n",
            "Epoch 4/4\n",
            "383/383 [==============================] - 65s 169ms/step - loss: 0.6488 - binary_accuracy: 0.8203 - val_loss: 0.8768 - val_binary_accuracy: 0.6809\n",
            "43/43 [==============================] - 2s 54ms/step - loss: 0.8768 - binary_accuracy: 0.6809\n",
            "Average error  0.6448529362678528\n"
          ],
          "name": "stdout"
        }
      ]
    },
    {
      "cell_type": "code",
      "metadata": {
        "id": "ILkqb5-YuI3u"
      },
      "source": [
        "# electra with fine-tuning, RCNN \n",
        "bert_model_name = 'electra_base'\n",
        "epochs = 4\n",
        "init_lr = 2e-5\n",
        "batch_size = 8\n",
        "do_fine_tuning = True\n",
        "folds = 2\n",
        "\n",
        "        \n",
        "def create_layers(net, text_input): \n",
        "  filter_length = 1\n",
        "  seq_len = 256\n",
        "  \n",
        "  l_embedding = tf.keras.layers.Lambda(lambda x: K.concatenate([K.zeros(shape=(K.shape(x)[0], 1, K.shape(x)[-1])), x[:, :-1]]))(net)\n",
        "\n",
        "  r_embedding = tf.keras.layers.Lambda(lambda x: K.concatenate([K.zeros(shape=(K.shape(x)[0], 1, K.shape(x)[-1])), x[:, 1:]]))(net)\n",
        "\n",
        "  l_embedding = tf.keras.layers.Reshape((2,384), input_shape=(None,768))(l_embedding)\n",
        "  r_embedding = tf.keras.layers.Reshape((2,384), input_shape=(None,768))(r_embedding)\n",
        "  forward = tf.keras.layers.LSTM(256, return_sequences=True)(l_embedding) \n",
        "  backward = tf.keras.layers.LSTM(256, return_sequences=True, go_backwards=True)(r_embedding)\n",
        "  backward = tf.keras.layers.Lambda(lambda x: K.reverse(x, axes=1))(backward)\n",
        "  together = [forward, net , backward]\n",
        "  together = tf.keras.layers.Concatenate(axis=2)(together)\n",
        "  semantic = tf.keras.layers.Conv1D(256, kernel_size=(filter_length), activation=\"relu\")(together)\n",
        "  sentence_embed = tf.keras.layers.Lambda(lambda x: K.max(x, axis=1))(semantic)\n",
        "  net = tf.keras.layers.Dense(256, activation = 'relu')(together)\n",
        "  net = tf.keras.layers.Dropout(0.2)(net)\n",
        "  net = tf.keras.layers.Dense(1, activation='sigmoid', name='classifier', \n",
        "                              kernel_regularizer=tf.keras.regularizers.L1L2(l1=0.01, l2=0.01)\n",
        "                              )(net)\n",
        "  return tf.keras.Model(text_input, net)\n",
        "\n",
        "results, history, classifier_model = bert_10_fold(epochs=epochs, \n",
        "                                                  init_lr=init_lr, \n",
        "                                                  batch_size = batch_size, \n",
        "                                                  do_fine_tuning = do_fine_tuning, \n",
        "                                                  create_classifier = create_layers, \n",
        "                                                  bert_model_name = bert_model_name, \n",
        "                                                  folds = folds)\n",
        "\n",
        "print('Average accuracy ', np.mean(results[bert_model_name]))"
      ],
      "execution_count": null,
      "outputs": []
    },
    {
      "cell_type": "code",
      "metadata": {
        "id": "Bimf7-inuI_3"
      },
      "source": [
        ""
      ],
      "execution_count": null,
      "outputs": []
    },
    {
      "cell_type": "code",
      "metadata": {
        "id": "9h0CDEKvuL73"
      },
      "source": [
        "# 10 - layer "
      ],
      "execution_count": null,
      "outputs": []
    },
    {
      "cell_type": "code",
      "metadata": {
        "colab": {
          "base_uri": "https://localhost:8080/"
        },
        "id": "9O6TT885u3bh",
        "outputId": "38264cf7-a80e-4e12-cc02-80b21f788547"
      },
      "source": [
        "# bert baseline with fine-tuning\n",
        "bert_model_name = 'bert_en_uncased_L-12_H-768_A-12'\n",
        "epochs = 4\n",
        "init_lr = 2e-5\n",
        "batch_size = 32\n",
        "do_fine_tuning = True\n",
        "folds = 10\n",
        "\n",
        "def create_layers(net, text_input): \n",
        "  net = tf.keras.layers.Dropout(0.1)(net)\n",
        "  net = tf.keras.layers.Dense(1, activation='sigmoid', name='classifier')(net)\n",
        "  return tf.keras.Model(text_input, net)\n",
        "\n",
        "results, history, classifier_model = bert_10_fold(epochs=epochs, \n",
        "                                                  init_lr=init_lr, \n",
        "                                                  batch_size = batch_size, \n",
        "                                                  do_fine_tuning = do_fine_tuning, \n",
        "                                                  create_classifier = create_layers, \n",
        "                                                  bert_model_name = bert_model_name, \n",
        "                                                  folds = folds)\n",
        "\n",
        "print('Average error ', np.mean(results[bert_model_name]))"
      ],
      "execution_count": null,
      "outputs": [
        {
          "output_type": "stream",
          "text": [
            "bert_en_uncased_L-12_H-768_A-12\n",
            "FOLD  0\n",
            "Train  3062\n",
            "Test  340\n"
          ],
          "name": "stdout"
        },
        {
          "output_type": "stream",
          "text": [
            "INFO:absl:using Adamw optimizer\n",
            "INFO:absl:gradient_clip_norm=1.000000\n"
          ],
          "name": "stderr"
        },
        {
          "output_type": "stream",
          "text": [
            "Epoch 1/4\n",
            "96/96 [==============================] - 68s 552ms/step - loss: 0.7043 - binary_accuracy: 0.5136 - val_loss: 0.6827 - val_binary_accuracy: 0.5529\n",
            "Epoch 2/4\n",
            "96/96 [==============================] - 52s 543ms/step - loss: 0.6736 - binary_accuracy: 0.5880 - val_loss: 0.6779 - val_binary_accuracy: 0.5912\n",
            "Epoch 3/4\n",
            "96/96 [==============================] - 52s 544ms/step - loss: 0.5957 - binary_accuracy: 0.6806 - val_loss: 0.7338 - val_binary_accuracy: 0.6029\n",
            "Epoch 4/4\n",
            "96/96 [==============================] - 52s 543ms/step - loss: 0.5077 - binary_accuracy: 0.7543 - val_loss: 0.7238 - val_binary_accuracy: 0.5706\n",
            "11/11 [==============================] - 2s 187ms/step - loss: 0.7238 - binary_accuracy: 0.5706\n",
            "FOLD  1\n",
            "Train  3062\n",
            "Test  340\n"
          ],
          "name": "stdout"
        },
        {
          "output_type": "stream",
          "text": [
            "INFO:absl:using Adamw optimizer\n",
            "INFO:absl:gradient_clip_norm=1.000000\n"
          ],
          "name": "stderr"
        },
        {
          "output_type": "stream",
          "text": [
            "Epoch 1/4\n",
            "96/96 [==============================] - 67s 551ms/step - loss: 0.7210 - binary_accuracy: 0.5089 - val_loss: 0.6613 - val_binary_accuracy: 0.6059\n",
            "Epoch 2/4\n",
            "96/96 [==============================] - 52s 543ms/step - loss: 0.6433 - binary_accuracy: 0.6407 - val_loss: 0.6255 - val_binary_accuracy: 0.6529\n",
            "Epoch 3/4\n",
            "96/96 [==============================] - 52s 543ms/step - loss: 0.5449 - binary_accuracy: 0.7328 - val_loss: 0.6642 - val_binary_accuracy: 0.6529\n",
            "Epoch 4/4\n",
            "96/96 [==============================] - 52s 543ms/step - loss: 0.4393 - binary_accuracy: 0.8135 - val_loss: 0.6884 - val_binary_accuracy: 0.6382\n",
            "11/11 [==============================] - 2s 188ms/step - loss: 0.6884 - binary_accuracy: 0.6382\n",
            "FOLD  2\n",
            "Train  3062\n",
            "Test  340\n"
          ],
          "name": "stdout"
        },
        {
          "output_type": "stream",
          "text": [
            "INFO:absl:using Adamw optimizer\n",
            "INFO:absl:gradient_clip_norm=1.000000\n"
          ],
          "name": "stderr"
        },
        {
          "output_type": "stream",
          "text": [
            "Epoch 1/4\n",
            "96/96 [==============================] - 70s 551ms/step - loss: 0.9492 - binary_accuracy: 0.5281 - val_loss: 0.6519 - val_binary_accuracy: 0.6235\n",
            "Epoch 2/4\n",
            "96/96 [==============================] - 52s 543ms/step - loss: 0.6550 - binary_accuracy: 0.6049 - val_loss: 0.6604 - val_binary_accuracy: 0.6294\n",
            "Epoch 3/4\n",
            "96/96 [==============================] - 52s 542ms/step - loss: 0.5406 - binary_accuracy: 0.7190 - val_loss: 0.7430 - val_binary_accuracy: 0.6294\n",
            "Epoch 4/4\n",
            "96/96 [==============================] - 52s 542ms/step - loss: 0.4279 - binary_accuracy: 0.8118 - val_loss: 0.7413 - val_binary_accuracy: 0.6382\n",
            "11/11 [==============================] - 2s 186ms/step - loss: 0.7413 - binary_accuracy: 0.6382\n",
            "FOLD  3\n",
            "Train  3062\n",
            "Test  340\n"
          ],
          "name": "stdout"
        },
        {
          "output_type": "stream",
          "text": [
            "INFO:absl:using Adamw optimizer\n",
            "INFO:absl:gradient_clip_norm=1.000000\n"
          ],
          "name": "stderr"
        },
        {
          "output_type": "stream",
          "text": [
            "Epoch 1/4\n",
            "96/96 [==============================] - 67s 550ms/step - loss: 0.7734 - binary_accuracy: 0.5493 - val_loss: 0.6494 - val_binary_accuracy: 0.6235\n",
            "Epoch 2/4\n",
            "96/96 [==============================] - 52s 543ms/step - loss: 0.6224 - binary_accuracy: 0.6479 - val_loss: 0.6534 - val_binary_accuracy: 0.6824\n",
            "Epoch 3/4\n",
            "96/96 [==============================] - 52s 543ms/step - loss: 0.5115 - binary_accuracy: 0.7547 - val_loss: 0.6850 - val_binary_accuracy: 0.6500\n",
            "Epoch 4/4\n",
            "96/96 [==============================] - 52s 543ms/step - loss: 0.4113 - binary_accuracy: 0.8161 - val_loss: 0.7243 - val_binary_accuracy: 0.6471\n",
            "11/11 [==============================] - 2s 188ms/step - loss: 0.7243 - binary_accuracy: 0.6471\n",
            "FOLD  4\n",
            "Train  3062\n",
            "Test  340\n"
          ],
          "name": "stdout"
        },
        {
          "output_type": "stream",
          "text": [
            "INFO:absl:using Adamw optimizer\n",
            "INFO:absl:gradient_clip_norm=1.000000\n"
          ],
          "name": "stderr"
        },
        {
          "output_type": "stream",
          "text": [
            "Epoch 1/4\n",
            "96/96 [==============================] - 71s 551ms/step - loss: 0.6961 - binary_accuracy: 0.5404 - val_loss: 0.6564 - val_binary_accuracy: 0.6147\n",
            "Epoch 2/4\n",
            "96/96 [==============================] - 52s 543ms/step - loss: 0.6361 - binary_accuracy: 0.6371 - val_loss: 0.6548 - val_binary_accuracy: 0.6147\n",
            "Epoch 3/4\n",
            "96/96 [==============================] - 52s 543ms/step - loss: 0.5428 - binary_accuracy: 0.7303 - val_loss: 0.6901 - val_binary_accuracy: 0.6206\n",
            "Epoch 4/4\n",
            "96/96 [==============================] - 52s 544ms/step - loss: 0.4464 - binary_accuracy: 0.7955 - val_loss: 0.7011 - val_binary_accuracy: 0.6353\n",
            "11/11 [==============================] - 2s 187ms/step - loss: 0.7011 - binary_accuracy: 0.6353\n",
            "FOLD  5\n",
            "Train  3062\n",
            "Test  340\n"
          ],
          "name": "stdout"
        },
        {
          "output_type": "stream",
          "text": [
            "INFO:absl:using Adamw optimizer\n",
            "INFO:absl:gradient_clip_norm=1.000000\n"
          ],
          "name": "stderr"
        },
        {
          "output_type": "stream",
          "text": [
            "Epoch 1/4\n",
            "96/96 [==============================] - 71s 550ms/step - loss: 0.7000 - binary_accuracy: 0.5364 - val_loss: 0.6774 - val_binary_accuracy: 0.5824\n",
            "Epoch 2/4\n",
            "96/96 [==============================] - 52s 544ms/step - loss: 0.6464 - binary_accuracy: 0.6076 - val_loss: 0.6804 - val_binary_accuracy: 0.6059\n",
            "Epoch 3/4\n",
            "96/96 [==============================] - 52s 543ms/step - loss: 0.5582 - binary_accuracy: 0.7198 - val_loss: 0.7553 - val_binary_accuracy: 0.5882\n",
            "Epoch 4/4\n",
            "96/96 [==============================] - 52s 543ms/step - loss: 0.4763 - binary_accuracy: 0.7846 - val_loss: 0.7586 - val_binary_accuracy: 0.5971\n",
            "11/11 [==============================] - 2s 189ms/step - loss: 0.7586 - binary_accuracy: 0.5971\n",
            "FOLD  6\n",
            "Train  3062\n",
            "Test  340\n"
          ],
          "name": "stdout"
        },
        {
          "output_type": "stream",
          "text": [
            "INFO:absl:using Adamw optimizer\n",
            "INFO:absl:gradient_clip_norm=1.000000\n"
          ],
          "name": "stderr"
        },
        {
          "output_type": "stream",
          "text": [
            "Epoch 1/4\n",
            "96/96 [==============================] - 72s 550ms/step - loss: 0.7196 - binary_accuracy: 0.4901 - val_loss: 0.6527 - val_binary_accuracy: 0.6176\n",
            "Epoch 2/4\n",
            "96/96 [==============================] - 52s 543ms/step - loss: 0.6556 - binary_accuracy: 0.6041 - val_loss: 0.6151 - val_binary_accuracy: 0.6559\n",
            "Epoch 3/4\n",
            "96/96 [==============================] - 52s 543ms/step - loss: 0.5618 - binary_accuracy: 0.7040 - val_loss: 0.6311 - val_binary_accuracy: 0.6559\n",
            "Epoch 4/4\n",
            "96/96 [==============================] - 52s 542ms/step - loss: 0.4887 - binary_accuracy: 0.7639 - val_loss: 0.6288 - val_binary_accuracy: 0.6647\n",
            "11/11 [==============================] - 2s 186ms/step - loss: 0.6288 - binary_accuracy: 0.6647\n",
            "FOLD  7\n",
            "Train  3062\n",
            "Test  340\n"
          ],
          "name": "stdout"
        },
        {
          "output_type": "stream",
          "text": [
            "INFO:absl:using Adamw optimizer\n",
            "INFO:absl:gradient_clip_norm=1.000000\n"
          ],
          "name": "stderr"
        },
        {
          "output_type": "stream",
          "text": [
            "Epoch 1/4\n",
            "96/96 [==============================] - 68s 551ms/step - loss: 0.7125 - binary_accuracy: 0.5038 - val_loss: 0.6604 - val_binary_accuracy: 0.5853\n",
            "Epoch 2/4\n",
            "96/96 [==============================] - 52s 543ms/step - loss: 0.6591 - binary_accuracy: 0.6077 - val_loss: 0.6332 - val_binary_accuracy: 0.6265\n",
            "Epoch 3/4\n",
            "96/96 [==============================] - 52s 543ms/step - loss: 0.5605 - binary_accuracy: 0.7037 - val_loss: 0.6477 - val_binary_accuracy: 0.6294\n",
            "Epoch 4/4\n",
            "96/96 [==============================] - 52s 543ms/step - loss: 0.4697 - binary_accuracy: 0.7823 - val_loss: 0.6735 - val_binary_accuracy: 0.6147\n",
            "11/11 [==============================] - 2s 185ms/step - loss: 0.6735 - binary_accuracy: 0.6147\n",
            "FOLD  8\n",
            "Train  3062\n",
            "Test  340\n"
          ],
          "name": "stdout"
        },
        {
          "output_type": "stream",
          "text": [
            "INFO:absl:using Adamw optimizer\n",
            "INFO:absl:gradient_clip_norm=1.000000\n"
          ],
          "name": "stderr"
        },
        {
          "output_type": "stream",
          "text": [
            "Epoch 1/4\n",
            "96/96 [==============================] - 70s 549ms/step - loss: 0.7067 - binary_accuracy: 0.5209 - val_loss: 0.6603 - val_binary_accuracy: 0.5941\n",
            "Epoch 2/4\n",
            "96/96 [==============================] - 52s 542ms/step - loss: 0.6405 - binary_accuracy: 0.6297 - val_loss: 0.6547 - val_binary_accuracy: 0.5912\n",
            "Epoch 3/4\n",
            "96/96 [==============================] - 52s 542ms/step - loss: 0.5609 - binary_accuracy: 0.7065 - val_loss: 0.6657 - val_binary_accuracy: 0.6088\n",
            "Epoch 4/4\n",
            "96/96 [==============================] - 52s 542ms/step - loss: 0.4841 - binary_accuracy: 0.7623 - val_loss: 0.6736 - val_binary_accuracy: 0.6265\n",
            "11/11 [==============================] - 2s 188ms/step - loss: 0.6736 - binary_accuracy: 0.6265\n",
            "FOLD  9\n",
            "Train  3062\n",
            "Test  340\n"
          ],
          "name": "stdout"
        },
        {
          "output_type": "stream",
          "text": [
            "INFO:absl:using Adamw optimizer\n",
            "INFO:absl:gradient_clip_norm=1.000000\n"
          ],
          "name": "stderr"
        },
        {
          "output_type": "stream",
          "text": [
            "Epoch 1/4\n",
            "96/96 [==============================] - 70s 550ms/step - loss: 0.7340 - binary_accuracy: 0.5272 - val_loss: 0.6669 - val_binary_accuracy: 0.6206\n",
            "Epoch 2/4\n",
            "96/96 [==============================] - 52s 541ms/step - loss: 0.6569 - binary_accuracy: 0.5985 - val_loss: 0.6535 - val_binary_accuracy: 0.6147\n",
            "Epoch 3/4\n",
            "96/96 [==============================] - 52s 542ms/step - loss: 0.5718 - binary_accuracy: 0.7032 - val_loss: 0.6628 - val_binary_accuracy: 0.6382\n",
            "Epoch 4/4\n",
            "96/96 [==============================] - 52s 541ms/step - loss: 0.4935 - binary_accuracy: 0.7753 - val_loss: 0.6809 - val_binary_accuracy: 0.6324\n",
            "11/11 [==============================] - 2s 188ms/step - loss: 0.6809 - binary_accuracy: 0.6324\n",
            "Average error  0.6264705836772919\n"
          ],
          "name": "stdout"
        }
      ]
    },
    {
      "cell_type": "code",
      "metadata": {
        "id": "MQ1KYkNBetuf"
      },
      "source": [
        "# bert baseline with fine-tuning\n",
        "bert_model_name = 'bert_en_uncased_L-12_H-768_A-12'\n",
        "epochs = 2\n",
        "init_lr = 2e-5\n",
        "batch_size = 32\n",
        "do_fine_tuning = True\n",
        "folds = 10\n",
        "\n",
        "def create_layers(net, text_input): \n",
        "  net = tf.keras.layers.Dropout(0.1)(net)\n",
        "  net = tf.keras.layers.Dense(1, activation='sigmoid', name='classifier')(net)\n",
        "  return tf.keras.Model(text_input, net)\n",
        "\n",
        "results, history, classifier_model = bert_10_fold(epochs=epochs, \n",
        "                                                  init_lr=init_lr, \n",
        "                                                  batch_size = batch_size, \n",
        "                                                  do_fine_tuning = do_fine_tuning, \n",
        "                                                  create_classifier = create_layers, \n",
        "                                                  bert_model_name = bert_model_name, \n",
        "                                                  folds = folds)\n",
        "\n",
        "print('Average error ', np.mean(results[bert_model_name]))"
      ],
      "execution_count": null,
      "outputs": []
    },
    {
      "cell_type": "code",
      "metadata": {
        "colab": {
          "base_uri": "https://localhost:8080/"
        },
        "id": "2gPnMuMF5PM5",
        "outputId": "ed44e57b-f3a2-43f5-ec6c-6c74769ad90c"
      },
      "source": [
        "# electra baseline with fine tuning\n",
        "bert_model_name = 'electra_base'\n",
        "epochs = 4\n",
        "init_lr = 2e-5\n",
        "batch_size = 8\n",
        "do_fine_tuning = True\n",
        "folds = 10\n",
        "\n",
        "def create_layers(net, text_input): \n",
        "  net = tf.keras.layers.Dropout(0.1)(net)\n",
        "  net = tf.keras.layers.Dense(1, activation='sigmoid', name='classifier')(net)\n",
        "  return tf.keras.Model(text_input, net)\n",
        "\n",
        "results1, history1, classifier_model1 = bert_10_fold(epochs=epochs, \n",
        "                                                  init_lr=init_lr, \n",
        "                                                  batch_size = batch_size, \n",
        "                                                  do_fine_tuning = do_fine_tuning, \n",
        "                                                  create_classifier = create_layers, \n",
        "                                                  bert_model_name = bert_model_name, \n",
        "                                                  folds = folds)\n",
        "\n",
        "print('Average error ', np.mean(results1[bert_model_name]))"
      ],
      "execution_count": null,
      "outputs": [
        {
          "output_type": "stream",
          "text": [
            "electra_base\n",
            "FOLD  0\n",
            "Train  3062\n",
            "Test  340\n"
          ],
          "name": "stdout"
        }
      ]
    },
    {
      "cell_type": "code",
      "metadata": {
        "id": "sYOAgsGLevBH",
        "colab": {
          "base_uri": "https://localhost:8080/"
        },
        "outputId": "4d3a225b-babe-49e0-9b04-78c35a8f9741"
      },
      "source": [
        "# electra baseline with fine tuning\n",
        "bert_model_name = 'electra_base'\n",
        "epochs = 3\n",
        "init_lr = 2e-5\n",
        "batch_size = 8\n",
        "do_fine_tuning = True\n",
        "folds = 10\n",
        "\n",
        "def create_layers(net, text_input): \n",
        "  net = tf.keras.layers.Dropout(0.1)(net)\n",
        "  net = tf.keras.layers.Dense(1, activation='sigmoid', name='classifier')(net)\n",
        "  return tf.keras.Model(text_input, net)\n",
        "\n",
        "results1, history1, classifier_model1 = bert_10_fold(epochs=epochs, \n",
        "                                                  init_lr=init_lr, \n",
        "                                                  batch_size = batch_size, \n",
        "                                                  do_fine_tuning = do_fine_tuning, \n",
        "                                                  create_classifier = create_layers, \n",
        "                                                  bert_model_name = bert_model_name, \n",
        "                                                  folds = folds)\n",
        "\n",
        "print('Average error ', np.mean(results1[bert_model_name]))"
      ],
      "execution_count": null,
      "outputs": [
        {
          "output_type": "stream",
          "text": [
            "electra_base\n",
            "FOLD  0\n",
            "Train  3062\n",
            "Test  340\n"
          ],
          "name": "stdout"
        },
        {
          "output_type": "stream",
          "text": [
            "INFO:absl:using Adamw optimizer\n",
            "INFO:absl:gradient_clip_norm=1.000000\n"
          ],
          "name": "stderr"
        },
        {
          "output_type": "stream",
          "text": [
            "Epoch 1/3\n",
            "383/383 [==============================] - 78s 164ms/step - loss: 0.7044 - binary_accuracy: 0.5311 - val_loss: 0.6675 - val_binary_accuracy: 0.5941\n",
            "Epoch 2/3\n",
            "383/383 [==============================] - 62s 162ms/step - loss: 0.6088 - binary_accuracy: 0.6652 - val_loss: 0.6844 - val_binary_accuracy: 0.6382\n",
            "Epoch 3/3\n",
            "383/383 [==============================] - 62s 162ms/step - loss: 0.4073 - binary_accuracy: 0.8133 - val_loss: 0.8214 - val_binary_accuracy: 0.6559\n",
            "43/43 [==============================] - 2s 49ms/step - loss: 0.8214 - binary_accuracy: 0.6559\n",
            "FOLD  1\n",
            "Train  3062\n",
            "Test  340\n"
          ],
          "name": "stdout"
        },
        {
          "output_type": "stream",
          "text": [
            "INFO:absl:using Adamw optimizer\n",
            "INFO:absl:gradient_clip_norm=1.000000\n"
          ],
          "name": "stderr"
        },
        {
          "output_type": "stream",
          "text": [
            "Epoch 1/3\n",
            "383/383 [==============================] - 76s 164ms/step - loss: 0.7094 - binary_accuracy: 0.5363 - val_loss: 0.6305 - val_binary_accuracy: 0.6588\n",
            "Epoch 2/3\n",
            "383/383 [==============================] - 62s 162ms/step - loss: 0.6081 - binary_accuracy: 0.6732 - val_loss: 0.6281 - val_binary_accuracy: 0.7059\n",
            "Epoch 3/3\n",
            "383/383 [==============================] - 62s 162ms/step - loss: 0.4132 - binary_accuracy: 0.8160 - val_loss: 0.6690 - val_binary_accuracy: 0.7029\n",
            "43/43 [==============================] - 2s 50ms/step - loss: 0.6690 - binary_accuracy: 0.7029\n",
            "FOLD  2\n",
            "Train  3062\n",
            "Test  340\n"
          ],
          "name": "stdout"
        },
        {
          "output_type": "stream",
          "text": [
            "INFO:absl:using Adamw optimizer\n",
            "INFO:absl:gradient_clip_norm=1.000000\n"
          ],
          "name": "stderr"
        },
        {
          "output_type": "stream",
          "text": [
            "Epoch 1/3\n",
            "383/383 [==============================] - 76s 164ms/step - loss: 0.6949 - binary_accuracy: 0.5516 - val_loss: 0.6196 - val_binary_accuracy: 0.6529\n",
            "Epoch 2/3\n",
            "383/383 [==============================] - 62s 162ms/step - loss: 0.5888 - binary_accuracy: 0.6943 - val_loss: 0.6150 - val_binary_accuracy: 0.6735\n",
            "Epoch 3/3\n",
            "383/383 [==============================] - 62s 162ms/step - loss: 0.3995 - binary_accuracy: 0.8298 - val_loss: 0.7380 - val_binary_accuracy: 0.6765\n",
            "43/43 [==============================] - 2s 49ms/step - loss: 0.7380 - binary_accuracy: 0.6765\n",
            "FOLD  3\n",
            "Train  3062\n",
            "Test  340\n"
          ],
          "name": "stdout"
        },
        {
          "output_type": "stream",
          "text": [
            "INFO:absl:using Adamw optimizer\n",
            "INFO:absl:gradient_clip_norm=1.000000\n"
          ],
          "name": "stderr"
        },
        {
          "output_type": "stream",
          "text": [
            "Epoch 1/3\n",
            "383/383 [==============================] - 78s 164ms/step - loss: 0.7015 - binary_accuracy: 0.5138 - val_loss: 0.6519 - val_binary_accuracy: 0.6382\n",
            "Epoch 2/3\n",
            "383/383 [==============================] - 62s 162ms/step - loss: 0.5967 - binary_accuracy: 0.6844 - val_loss: 0.7141 - val_binary_accuracy: 0.6471\n",
            "Epoch 3/3\n",
            "383/383 [==============================] - 62s 162ms/step - loss: 0.4177 - binary_accuracy: 0.8062 - val_loss: 0.7776 - val_binary_accuracy: 0.6735\n",
            "43/43 [==============================] - 2s 49ms/step - loss: 0.7776 - binary_accuracy: 0.6735\n",
            "FOLD  4\n",
            "Train  3062\n",
            "Test  340\n"
          ],
          "name": "stdout"
        },
        {
          "output_type": "stream",
          "text": [
            "INFO:absl:using Adamw optimizer\n",
            "INFO:absl:gradient_clip_norm=1.000000\n"
          ],
          "name": "stderr"
        },
        {
          "output_type": "stream",
          "text": [
            "Epoch 1/3\n",
            "383/383 [==============================] - 79s 169ms/step - loss: 0.7033 - binary_accuracy: 0.5277 - val_loss: 0.6543 - val_binary_accuracy: 0.6412\n",
            "Epoch 2/3\n",
            "383/383 [==============================] - 62s 162ms/step - loss: 0.5903 - binary_accuracy: 0.6847 - val_loss: 0.7745 - val_binary_accuracy: 0.6382\n",
            "Epoch 3/3\n",
            "383/383 [==============================] - 62s 162ms/step - loss: 0.4067 - binary_accuracy: 0.8245 - val_loss: 0.8203 - val_binary_accuracy: 0.6412\n",
            "43/43 [==============================] - 2s 49ms/step - loss: 0.8203 - binary_accuracy: 0.6412\n",
            "FOLD  5\n",
            "Train  3062\n",
            "Test  340\n"
          ],
          "name": "stdout"
        },
        {
          "output_type": "stream",
          "text": [
            "INFO:absl:using Adamw optimizer\n",
            "INFO:absl:gradient_clip_norm=1.000000\n"
          ],
          "name": "stderr"
        },
        {
          "output_type": "stream",
          "text": [
            "Epoch 1/3\n",
            "383/383 [==============================] - 79s 164ms/step - loss: 0.7089 - binary_accuracy: 0.5136 - val_loss: 0.6644 - val_binary_accuracy: 0.5882\n",
            "Epoch 2/3\n",
            "383/383 [==============================] - 62s 163ms/step - loss: 0.5893 - binary_accuracy: 0.6825 - val_loss: 0.7470 - val_binary_accuracy: 0.6206\n",
            "Epoch 3/3\n",
            "383/383 [==============================] - 62s 162ms/step - loss: 0.4133 - binary_accuracy: 0.8135 - val_loss: 0.8643 - val_binary_accuracy: 0.6147\n",
            "43/43 [==============================] - 2s 49ms/step - loss: 0.8643 - binary_accuracy: 0.6147\n",
            "FOLD  6\n",
            "Train  3062\n",
            "Test  340\n"
          ],
          "name": "stdout"
        },
        {
          "output_type": "stream",
          "text": [
            "INFO:absl:using Adamw optimizer\n",
            "INFO:absl:gradient_clip_norm=1.000000\n"
          ],
          "name": "stderr"
        },
        {
          "output_type": "stream",
          "text": [
            "Epoch 1/3\n",
            "383/383 [==============================] - 78s 164ms/step - loss: 0.7018 - binary_accuracy: 0.5098 - val_loss: 0.6333 - val_binary_accuracy: 0.6559\n",
            "Epoch 2/3\n",
            "383/383 [==============================] - 62s 162ms/step - loss: 0.6003 - binary_accuracy: 0.6737 - val_loss: 0.6030 - val_binary_accuracy: 0.6941\n",
            "Epoch 3/3\n",
            "383/383 [==============================] - 62s 162ms/step - loss: 0.4217 - binary_accuracy: 0.8062 - val_loss: 0.6583 - val_binary_accuracy: 0.6882\n",
            "43/43 [==============================] - 2s 50ms/step - loss: 0.6583 - binary_accuracy: 0.6882\n",
            "FOLD  7\n",
            "Train  3062\n",
            "Test  340\n"
          ],
          "name": "stdout"
        },
        {
          "output_type": "stream",
          "text": [
            "INFO:absl:using Adamw optimizer\n",
            "INFO:absl:gradient_clip_norm=1.000000\n"
          ],
          "name": "stderr"
        },
        {
          "output_type": "stream",
          "text": [
            "Epoch 1/3\n",
            "383/383 [==============================] - 77s 164ms/step - loss: 0.7035 - binary_accuracy: 0.5454 - val_loss: 0.6366 - val_binary_accuracy: 0.6441\n",
            "Epoch 2/3\n",
            "383/383 [==============================] - 62s 162ms/step - loss: 0.5965 - binary_accuracy: 0.6838 - val_loss: 0.6865 - val_binary_accuracy: 0.6294\n",
            "Epoch 3/3\n",
            "383/383 [==============================] - 62s 162ms/step - loss: 0.4340 - binary_accuracy: 0.8023 - val_loss: 0.8140 - val_binary_accuracy: 0.6471\n",
            "43/43 [==============================] - 2s 49ms/step - loss: 0.8140 - binary_accuracy: 0.6471\n",
            "FOLD  8\n",
            "Train  3062\n",
            "Test  340\n"
          ],
          "name": "stdout"
        },
        {
          "output_type": "stream",
          "text": [
            "INFO:absl:using Adamw optimizer\n",
            "INFO:absl:gradient_clip_norm=1.000000\n"
          ],
          "name": "stderr"
        },
        {
          "output_type": "stream",
          "text": [
            "Epoch 1/3\n",
            "383/383 [==============================] - 77s 164ms/step - loss: 0.7042 - binary_accuracy: 0.5223 - val_loss: 0.6506 - val_binary_accuracy: 0.6353\n",
            "Epoch 2/3\n",
            "383/383 [==============================] - 62s 162ms/step - loss: 0.6070 - binary_accuracy: 0.6704 - val_loss: 0.7311 - val_binary_accuracy: 0.6059\n",
            "Epoch 3/3\n",
            "383/383 [==============================] - 62s 162ms/step - loss: 0.4207 - binary_accuracy: 0.8055 - val_loss: 0.8084 - val_binary_accuracy: 0.6618\n",
            "43/43 [==============================] - 2s 50ms/step - loss: 0.8084 - binary_accuracy: 0.6618\n",
            "FOLD  9\n",
            "Train  3062\n",
            "Test  340\n"
          ],
          "name": "stdout"
        },
        {
          "output_type": "stream",
          "text": [
            "INFO:absl:using Adamw optimizer\n",
            "INFO:absl:gradient_clip_norm=1.000000\n"
          ],
          "name": "stderr"
        },
        {
          "output_type": "stream",
          "text": [
            "Epoch 1/3\n",
            "383/383 [==============================] - 78s 164ms/step - loss: 0.6978 - binary_accuracy: 0.5398 - val_loss: 0.6525 - val_binary_accuracy: 0.6118\n",
            "Epoch 2/3\n",
            "383/383 [==============================] - 62s 162ms/step - loss: 0.5896 - binary_accuracy: 0.6912 - val_loss: 0.7486 - val_binary_accuracy: 0.6324\n",
            "Epoch 3/3\n",
            "383/383 [==============================] - 62s 162ms/step - loss: 0.4085 - binary_accuracy: 0.8208 - val_loss: 0.8845 - val_binary_accuracy: 0.5882\n",
            "43/43 [==============================] - 2s 51ms/step - loss: 0.8845 - binary_accuracy: 0.5882\n",
            "Average error  0.6549999952316284\n"
          ],
          "name": "stdout"
        }
      ]
    },
    {
      "cell_type": "code",
      "metadata": {
        "id": "KrZzEDO2evnm",
        "colab": {
          "base_uri": "https://localhost:8080/",
          "height": 494
        },
        "outputId": "763ea89c-07a4-4f92-c4ac-4698d3914eec"
      },
      "source": [
        "# electra baseline with fine tuning\n",
        "bert_model_name = 'electra_base'\n",
        "epochs = 2\n",
        "init_lr = 2e-5\n",
        "batch_size = 8\n",
        "do_fine_tuning = True\n",
        "folds = 10\n",
        "\n",
        "def create_layers(net, text_input): \n",
        "  net = tf.keras.layers.Dropout(0.1)(net)\n",
        "  net = tf.keras.layers.Dense(1, activation='sigmoid', name='classifier')(net)\n",
        "  return tf.keras.Model(text_input, net)\n",
        "\n",
        "results1, history1, classifier_model1 = bert_10_fold(epochs=epochs, \n",
        "                                                  init_lr=init_lr, \n",
        "                                                  batch_size = batch_size, \n",
        "                                                  do_fine_tuning = do_fine_tuning, \n",
        "                                                  create_classifier = create_layers, \n",
        "                                                  bert_model_name = bert_model_name, \n",
        "                                                  folds = folds)\n",
        "\n",
        "print('Average error ', np.mean(results1[bert_model_name]))"
      ],
      "execution_count": null,
      "outputs": [
        {
          "output_type": "stream",
          "text": [
            "electra_base\n",
            "FOLD  0\n",
            "Train  3062\n",
            "Test  340\n"
          ],
          "name": "stdout"
        },
        {
          "output_type": "stream",
          "text": [
            "INFO:absl:using Adamw optimizer\n",
            "INFO:absl:gradient_clip_norm=1.000000\n"
          ],
          "name": "stderr"
        },
        {
          "output_type": "stream",
          "text": [
            "Epoch 1/2\n"
          ],
          "name": "stdout"
        },
        {
          "output_type": "error",
          "ename": "KeyboardInterrupt",
          "evalue": "ignored",
          "traceback": [
            "\u001b[0;31m---------------------------------------------------------------------------\u001b[0m",
            "\u001b[0;31mKeyboardInterrupt\u001b[0m                         Traceback (most recent call last)",
            "\u001b[0;32m<ipython-input-14-c2e02f1640ae>\u001b[0m in \u001b[0;36m<module>\u001b[0;34m()\u001b[0m\n\u001b[1;32m     18\u001b[0m                                                   \u001b[0mcreate_classifier\u001b[0m \u001b[0;34m=\u001b[0m \u001b[0mcreate_layers\u001b[0m\u001b[0;34m,\u001b[0m\u001b[0;34m\u001b[0m\u001b[0;34m\u001b[0m\u001b[0m\n\u001b[1;32m     19\u001b[0m                                                   \u001b[0mbert_model_name\u001b[0m \u001b[0;34m=\u001b[0m \u001b[0mbert_model_name\u001b[0m\u001b[0;34m,\u001b[0m\u001b[0;34m\u001b[0m\u001b[0;34m\u001b[0m\u001b[0m\n\u001b[0;32m---> 20\u001b[0;31m                                                   folds = folds)\n\u001b[0m\u001b[1;32m     21\u001b[0m \u001b[0;34m\u001b[0m\u001b[0m\n\u001b[1;32m     22\u001b[0m \u001b[0mprint\u001b[0m\u001b[0;34m(\u001b[0m\u001b[0;34m'Average error '\u001b[0m\u001b[0;34m,\u001b[0m \u001b[0mnp\u001b[0m\u001b[0;34m.\u001b[0m\u001b[0mmean\u001b[0m\u001b[0;34m(\u001b[0m\u001b[0mresults1\u001b[0m\u001b[0;34m[\u001b[0m\u001b[0mbert_model_name\u001b[0m\u001b[0;34m]\u001b[0m\u001b[0;34m)\u001b[0m\u001b[0;34m)\u001b[0m\u001b[0;34m\u001b[0m\u001b[0;34m\u001b[0m\u001b[0m\n",
            "\u001b[0;32m<ipython-input-11-cded5a533f20>\u001b[0m in \u001b[0;36mbert_10_fold\u001b[0;34m(epochs, init_lr, batch_size, create_classifier, bert_model_name, do_fine_tuning, folds)\u001b[0m\n\u001b[1;32m     32\u001b[0m \u001b[0;34m\u001b[0m\u001b[0m\n\u001b[1;32m     33\u001b[0m     \u001b[0;31m# fit model and calculate accuracy on test\u001b[0m\u001b[0;34m\u001b[0m\u001b[0;34m\u001b[0m\u001b[0;34m\u001b[0m\u001b[0m\n\u001b[0;32m---> 34\u001b[0;31m     \u001b[0mhistory\u001b[0m \u001b[0;34m=\u001b[0m \u001b[0mclassifier_model\u001b[0m\u001b[0;34m.\u001b[0m\u001b[0mfit\u001b[0m\u001b[0;34m(\u001b[0m\u001b[0mx\u001b[0m\u001b[0;34m=\u001b[0m\u001b[0mtrain\u001b[0m\u001b[0;34m,\u001b[0m \u001b[0mvalidation_data\u001b[0m\u001b[0;34m=\u001b[0m\u001b[0mtest\u001b[0m\u001b[0;34m,\u001b[0m \u001b[0mepochs\u001b[0m\u001b[0;34m=\u001b[0m\u001b[0mepochs\u001b[0m\u001b[0;34m)\u001b[0m\u001b[0;34m\u001b[0m\u001b[0;34m\u001b[0m\u001b[0m\n\u001b[0m\u001b[1;32m     35\u001b[0m     \u001b[0mloss\u001b[0m\u001b[0;34m,\u001b[0m \u001b[0maccuracy\u001b[0m \u001b[0;34m=\u001b[0m \u001b[0mclassifier_model\u001b[0m\u001b[0;34m.\u001b[0m\u001b[0mevaluate\u001b[0m\u001b[0;34m(\u001b[0m\u001b[0mtest\u001b[0m\u001b[0;34m)\u001b[0m\u001b[0;34m\u001b[0m\u001b[0;34m\u001b[0m\u001b[0m\n\u001b[1;32m     36\u001b[0m     \u001b[0maccuracies\u001b[0m\u001b[0;34m.\u001b[0m\u001b[0mappend\u001b[0m\u001b[0;34m(\u001b[0m\u001b[0maccuracy\u001b[0m\u001b[0;34m)\u001b[0m\u001b[0;34m\u001b[0m\u001b[0;34m\u001b[0m\u001b[0m\n",
            "\u001b[0;32m/usr/local/lib/python3.7/dist-packages/tensorflow/python/keras/engine/training.py\u001b[0m in \u001b[0;36mfit\u001b[0;34m(self, x, y, batch_size, epochs, verbose, callbacks, validation_split, validation_data, shuffle, class_weight, sample_weight, initial_epoch, steps_per_epoch, validation_steps, validation_batch_size, validation_freq, max_queue_size, workers, use_multiprocessing)\u001b[0m\n\u001b[1;32m   1098\u001b[0m                 _r=1):\n\u001b[1;32m   1099\u001b[0m               \u001b[0mcallbacks\u001b[0m\u001b[0;34m.\u001b[0m\u001b[0mon_train_batch_begin\u001b[0m\u001b[0;34m(\u001b[0m\u001b[0mstep\u001b[0m\u001b[0;34m)\u001b[0m\u001b[0;34m\u001b[0m\u001b[0;34m\u001b[0m\u001b[0m\n\u001b[0;32m-> 1100\u001b[0;31m               \u001b[0mtmp_logs\u001b[0m \u001b[0;34m=\u001b[0m \u001b[0mself\u001b[0m\u001b[0;34m.\u001b[0m\u001b[0mtrain_function\u001b[0m\u001b[0;34m(\u001b[0m\u001b[0miterator\u001b[0m\u001b[0;34m)\u001b[0m\u001b[0;34m\u001b[0m\u001b[0;34m\u001b[0m\u001b[0m\n\u001b[0m\u001b[1;32m   1101\u001b[0m               \u001b[0;32mif\u001b[0m \u001b[0mdata_handler\u001b[0m\u001b[0;34m.\u001b[0m\u001b[0mshould_sync\u001b[0m\u001b[0;34m:\u001b[0m\u001b[0;34m\u001b[0m\u001b[0;34m\u001b[0m\u001b[0m\n\u001b[1;32m   1102\u001b[0m                 \u001b[0mcontext\u001b[0m\u001b[0;34m.\u001b[0m\u001b[0masync_wait\u001b[0m\u001b[0;34m(\u001b[0m\u001b[0;34m)\u001b[0m\u001b[0;34m\u001b[0m\u001b[0;34m\u001b[0m\u001b[0m\n",
            "\u001b[0;32m/usr/local/lib/python3.7/dist-packages/tensorflow/python/eager/def_function.py\u001b[0m in \u001b[0;36m__call__\u001b[0;34m(self, *args, **kwds)\u001b[0m\n\u001b[1;32m    826\u001b[0m     \u001b[0mtracing_count\u001b[0m \u001b[0;34m=\u001b[0m \u001b[0mself\u001b[0m\u001b[0;34m.\u001b[0m\u001b[0mexperimental_get_tracing_count\u001b[0m\u001b[0;34m(\u001b[0m\u001b[0;34m)\u001b[0m\u001b[0;34m\u001b[0m\u001b[0;34m\u001b[0m\u001b[0m\n\u001b[1;32m    827\u001b[0m     \u001b[0;32mwith\u001b[0m \u001b[0mtrace\u001b[0m\u001b[0;34m.\u001b[0m\u001b[0mTrace\u001b[0m\u001b[0;34m(\u001b[0m\u001b[0mself\u001b[0m\u001b[0;34m.\u001b[0m\u001b[0m_name\u001b[0m\u001b[0;34m)\u001b[0m \u001b[0;32mas\u001b[0m \u001b[0mtm\u001b[0m\u001b[0;34m:\u001b[0m\u001b[0;34m\u001b[0m\u001b[0;34m\u001b[0m\u001b[0m\n\u001b[0;32m--> 828\u001b[0;31m       \u001b[0mresult\u001b[0m \u001b[0;34m=\u001b[0m \u001b[0mself\u001b[0m\u001b[0;34m.\u001b[0m\u001b[0m_call\u001b[0m\u001b[0;34m(\u001b[0m\u001b[0;34m*\u001b[0m\u001b[0margs\u001b[0m\u001b[0;34m,\u001b[0m \u001b[0;34m**\u001b[0m\u001b[0mkwds\u001b[0m\u001b[0;34m)\u001b[0m\u001b[0;34m\u001b[0m\u001b[0;34m\u001b[0m\u001b[0m\n\u001b[0m\u001b[1;32m    829\u001b[0m       \u001b[0mcompiler\u001b[0m \u001b[0;34m=\u001b[0m \u001b[0;34m\"xla\"\u001b[0m \u001b[0;32mif\u001b[0m \u001b[0mself\u001b[0m\u001b[0;34m.\u001b[0m\u001b[0m_experimental_compile\u001b[0m \u001b[0;32melse\u001b[0m \u001b[0;34m\"nonXla\"\u001b[0m\u001b[0;34m\u001b[0m\u001b[0;34m\u001b[0m\u001b[0m\n\u001b[1;32m    830\u001b[0m       \u001b[0mnew_tracing_count\u001b[0m \u001b[0;34m=\u001b[0m \u001b[0mself\u001b[0m\u001b[0;34m.\u001b[0m\u001b[0mexperimental_get_tracing_count\u001b[0m\u001b[0;34m(\u001b[0m\u001b[0;34m)\u001b[0m\u001b[0;34m\u001b[0m\u001b[0;34m\u001b[0m\u001b[0m\n",
            "\u001b[0;32m/usr/local/lib/python3.7/dist-packages/tensorflow/python/eager/def_function.py\u001b[0m in \u001b[0;36m_call\u001b[0;34m(self, *args, **kwds)\u001b[0m\n\u001b[1;32m    869\u001b[0m       \u001b[0;31m# This is the first call of __call__, so we have to initialize.\u001b[0m\u001b[0;34m\u001b[0m\u001b[0;34m\u001b[0m\u001b[0;34m\u001b[0m\u001b[0m\n\u001b[1;32m    870\u001b[0m       \u001b[0minitializers\u001b[0m \u001b[0;34m=\u001b[0m \u001b[0;34m[\u001b[0m\u001b[0;34m]\u001b[0m\u001b[0;34m\u001b[0m\u001b[0;34m\u001b[0m\u001b[0m\n\u001b[0;32m--> 871\u001b[0;31m       \u001b[0mself\u001b[0m\u001b[0;34m.\u001b[0m\u001b[0m_initialize\u001b[0m\u001b[0;34m(\u001b[0m\u001b[0margs\u001b[0m\u001b[0;34m,\u001b[0m \u001b[0mkwds\u001b[0m\u001b[0;34m,\u001b[0m \u001b[0madd_initializers_to\u001b[0m\u001b[0;34m=\u001b[0m\u001b[0minitializers\u001b[0m\u001b[0;34m)\u001b[0m\u001b[0;34m\u001b[0m\u001b[0;34m\u001b[0m\u001b[0m\n\u001b[0m\u001b[1;32m    872\u001b[0m     \u001b[0;32mfinally\u001b[0m\u001b[0;34m:\u001b[0m\u001b[0;34m\u001b[0m\u001b[0;34m\u001b[0m\u001b[0m\n\u001b[1;32m    873\u001b[0m       \u001b[0;31m# At this point we know that the initialization is complete (or less\u001b[0m\u001b[0;34m\u001b[0m\u001b[0;34m\u001b[0m\u001b[0;34m\u001b[0m\u001b[0m\n",
            "\u001b[0;32m/usr/local/lib/python3.7/dist-packages/tensorflow/python/eager/def_function.py\u001b[0m in \u001b[0;36m_initialize\u001b[0;34m(self, args, kwds, add_initializers_to)\u001b[0m\n\u001b[1;32m    724\u001b[0m     self._concrete_stateful_fn = (\n\u001b[1;32m    725\u001b[0m         self._stateful_fn._get_concrete_function_internal_garbage_collected(  # pylint: disable=protected-access\n\u001b[0;32m--> 726\u001b[0;31m             *args, **kwds))\n\u001b[0m\u001b[1;32m    727\u001b[0m \u001b[0;34m\u001b[0m\u001b[0m\n\u001b[1;32m    728\u001b[0m     \u001b[0;32mdef\u001b[0m \u001b[0minvalid_creator_scope\u001b[0m\u001b[0;34m(\u001b[0m\u001b[0;34m*\u001b[0m\u001b[0munused_args\u001b[0m\u001b[0;34m,\u001b[0m \u001b[0;34m**\u001b[0m\u001b[0munused_kwds\u001b[0m\u001b[0;34m)\u001b[0m\u001b[0;34m:\u001b[0m\u001b[0;34m\u001b[0m\u001b[0;34m\u001b[0m\u001b[0m\n",
            "\u001b[0;32m/usr/local/lib/python3.7/dist-packages/tensorflow/python/eager/function.py\u001b[0m in \u001b[0;36m_get_concrete_function_internal_garbage_collected\u001b[0;34m(self, *args, **kwargs)\u001b[0m\n\u001b[1;32m   2967\u001b[0m       \u001b[0margs\u001b[0m\u001b[0;34m,\u001b[0m \u001b[0mkwargs\u001b[0m \u001b[0;34m=\u001b[0m \u001b[0;32mNone\u001b[0m\u001b[0;34m,\u001b[0m \u001b[0;32mNone\u001b[0m\u001b[0;34m\u001b[0m\u001b[0;34m\u001b[0m\u001b[0m\n\u001b[1;32m   2968\u001b[0m     \u001b[0;32mwith\u001b[0m \u001b[0mself\u001b[0m\u001b[0;34m.\u001b[0m\u001b[0m_lock\u001b[0m\u001b[0;34m:\u001b[0m\u001b[0;34m\u001b[0m\u001b[0;34m\u001b[0m\u001b[0m\n\u001b[0;32m-> 2969\u001b[0;31m       \u001b[0mgraph_function\u001b[0m\u001b[0;34m,\u001b[0m \u001b[0m_\u001b[0m \u001b[0;34m=\u001b[0m \u001b[0mself\u001b[0m\u001b[0;34m.\u001b[0m\u001b[0m_maybe_define_function\u001b[0m\u001b[0;34m(\u001b[0m\u001b[0margs\u001b[0m\u001b[0;34m,\u001b[0m \u001b[0mkwargs\u001b[0m\u001b[0;34m)\u001b[0m\u001b[0;34m\u001b[0m\u001b[0;34m\u001b[0m\u001b[0m\n\u001b[0m\u001b[1;32m   2970\u001b[0m     \u001b[0;32mreturn\u001b[0m \u001b[0mgraph_function\u001b[0m\u001b[0;34m\u001b[0m\u001b[0;34m\u001b[0m\u001b[0m\n\u001b[1;32m   2971\u001b[0m \u001b[0;34m\u001b[0m\u001b[0m\n",
            "\u001b[0;32m/usr/local/lib/python3.7/dist-packages/tensorflow/python/eager/function.py\u001b[0m in \u001b[0;36m_maybe_define_function\u001b[0;34m(self, args, kwargs)\u001b[0m\n\u001b[1;32m   3359\u001b[0m \u001b[0;34m\u001b[0m\u001b[0m\n\u001b[1;32m   3360\u001b[0m           \u001b[0mself\u001b[0m\u001b[0;34m.\u001b[0m\u001b[0m_function_cache\u001b[0m\u001b[0;34m.\u001b[0m\u001b[0mmissed\u001b[0m\u001b[0;34m.\u001b[0m\u001b[0madd\u001b[0m\u001b[0;34m(\u001b[0m\u001b[0mcall_context_key\u001b[0m\u001b[0;34m)\u001b[0m\u001b[0;34m\u001b[0m\u001b[0;34m\u001b[0m\u001b[0m\n\u001b[0;32m-> 3361\u001b[0;31m           \u001b[0mgraph_function\u001b[0m \u001b[0;34m=\u001b[0m \u001b[0mself\u001b[0m\u001b[0;34m.\u001b[0m\u001b[0m_create_graph_function\u001b[0m\u001b[0;34m(\u001b[0m\u001b[0margs\u001b[0m\u001b[0;34m,\u001b[0m \u001b[0mkwargs\u001b[0m\u001b[0;34m)\u001b[0m\u001b[0;34m\u001b[0m\u001b[0;34m\u001b[0m\u001b[0m\n\u001b[0m\u001b[1;32m   3362\u001b[0m           \u001b[0mself\u001b[0m\u001b[0;34m.\u001b[0m\u001b[0m_function_cache\u001b[0m\u001b[0;34m.\u001b[0m\u001b[0mprimary\u001b[0m\u001b[0;34m[\u001b[0m\u001b[0mcache_key\u001b[0m\u001b[0;34m]\u001b[0m \u001b[0;34m=\u001b[0m \u001b[0mgraph_function\u001b[0m\u001b[0;34m\u001b[0m\u001b[0;34m\u001b[0m\u001b[0m\n\u001b[1;32m   3363\u001b[0m \u001b[0;34m\u001b[0m\u001b[0m\n",
            "\u001b[0;32m/usr/local/lib/python3.7/dist-packages/tensorflow/python/eager/function.py\u001b[0m in \u001b[0;36m_create_graph_function\u001b[0;34m(self, args, kwargs, override_flat_arg_shapes)\u001b[0m\n\u001b[1;32m   3204\u001b[0m             \u001b[0marg_names\u001b[0m\u001b[0;34m=\u001b[0m\u001b[0marg_names\u001b[0m\u001b[0;34m,\u001b[0m\u001b[0;34m\u001b[0m\u001b[0;34m\u001b[0m\u001b[0m\n\u001b[1;32m   3205\u001b[0m             \u001b[0moverride_flat_arg_shapes\u001b[0m\u001b[0;34m=\u001b[0m\u001b[0moverride_flat_arg_shapes\u001b[0m\u001b[0;34m,\u001b[0m\u001b[0;34m\u001b[0m\u001b[0;34m\u001b[0m\u001b[0m\n\u001b[0;32m-> 3206\u001b[0;31m             capture_by_value=self._capture_by_value),\n\u001b[0m\u001b[1;32m   3207\u001b[0m         \u001b[0mself\u001b[0m\u001b[0;34m.\u001b[0m\u001b[0m_function_attributes\u001b[0m\u001b[0;34m,\u001b[0m\u001b[0;34m\u001b[0m\u001b[0;34m\u001b[0m\u001b[0m\n\u001b[1;32m   3208\u001b[0m         \u001b[0mfunction_spec\u001b[0m\u001b[0;34m=\u001b[0m\u001b[0mself\u001b[0m\u001b[0;34m.\u001b[0m\u001b[0mfunction_spec\u001b[0m\u001b[0;34m,\u001b[0m\u001b[0;34m\u001b[0m\u001b[0;34m\u001b[0m\u001b[0m\n",
            "\u001b[0;32m/usr/local/lib/python3.7/dist-packages/tensorflow/python/framework/func_graph.py\u001b[0m in \u001b[0;36mfunc_graph_from_py_func\u001b[0;34m(name, python_func, args, kwargs, signature, func_graph, autograph, autograph_options, add_control_dependencies, arg_names, op_return_value, collections, capture_by_value, override_flat_arg_shapes)\u001b[0m\n\u001b[1;32m    988\u001b[0m         \u001b[0m_\u001b[0m\u001b[0;34m,\u001b[0m \u001b[0moriginal_func\u001b[0m \u001b[0;34m=\u001b[0m \u001b[0mtf_decorator\u001b[0m\u001b[0;34m.\u001b[0m\u001b[0munwrap\u001b[0m\u001b[0;34m(\u001b[0m\u001b[0mpython_func\u001b[0m\u001b[0;34m)\u001b[0m\u001b[0;34m\u001b[0m\u001b[0;34m\u001b[0m\u001b[0m\n\u001b[1;32m    989\u001b[0m \u001b[0;34m\u001b[0m\u001b[0m\n\u001b[0;32m--> 990\u001b[0;31m       \u001b[0mfunc_outputs\u001b[0m \u001b[0;34m=\u001b[0m \u001b[0mpython_func\u001b[0m\u001b[0;34m(\u001b[0m\u001b[0;34m*\u001b[0m\u001b[0mfunc_args\u001b[0m\u001b[0;34m,\u001b[0m \u001b[0;34m**\u001b[0m\u001b[0mfunc_kwargs\u001b[0m\u001b[0;34m)\u001b[0m\u001b[0;34m\u001b[0m\u001b[0;34m\u001b[0m\u001b[0m\n\u001b[0m\u001b[1;32m    991\u001b[0m \u001b[0;34m\u001b[0m\u001b[0m\n\u001b[1;32m    992\u001b[0m       \u001b[0;31m# invariant: `func_outputs` contains only Tensors, CompositeTensors,\u001b[0m\u001b[0;34m\u001b[0m\u001b[0;34m\u001b[0m\u001b[0;34m\u001b[0m\u001b[0m\n",
            "\u001b[0;32m/usr/local/lib/python3.7/dist-packages/tensorflow/python/eager/def_function.py\u001b[0m in \u001b[0;36mwrapped_fn\u001b[0;34m(*args, **kwds)\u001b[0m\n\u001b[1;32m    632\u001b[0m             \u001b[0mxla_context\u001b[0m\u001b[0;34m.\u001b[0m\u001b[0mExit\u001b[0m\u001b[0;34m(\u001b[0m\u001b[0;34m)\u001b[0m\u001b[0;34m\u001b[0m\u001b[0;34m\u001b[0m\u001b[0m\n\u001b[1;32m    633\u001b[0m         \u001b[0;32melse\u001b[0m\u001b[0;34m:\u001b[0m\u001b[0;34m\u001b[0m\u001b[0;34m\u001b[0m\u001b[0m\n\u001b[0;32m--> 634\u001b[0;31m           \u001b[0mout\u001b[0m \u001b[0;34m=\u001b[0m \u001b[0mweak_wrapped_fn\u001b[0m\u001b[0;34m(\u001b[0m\u001b[0;34m)\u001b[0m\u001b[0;34m.\u001b[0m\u001b[0m__wrapped__\u001b[0m\u001b[0;34m(\u001b[0m\u001b[0;34m*\u001b[0m\u001b[0margs\u001b[0m\u001b[0;34m,\u001b[0m \u001b[0;34m**\u001b[0m\u001b[0mkwds\u001b[0m\u001b[0;34m)\u001b[0m\u001b[0;34m\u001b[0m\u001b[0;34m\u001b[0m\u001b[0m\n\u001b[0m\u001b[1;32m    635\u001b[0m         \u001b[0;32mreturn\u001b[0m \u001b[0mout\u001b[0m\u001b[0;34m\u001b[0m\u001b[0;34m\u001b[0m\u001b[0m\n\u001b[1;32m    636\u001b[0m \u001b[0;34m\u001b[0m\u001b[0m\n",
            "\u001b[0;32m/usr/local/lib/python3.7/dist-packages/tensorflow/python/framework/func_graph.py\u001b[0m in \u001b[0;36mwrapper\u001b[0;34m(*args, **kwargs)\u001b[0m\n\u001b[1;32m    971\u001b[0m                     \u001b[0mrecursive\u001b[0m\u001b[0;34m=\u001b[0m\u001b[0;32mTrue\u001b[0m\u001b[0;34m,\u001b[0m\u001b[0;34m\u001b[0m\u001b[0;34m\u001b[0m\u001b[0m\n\u001b[1;32m    972\u001b[0m                     \u001b[0moptional_features\u001b[0m\u001b[0;34m=\u001b[0m\u001b[0mautograph_options\u001b[0m\u001b[0;34m,\u001b[0m\u001b[0;34m\u001b[0m\u001b[0;34m\u001b[0m\u001b[0m\n\u001b[0;32m--> 973\u001b[0;31m                     \u001b[0muser_requested\u001b[0m\u001b[0;34m=\u001b[0m\u001b[0;32mTrue\u001b[0m\u001b[0;34m,\u001b[0m\u001b[0;34m\u001b[0m\u001b[0;34m\u001b[0m\u001b[0m\n\u001b[0m\u001b[1;32m    974\u001b[0m                 ))\n\u001b[1;32m    975\u001b[0m           \u001b[0;32mexcept\u001b[0m \u001b[0mException\u001b[0m \u001b[0;32mas\u001b[0m \u001b[0me\u001b[0m\u001b[0;34m:\u001b[0m  \u001b[0;31m# pylint:disable=broad-except\u001b[0m\u001b[0;34m\u001b[0m\u001b[0;34m\u001b[0m\u001b[0m\n",
            "\u001b[0;32m/usr/local/lib/python3.7/dist-packages/tensorflow/python/autograph/impl/api.py\u001b[0m in \u001b[0;36mconverted_call\u001b[0;34m(f, args, kwargs, caller_fn_scope, options)\u001b[0m\n\u001b[1;32m    457\u001b[0m     \u001b[0;32mtry\u001b[0m\u001b[0;34m:\u001b[0m\u001b[0;34m\u001b[0m\u001b[0;34m\u001b[0m\u001b[0m\n\u001b[1;32m    458\u001b[0m       \u001b[0;32mif\u001b[0m \u001b[0mkwargs\u001b[0m \u001b[0;32mis\u001b[0m \u001b[0;32mnot\u001b[0m \u001b[0;32mNone\u001b[0m\u001b[0;34m:\u001b[0m\u001b[0;34m\u001b[0m\u001b[0;34m\u001b[0m\u001b[0m\n\u001b[0;32m--> 459\u001b[0;31m         \u001b[0mresult\u001b[0m \u001b[0;34m=\u001b[0m \u001b[0mconverted_f\u001b[0m\u001b[0;34m(\u001b[0m\u001b[0;34m*\u001b[0m\u001b[0meffective_args\u001b[0m\u001b[0;34m,\u001b[0m \u001b[0;34m**\u001b[0m\u001b[0mkwargs\u001b[0m\u001b[0;34m)\u001b[0m\u001b[0;34m\u001b[0m\u001b[0;34m\u001b[0m\u001b[0m\n\u001b[0m\u001b[1;32m    460\u001b[0m       \u001b[0;32melse\u001b[0m\u001b[0;34m:\u001b[0m\u001b[0;34m\u001b[0m\u001b[0;34m\u001b[0m\u001b[0m\n\u001b[1;32m    461\u001b[0m         \u001b[0mresult\u001b[0m \u001b[0;34m=\u001b[0m \u001b[0mconverted_f\u001b[0m\u001b[0;34m(\u001b[0m\u001b[0;34m*\u001b[0m\u001b[0meffective_args\u001b[0m\u001b[0;34m)\u001b[0m\u001b[0;34m\u001b[0m\u001b[0;34m\u001b[0m\u001b[0m\n",
            "\u001b[0;32m/usr/local/lib/python3.7/dist-packages/tensorflow/python/keras/engine/training.py\u001b[0m in \u001b[0;36mtf__train_function\u001b[0;34m(iterator)\u001b[0m\n\u001b[1;32m     14\u001b[0m                 \u001b[0;32mtry\u001b[0m\u001b[0;34m:\u001b[0m\u001b[0;34m\u001b[0m\u001b[0;34m\u001b[0m\u001b[0m\n\u001b[1;32m     15\u001b[0m                     \u001b[0mdo_return\u001b[0m \u001b[0;34m=\u001b[0m \u001b[0;32mTrue\u001b[0m\u001b[0;34m\u001b[0m\u001b[0;34m\u001b[0m\u001b[0m\n\u001b[0;32m---> 16\u001b[0;31m                     \u001b[0mretval_\u001b[0m \u001b[0;34m=\u001b[0m \u001b[0mag__\u001b[0m\u001b[0;34m.\u001b[0m\u001b[0mconverted_call\u001b[0m\u001b[0;34m(\u001b[0m\u001b[0mag__\u001b[0m\u001b[0;34m.\u001b[0m\u001b[0mld\u001b[0m\u001b[0;34m(\u001b[0m\u001b[0mstep_function\u001b[0m\u001b[0;34m)\u001b[0m\u001b[0;34m,\u001b[0m \u001b[0;34m(\u001b[0m\u001b[0mag__\u001b[0m\u001b[0;34m.\u001b[0m\u001b[0mld\u001b[0m\u001b[0;34m(\u001b[0m\u001b[0mself\u001b[0m\u001b[0;34m)\u001b[0m\u001b[0;34m,\u001b[0m \u001b[0mag__\u001b[0m\u001b[0;34m.\u001b[0m\u001b[0mld\u001b[0m\u001b[0;34m(\u001b[0m\u001b[0miterator\u001b[0m\u001b[0;34m)\u001b[0m\u001b[0;34m)\u001b[0m\u001b[0;34m,\u001b[0m \u001b[0;32mNone\u001b[0m\u001b[0;34m,\u001b[0m \u001b[0mfscope\u001b[0m\u001b[0;34m)\u001b[0m\u001b[0;34m\u001b[0m\u001b[0;34m\u001b[0m\u001b[0m\n\u001b[0m\u001b[1;32m     17\u001b[0m                 \u001b[0;32mexcept\u001b[0m\u001b[0;34m:\u001b[0m\u001b[0;34m\u001b[0m\u001b[0;34m\u001b[0m\u001b[0m\n\u001b[1;32m     18\u001b[0m                     \u001b[0mdo_return\u001b[0m \u001b[0;34m=\u001b[0m \u001b[0;32mFalse\u001b[0m\u001b[0;34m\u001b[0m\u001b[0;34m\u001b[0m\u001b[0m\n",
            "\u001b[0;32m/usr/local/lib/python3.7/dist-packages/tensorflow/python/autograph/impl/api.py\u001b[0m in \u001b[0;36mconverted_call\u001b[0;34m(f, args, kwargs, caller_fn_scope, options)\u001b[0m\n\u001b[1;32m    394\u001b[0m \u001b[0;34m\u001b[0m\u001b[0m\n\u001b[1;32m    395\u001b[0m   \u001b[0;32mif\u001b[0m \u001b[0;32mnot\u001b[0m \u001b[0moptions\u001b[0m\u001b[0;34m.\u001b[0m\u001b[0muser_requested\u001b[0m \u001b[0;32mand\u001b[0m \u001b[0mconversion\u001b[0m\u001b[0;34m.\u001b[0m\u001b[0mis_allowlisted\u001b[0m\u001b[0;34m(\u001b[0m\u001b[0mf\u001b[0m\u001b[0;34m)\u001b[0m\u001b[0;34m:\u001b[0m\u001b[0;34m\u001b[0m\u001b[0;34m\u001b[0m\u001b[0m\n\u001b[0;32m--> 396\u001b[0;31m     \u001b[0;32mreturn\u001b[0m \u001b[0m_call_unconverted\u001b[0m\u001b[0;34m(\u001b[0m\u001b[0mf\u001b[0m\u001b[0;34m,\u001b[0m \u001b[0margs\u001b[0m\u001b[0;34m,\u001b[0m \u001b[0mkwargs\u001b[0m\u001b[0;34m,\u001b[0m \u001b[0moptions\u001b[0m\u001b[0;34m)\u001b[0m\u001b[0;34m\u001b[0m\u001b[0;34m\u001b[0m\u001b[0m\n\u001b[0m\u001b[1;32m    397\u001b[0m \u001b[0;34m\u001b[0m\u001b[0m\n\u001b[1;32m    398\u001b[0m   \u001b[0;31m# internal_convert_user_code is for example turned off when issuing a dynamic\u001b[0m\u001b[0;34m\u001b[0m\u001b[0;34m\u001b[0m\u001b[0;34m\u001b[0m\u001b[0m\n",
            "\u001b[0;32m/usr/local/lib/python3.7/dist-packages/tensorflow/python/autograph/impl/api.py\u001b[0m in \u001b[0;36m_call_unconverted\u001b[0;34m(f, args, kwargs, options, update_cache)\u001b[0m\n\u001b[1;32m    477\u001b[0m   \u001b[0;32mif\u001b[0m \u001b[0mkwargs\u001b[0m \u001b[0;32mis\u001b[0m \u001b[0;32mnot\u001b[0m \u001b[0;32mNone\u001b[0m\u001b[0;34m:\u001b[0m\u001b[0;34m\u001b[0m\u001b[0;34m\u001b[0m\u001b[0m\n\u001b[1;32m    478\u001b[0m     \u001b[0;32mreturn\u001b[0m \u001b[0mf\u001b[0m\u001b[0;34m(\u001b[0m\u001b[0;34m*\u001b[0m\u001b[0margs\u001b[0m\u001b[0;34m,\u001b[0m \u001b[0;34m**\u001b[0m\u001b[0mkwargs\u001b[0m\u001b[0;34m)\u001b[0m\u001b[0;34m\u001b[0m\u001b[0;34m\u001b[0m\u001b[0m\n\u001b[0;32m--> 479\u001b[0;31m   \u001b[0;32mreturn\u001b[0m \u001b[0mf\u001b[0m\u001b[0;34m(\u001b[0m\u001b[0;34m*\u001b[0m\u001b[0margs\u001b[0m\u001b[0;34m)\u001b[0m\u001b[0;34m\u001b[0m\u001b[0;34m\u001b[0m\u001b[0m\n\u001b[0m\u001b[1;32m    480\u001b[0m \u001b[0;34m\u001b[0m\u001b[0m\n\u001b[1;32m    481\u001b[0m \u001b[0;34m\u001b[0m\u001b[0m\n",
            "\u001b[0;32m/usr/local/lib/python3.7/dist-packages/tensorflow/python/keras/engine/training.py\u001b[0m in \u001b[0;36mstep_function\u001b[0;34m(model, iterator)\u001b[0m\n\u001b[1;32m    793\u001b[0m \u001b[0;34m\u001b[0m\u001b[0m\n\u001b[1;32m    794\u001b[0m       \u001b[0mdata\u001b[0m \u001b[0;34m=\u001b[0m \u001b[0mnext\u001b[0m\u001b[0;34m(\u001b[0m\u001b[0miterator\u001b[0m\u001b[0;34m)\u001b[0m\u001b[0;34m\u001b[0m\u001b[0;34m\u001b[0m\u001b[0m\n\u001b[0;32m--> 795\u001b[0;31m       \u001b[0moutputs\u001b[0m \u001b[0;34m=\u001b[0m \u001b[0mmodel\u001b[0m\u001b[0;34m.\u001b[0m\u001b[0mdistribute_strategy\u001b[0m\u001b[0;34m.\u001b[0m\u001b[0mrun\u001b[0m\u001b[0;34m(\u001b[0m\u001b[0mrun_step\u001b[0m\u001b[0;34m,\u001b[0m \u001b[0margs\u001b[0m\u001b[0;34m=\u001b[0m\u001b[0;34m(\u001b[0m\u001b[0mdata\u001b[0m\u001b[0;34m,\u001b[0m\u001b[0;34m)\u001b[0m\u001b[0;34m)\u001b[0m\u001b[0;34m\u001b[0m\u001b[0;34m\u001b[0m\u001b[0m\n\u001b[0m\u001b[1;32m    796\u001b[0m       outputs = reduce_per_replica(\n\u001b[1;32m    797\u001b[0m           outputs, self.distribute_strategy, reduction='first')\n",
            "\u001b[0;32m/usr/local/lib/python3.7/dist-packages/tensorflow/python/distribute/distribute_lib.py\u001b[0m in \u001b[0;36mrun\u001b[0;34m(***failed resolving arguments***)\u001b[0m\n\u001b[1;32m   1257\u001b[0m       fn = autograph.tf_convert(\n\u001b[1;32m   1258\u001b[0m           fn, autograph_ctx.control_status_ctx(), convert_by_default=False)\n\u001b[0;32m-> 1259\u001b[0;31m       \u001b[0;32mreturn\u001b[0m \u001b[0mself\u001b[0m\u001b[0;34m.\u001b[0m\u001b[0m_extended\u001b[0m\u001b[0;34m.\u001b[0m\u001b[0mcall_for_each_replica\u001b[0m\u001b[0;34m(\u001b[0m\u001b[0mfn\u001b[0m\u001b[0;34m,\u001b[0m \u001b[0margs\u001b[0m\u001b[0;34m=\u001b[0m\u001b[0margs\u001b[0m\u001b[0;34m,\u001b[0m \u001b[0mkwargs\u001b[0m\u001b[0;34m=\u001b[0m\u001b[0mkwargs\u001b[0m\u001b[0;34m)\u001b[0m\u001b[0;34m\u001b[0m\u001b[0;34m\u001b[0m\u001b[0m\n\u001b[0m\u001b[1;32m   1260\u001b[0m \u001b[0;34m\u001b[0m\u001b[0m\n\u001b[1;32m   1261\u001b[0m   \u001b[0;32mdef\u001b[0m \u001b[0mreduce\u001b[0m\u001b[0;34m(\u001b[0m\u001b[0mself\u001b[0m\u001b[0;34m,\u001b[0m \u001b[0mreduce_op\u001b[0m\u001b[0;34m,\u001b[0m \u001b[0mvalue\u001b[0m\u001b[0;34m,\u001b[0m \u001b[0maxis\u001b[0m\u001b[0;34m)\u001b[0m\u001b[0;34m:\u001b[0m\u001b[0;34m\u001b[0m\u001b[0;34m\u001b[0m\u001b[0m\n",
            "\u001b[0;32m/usr/local/lib/python3.7/dist-packages/tensorflow/python/distribute/distribute_lib.py\u001b[0m in \u001b[0;36mcall_for_each_replica\u001b[0;34m(self, fn, args, kwargs)\u001b[0m\n\u001b[1;32m   2728\u001b[0m       \u001b[0mkwargs\u001b[0m \u001b[0;34m=\u001b[0m \u001b[0;34m{\u001b[0m\u001b[0;34m}\u001b[0m\u001b[0;34m\u001b[0m\u001b[0;34m\u001b[0m\u001b[0m\n\u001b[1;32m   2729\u001b[0m     \u001b[0;32mwith\u001b[0m \u001b[0mself\u001b[0m\u001b[0;34m.\u001b[0m\u001b[0m_container_strategy\u001b[0m\u001b[0;34m(\u001b[0m\u001b[0;34m)\u001b[0m\u001b[0;34m.\u001b[0m\u001b[0mscope\u001b[0m\u001b[0;34m(\u001b[0m\u001b[0;34m)\u001b[0m\u001b[0;34m:\u001b[0m\u001b[0;34m\u001b[0m\u001b[0;34m\u001b[0m\u001b[0m\n\u001b[0;32m-> 2730\u001b[0;31m       \u001b[0;32mreturn\u001b[0m \u001b[0mself\u001b[0m\u001b[0;34m.\u001b[0m\u001b[0m_call_for_each_replica\u001b[0m\u001b[0;34m(\u001b[0m\u001b[0mfn\u001b[0m\u001b[0;34m,\u001b[0m \u001b[0margs\u001b[0m\u001b[0;34m,\u001b[0m \u001b[0mkwargs\u001b[0m\u001b[0;34m)\u001b[0m\u001b[0;34m\u001b[0m\u001b[0;34m\u001b[0m\u001b[0m\n\u001b[0m\u001b[1;32m   2731\u001b[0m \u001b[0;34m\u001b[0m\u001b[0m\n\u001b[1;32m   2732\u001b[0m   \u001b[0;32mdef\u001b[0m \u001b[0m_call_for_each_replica\u001b[0m\u001b[0;34m(\u001b[0m\u001b[0mself\u001b[0m\u001b[0;34m,\u001b[0m \u001b[0mfn\u001b[0m\u001b[0;34m,\u001b[0m \u001b[0margs\u001b[0m\u001b[0;34m,\u001b[0m \u001b[0mkwargs\u001b[0m\u001b[0;34m)\u001b[0m\u001b[0;34m:\u001b[0m\u001b[0;34m\u001b[0m\u001b[0;34m\u001b[0m\u001b[0m\n",
            "\u001b[0;32m/usr/local/lib/python3.7/dist-packages/tensorflow/python/distribute/distribute_lib.py\u001b[0m in \u001b[0;36m_call_for_each_replica\u001b[0;34m(self, fn, args, kwargs)\u001b[0m\n\u001b[1;32m   3415\u001b[0m   \u001b[0;32mdef\u001b[0m \u001b[0m_call_for_each_replica\u001b[0m\u001b[0;34m(\u001b[0m\u001b[0mself\u001b[0m\u001b[0;34m,\u001b[0m \u001b[0mfn\u001b[0m\u001b[0;34m,\u001b[0m \u001b[0margs\u001b[0m\u001b[0;34m,\u001b[0m \u001b[0mkwargs\u001b[0m\u001b[0;34m)\u001b[0m\u001b[0;34m:\u001b[0m\u001b[0;34m\u001b[0m\u001b[0;34m\u001b[0m\u001b[0m\n\u001b[1;32m   3416\u001b[0m     \u001b[0;32mwith\u001b[0m \u001b[0mReplicaContext\u001b[0m\u001b[0;34m(\u001b[0m\u001b[0mself\u001b[0m\u001b[0;34m.\u001b[0m\u001b[0m_container_strategy\u001b[0m\u001b[0;34m(\u001b[0m\u001b[0;34m)\u001b[0m\u001b[0;34m,\u001b[0m \u001b[0mreplica_id_in_sync_group\u001b[0m\u001b[0;34m=\u001b[0m\u001b[0;36m0\u001b[0m\u001b[0;34m)\u001b[0m\u001b[0;34m:\u001b[0m\u001b[0;34m\u001b[0m\u001b[0;34m\u001b[0m\u001b[0m\n\u001b[0;32m-> 3417\u001b[0;31m       \u001b[0;32mreturn\u001b[0m \u001b[0mfn\u001b[0m\u001b[0;34m(\u001b[0m\u001b[0;34m*\u001b[0m\u001b[0margs\u001b[0m\u001b[0;34m,\u001b[0m \u001b[0;34m**\u001b[0m\u001b[0mkwargs\u001b[0m\u001b[0;34m)\u001b[0m\u001b[0;34m\u001b[0m\u001b[0;34m\u001b[0m\u001b[0m\n\u001b[0m\u001b[1;32m   3418\u001b[0m \u001b[0;34m\u001b[0m\u001b[0m\n\u001b[1;32m   3419\u001b[0m   \u001b[0;32mdef\u001b[0m \u001b[0m_reduce_to\u001b[0m\u001b[0;34m(\u001b[0m\u001b[0mself\u001b[0m\u001b[0;34m,\u001b[0m \u001b[0mreduce_op\u001b[0m\u001b[0;34m,\u001b[0m \u001b[0mvalue\u001b[0m\u001b[0;34m,\u001b[0m \u001b[0mdestinations\u001b[0m\u001b[0;34m,\u001b[0m \u001b[0moptions\u001b[0m\u001b[0;34m)\u001b[0m\u001b[0;34m:\u001b[0m\u001b[0;34m\u001b[0m\u001b[0;34m\u001b[0m\u001b[0m\n",
            "\u001b[0;32m/usr/local/lib/python3.7/dist-packages/tensorflow/python/autograph/impl/api.py\u001b[0m in \u001b[0;36mwrapper\u001b[0;34m(*args, **kwargs)\u001b[0m\n\u001b[1;32m    665\u001b[0m       \u001b[0;32mtry\u001b[0m\u001b[0;34m:\u001b[0m\u001b[0;34m\u001b[0m\u001b[0;34m\u001b[0m\u001b[0m\n\u001b[1;32m    666\u001b[0m         \u001b[0;32mwith\u001b[0m \u001b[0mconversion_ctx\u001b[0m\u001b[0;34m:\u001b[0m\u001b[0;34m\u001b[0m\u001b[0;34m\u001b[0m\u001b[0m\n\u001b[0;32m--> 667\u001b[0;31m           \u001b[0;32mreturn\u001b[0m \u001b[0mconverted_call\u001b[0m\u001b[0;34m(\u001b[0m\u001b[0mf\u001b[0m\u001b[0;34m,\u001b[0m \u001b[0margs\u001b[0m\u001b[0;34m,\u001b[0m \u001b[0mkwargs\u001b[0m\u001b[0;34m,\u001b[0m \u001b[0moptions\u001b[0m\u001b[0;34m=\u001b[0m\u001b[0moptions\u001b[0m\u001b[0;34m)\u001b[0m\u001b[0;34m\u001b[0m\u001b[0;34m\u001b[0m\u001b[0m\n\u001b[0m\u001b[1;32m    668\u001b[0m       \u001b[0;32mexcept\u001b[0m \u001b[0mException\u001b[0m \u001b[0;32mas\u001b[0m \u001b[0me\u001b[0m\u001b[0;34m:\u001b[0m  \u001b[0;31m# pylint:disable=broad-except\u001b[0m\u001b[0;34m\u001b[0m\u001b[0;34m\u001b[0m\u001b[0m\n\u001b[1;32m    669\u001b[0m         \u001b[0;32mif\u001b[0m \u001b[0mhasattr\u001b[0m\u001b[0;34m(\u001b[0m\u001b[0me\u001b[0m\u001b[0;34m,\u001b[0m \u001b[0;34m'ag_error_metadata'\u001b[0m\u001b[0;34m)\u001b[0m\u001b[0;34m:\u001b[0m\u001b[0;34m\u001b[0m\u001b[0;34m\u001b[0m\u001b[0m\n",
            "\u001b[0;32m/usr/local/lib/python3.7/dist-packages/tensorflow/python/autograph/impl/api.py\u001b[0m in \u001b[0;36mconverted_call\u001b[0;34m(f, args, kwargs, caller_fn_scope, options)\u001b[0m\n\u001b[1;32m    394\u001b[0m \u001b[0;34m\u001b[0m\u001b[0m\n\u001b[1;32m    395\u001b[0m   \u001b[0;32mif\u001b[0m \u001b[0;32mnot\u001b[0m \u001b[0moptions\u001b[0m\u001b[0;34m.\u001b[0m\u001b[0muser_requested\u001b[0m \u001b[0;32mand\u001b[0m \u001b[0mconversion\u001b[0m\u001b[0;34m.\u001b[0m\u001b[0mis_allowlisted\u001b[0m\u001b[0;34m(\u001b[0m\u001b[0mf\u001b[0m\u001b[0;34m)\u001b[0m\u001b[0;34m:\u001b[0m\u001b[0;34m\u001b[0m\u001b[0;34m\u001b[0m\u001b[0m\n\u001b[0;32m--> 396\u001b[0;31m     \u001b[0;32mreturn\u001b[0m \u001b[0m_call_unconverted\u001b[0m\u001b[0;34m(\u001b[0m\u001b[0mf\u001b[0m\u001b[0;34m,\u001b[0m \u001b[0margs\u001b[0m\u001b[0;34m,\u001b[0m \u001b[0mkwargs\u001b[0m\u001b[0;34m,\u001b[0m \u001b[0moptions\u001b[0m\u001b[0;34m)\u001b[0m\u001b[0;34m\u001b[0m\u001b[0;34m\u001b[0m\u001b[0m\n\u001b[0m\u001b[1;32m    397\u001b[0m \u001b[0;34m\u001b[0m\u001b[0m\n\u001b[1;32m    398\u001b[0m   \u001b[0;31m# internal_convert_user_code is for example turned off when issuing a dynamic\u001b[0m\u001b[0;34m\u001b[0m\u001b[0;34m\u001b[0m\u001b[0;34m\u001b[0m\u001b[0m\n",
            "\u001b[0;32m/usr/local/lib/python3.7/dist-packages/tensorflow/python/autograph/impl/api.py\u001b[0m in \u001b[0;36m_call_unconverted\u001b[0;34m(f, args, kwargs, options, update_cache)\u001b[0m\n\u001b[1;32m    476\u001b[0m \u001b[0;34m\u001b[0m\u001b[0m\n\u001b[1;32m    477\u001b[0m   \u001b[0;32mif\u001b[0m \u001b[0mkwargs\u001b[0m \u001b[0;32mis\u001b[0m \u001b[0;32mnot\u001b[0m \u001b[0;32mNone\u001b[0m\u001b[0;34m:\u001b[0m\u001b[0;34m\u001b[0m\u001b[0;34m\u001b[0m\u001b[0m\n\u001b[0;32m--> 478\u001b[0;31m     \u001b[0;32mreturn\u001b[0m \u001b[0mf\u001b[0m\u001b[0;34m(\u001b[0m\u001b[0;34m*\u001b[0m\u001b[0margs\u001b[0m\u001b[0;34m,\u001b[0m \u001b[0;34m**\u001b[0m\u001b[0mkwargs\u001b[0m\u001b[0;34m)\u001b[0m\u001b[0;34m\u001b[0m\u001b[0;34m\u001b[0m\u001b[0m\n\u001b[0m\u001b[1;32m    479\u001b[0m   \u001b[0;32mreturn\u001b[0m \u001b[0mf\u001b[0m\u001b[0;34m(\u001b[0m\u001b[0;34m*\u001b[0m\u001b[0margs\u001b[0m\u001b[0;34m)\u001b[0m\u001b[0;34m\u001b[0m\u001b[0;34m\u001b[0m\u001b[0m\n\u001b[1;32m    480\u001b[0m \u001b[0;34m\u001b[0m\u001b[0m\n",
            "\u001b[0;32m/usr/local/lib/python3.7/dist-packages/tensorflow/python/keras/engine/training.py\u001b[0m in \u001b[0;36mrun_step\u001b[0;34m(data)\u001b[0m\n\u001b[1;32m    786\u001b[0m \u001b[0;34m\u001b[0m\u001b[0m\n\u001b[1;32m    787\u001b[0m       \u001b[0;32mdef\u001b[0m \u001b[0mrun_step\u001b[0m\u001b[0;34m(\u001b[0m\u001b[0mdata\u001b[0m\u001b[0;34m)\u001b[0m\u001b[0;34m:\u001b[0m\u001b[0;34m\u001b[0m\u001b[0;34m\u001b[0m\u001b[0m\n\u001b[0;32m--> 788\u001b[0;31m         \u001b[0moutputs\u001b[0m \u001b[0;34m=\u001b[0m \u001b[0mmodel\u001b[0m\u001b[0;34m.\u001b[0m\u001b[0mtrain_step\u001b[0m\u001b[0;34m(\u001b[0m\u001b[0mdata\u001b[0m\u001b[0;34m)\u001b[0m\u001b[0;34m\u001b[0m\u001b[0;34m\u001b[0m\u001b[0m\n\u001b[0m\u001b[1;32m    789\u001b[0m         \u001b[0;31m# Ensure counter is updated only if `train_step` succeeds.\u001b[0m\u001b[0;34m\u001b[0m\u001b[0;34m\u001b[0m\u001b[0;34m\u001b[0m\u001b[0m\n\u001b[1;32m    790\u001b[0m         \u001b[0;32mwith\u001b[0m \u001b[0mops\u001b[0m\u001b[0;34m.\u001b[0m\u001b[0mcontrol_dependencies\u001b[0m\u001b[0;34m(\u001b[0m\u001b[0m_minimum_control_deps\u001b[0m\u001b[0;34m(\u001b[0m\u001b[0moutputs\u001b[0m\u001b[0;34m)\u001b[0m\u001b[0;34m)\u001b[0m\u001b[0;34m:\u001b[0m\u001b[0;34m\u001b[0m\u001b[0;34m\u001b[0m\u001b[0m\n",
            "\u001b[0;32m/usr/local/lib/python3.7/dist-packages/tensorflow/python/keras/engine/training.py\u001b[0m in \u001b[0;36mtrain_step\u001b[0;34m(self, data)\u001b[0m\n\u001b[1;32m    755\u001b[0m       loss = self.compiled_loss(\n\u001b[1;32m    756\u001b[0m           y, y_pred, sample_weight, regularization_losses=self.losses)\n\u001b[0;32m--> 757\u001b[0;31m     \u001b[0mself\u001b[0m\u001b[0;34m.\u001b[0m\u001b[0moptimizer\u001b[0m\u001b[0;34m.\u001b[0m\u001b[0mminimize\u001b[0m\u001b[0;34m(\u001b[0m\u001b[0mloss\u001b[0m\u001b[0;34m,\u001b[0m \u001b[0mself\u001b[0m\u001b[0;34m.\u001b[0m\u001b[0mtrainable_variables\u001b[0m\u001b[0;34m,\u001b[0m \u001b[0mtape\u001b[0m\u001b[0;34m=\u001b[0m\u001b[0mtape\u001b[0m\u001b[0;34m)\u001b[0m\u001b[0;34m\u001b[0m\u001b[0;34m\u001b[0m\u001b[0m\n\u001b[0m\u001b[1;32m    758\u001b[0m     \u001b[0mself\u001b[0m\u001b[0;34m.\u001b[0m\u001b[0mcompiled_metrics\u001b[0m\u001b[0;34m.\u001b[0m\u001b[0mupdate_state\u001b[0m\u001b[0;34m(\u001b[0m\u001b[0my\u001b[0m\u001b[0;34m,\u001b[0m \u001b[0my_pred\u001b[0m\u001b[0;34m,\u001b[0m \u001b[0msample_weight\u001b[0m\u001b[0;34m)\u001b[0m\u001b[0;34m\u001b[0m\u001b[0;34m\u001b[0m\u001b[0m\n\u001b[1;32m    759\u001b[0m     \u001b[0;32mreturn\u001b[0m \u001b[0;34m{\u001b[0m\u001b[0mm\u001b[0m\u001b[0;34m.\u001b[0m\u001b[0mname\u001b[0m\u001b[0;34m:\u001b[0m \u001b[0mm\u001b[0m\u001b[0;34m.\u001b[0m\u001b[0mresult\u001b[0m\u001b[0;34m(\u001b[0m\u001b[0;34m)\u001b[0m \u001b[0;32mfor\u001b[0m \u001b[0mm\u001b[0m \u001b[0;32min\u001b[0m \u001b[0mself\u001b[0m\u001b[0;34m.\u001b[0m\u001b[0mmetrics\u001b[0m\u001b[0;34m}\u001b[0m\u001b[0;34m\u001b[0m\u001b[0;34m\u001b[0m\u001b[0m\n",
            "\u001b[0;32m/usr/local/lib/python3.7/dist-packages/tensorflow/python/keras/optimizer_v2/optimizer_v2.py\u001b[0m in \u001b[0;36mminimize\u001b[0;34m(self, loss, var_list, grad_loss, name, tape)\u001b[0m\n\u001b[1;32m    495\u001b[0m     \"\"\"\n\u001b[1;32m    496\u001b[0m     grads_and_vars = self._compute_gradients(\n\u001b[0;32m--> 497\u001b[0;31m         loss, var_list=var_list, grad_loss=grad_loss, tape=tape)\n\u001b[0m\u001b[1;32m    498\u001b[0m     \u001b[0;32mreturn\u001b[0m \u001b[0mself\u001b[0m\u001b[0;34m.\u001b[0m\u001b[0mapply_gradients\u001b[0m\u001b[0;34m(\u001b[0m\u001b[0mgrads_and_vars\u001b[0m\u001b[0;34m,\u001b[0m \u001b[0mname\u001b[0m\u001b[0;34m=\u001b[0m\u001b[0mname\u001b[0m\u001b[0;34m)\u001b[0m\u001b[0;34m\u001b[0m\u001b[0;34m\u001b[0m\u001b[0m\n\u001b[1;32m    499\u001b[0m \u001b[0;34m\u001b[0m\u001b[0m\n",
            "\u001b[0;32m/usr/local/lib/python3.7/dist-packages/tensorflow/python/keras/optimizer_v2/optimizer_v2.py\u001b[0m in \u001b[0;36m_compute_gradients\u001b[0;34m(self, loss, var_list, grad_loss, tape)\u001b[0m\n\u001b[1;32m    546\u001b[0m     \u001b[0mvar_list\u001b[0m \u001b[0;34m=\u001b[0m \u001b[0mnest\u001b[0m\u001b[0;34m.\u001b[0m\u001b[0mflatten\u001b[0m\u001b[0;34m(\u001b[0m\u001b[0mvar_list\u001b[0m\u001b[0;34m)\u001b[0m\u001b[0;34m\u001b[0m\u001b[0;34m\u001b[0m\u001b[0m\n\u001b[1;32m    547\u001b[0m     \u001b[0;32mwith\u001b[0m \u001b[0mops\u001b[0m\u001b[0;34m.\u001b[0m\u001b[0mname_scope_v2\u001b[0m\u001b[0;34m(\u001b[0m\u001b[0mself\u001b[0m\u001b[0;34m.\u001b[0m\u001b[0m_name\u001b[0m \u001b[0;34m+\u001b[0m \u001b[0;34m\"/gradients\"\u001b[0m\u001b[0;34m)\u001b[0m\u001b[0;34m:\u001b[0m\u001b[0;34m\u001b[0m\u001b[0;34m\u001b[0m\u001b[0m\n\u001b[0;32m--> 548\u001b[0;31m       \u001b[0mgrads_and_vars\u001b[0m \u001b[0;34m=\u001b[0m \u001b[0mself\u001b[0m\u001b[0;34m.\u001b[0m\u001b[0m_get_gradients\u001b[0m\u001b[0;34m(\u001b[0m\u001b[0mtape\u001b[0m\u001b[0;34m,\u001b[0m \u001b[0mloss\u001b[0m\u001b[0;34m,\u001b[0m \u001b[0mvar_list\u001b[0m\u001b[0;34m,\u001b[0m \u001b[0mgrad_loss\u001b[0m\u001b[0;34m)\u001b[0m\u001b[0;34m\u001b[0m\u001b[0;34m\u001b[0m\u001b[0m\n\u001b[0m\u001b[1;32m    549\u001b[0m \u001b[0;34m\u001b[0m\u001b[0m\n\u001b[1;32m    550\u001b[0m     self._assert_valid_dtypes([\n",
            "\u001b[0;32m/usr/local/lib/python3.7/dist-packages/tensorflow/python/keras/optimizer_v2/optimizer_v2.py\u001b[0m in \u001b[0;36m_get_gradients\u001b[0;34m(self, tape, loss, var_list, grad_loss)\u001b[0m\n\u001b[1;32m    439\u001b[0m   \u001b[0;32mdef\u001b[0m \u001b[0m_get_gradients\u001b[0m\u001b[0;34m(\u001b[0m\u001b[0mself\u001b[0m\u001b[0;34m,\u001b[0m \u001b[0mtape\u001b[0m\u001b[0;34m,\u001b[0m \u001b[0mloss\u001b[0m\u001b[0;34m,\u001b[0m \u001b[0mvar_list\u001b[0m\u001b[0;34m,\u001b[0m \u001b[0mgrad_loss\u001b[0m\u001b[0;34m=\u001b[0m\u001b[0;32mNone\u001b[0m\u001b[0;34m)\u001b[0m\u001b[0;34m:\u001b[0m\u001b[0;34m\u001b[0m\u001b[0;34m\u001b[0m\u001b[0m\n\u001b[1;32m    440\u001b[0m     \u001b[0;34m\"\"\"Called in `minimize` to compute gradients from loss.\"\"\"\u001b[0m\u001b[0;34m\u001b[0m\u001b[0;34m\u001b[0m\u001b[0m\n\u001b[0;32m--> 441\u001b[0;31m     \u001b[0mgrads\u001b[0m \u001b[0;34m=\u001b[0m \u001b[0mtape\u001b[0m\u001b[0;34m.\u001b[0m\u001b[0mgradient\u001b[0m\u001b[0;34m(\u001b[0m\u001b[0mloss\u001b[0m\u001b[0;34m,\u001b[0m \u001b[0mvar_list\u001b[0m\u001b[0;34m,\u001b[0m \u001b[0mgrad_loss\u001b[0m\u001b[0;34m)\u001b[0m\u001b[0;34m\u001b[0m\u001b[0;34m\u001b[0m\u001b[0m\n\u001b[0m\u001b[1;32m    442\u001b[0m     \u001b[0;32mreturn\u001b[0m \u001b[0mlist\u001b[0m\u001b[0;34m(\u001b[0m\u001b[0mzip\u001b[0m\u001b[0;34m(\u001b[0m\u001b[0mgrads\u001b[0m\u001b[0;34m,\u001b[0m \u001b[0mvar_list\u001b[0m\u001b[0;34m)\u001b[0m\u001b[0;34m)\u001b[0m\u001b[0;34m\u001b[0m\u001b[0;34m\u001b[0m\u001b[0m\n\u001b[1;32m    443\u001b[0m \u001b[0;34m\u001b[0m\u001b[0m\n",
            "\u001b[0;32m/usr/local/lib/python3.7/dist-packages/tensorflow/python/eager/backprop.py\u001b[0m in \u001b[0;36mgradient\u001b[0;34m(self, target, sources, output_gradients, unconnected_gradients)\u001b[0m\n\u001b[1;32m   1084\u001b[0m         \u001b[0moutput_gradients\u001b[0m\u001b[0;34m=\u001b[0m\u001b[0moutput_gradients\u001b[0m\u001b[0;34m,\u001b[0m\u001b[0;34m\u001b[0m\u001b[0;34m\u001b[0m\u001b[0m\n\u001b[1;32m   1085\u001b[0m         \u001b[0msources_raw\u001b[0m\u001b[0;34m=\u001b[0m\u001b[0mflat_sources_raw\u001b[0m\u001b[0;34m,\u001b[0m\u001b[0;34m\u001b[0m\u001b[0;34m\u001b[0m\u001b[0m\n\u001b[0;32m-> 1086\u001b[0;31m         unconnected_gradients=unconnected_gradients)\n\u001b[0m\u001b[1;32m   1087\u001b[0m \u001b[0;34m\u001b[0m\u001b[0m\n\u001b[1;32m   1088\u001b[0m     \u001b[0;32mif\u001b[0m \u001b[0;32mnot\u001b[0m \u001b[0mself\u001b[0m\u001b[0;34m.\u001b[0m\u001b[0m_persistent\u001b[0m\u001b[0;34m:\u001b[0m\u001b[0;34m\u001b[0m\u001b[0;34m\u001b[0m\u001b[0m\n",
            "\u001b[0;32m/usr/local/lib/python3.7/dist-packages/tensorflow/python/eager/imperative_grad.py\u001b[0m in \u001b[0;36mimperative_grad\u001b[0;34m(tape, target, sources, output_gradients, sources_raw, unconnected_gradients)\u001b[0m\n\u001b[1;32m     75\u001b[0m       \u001b[0moutput_gradients\u001b[0m\u001b[0;34m,\u001b[0m\u001b[0;34m\u001b[0m\u001b[0;34m\u001b[0m\u001b[0m\n\u001b[1;32m     76\u001b[0m       \u001b[0msources_raw\u001b[0m\u001b[0;34m,\u001b[0m\u001b[0;34m\u001b[0m\u001b[0;34m\u001b[0m\u001b[0m\n\u001b[0;32m---> 77\u001b[0;31m       compat.as_str(unconnected_gradients.value))\n\u001b[0m",
            "\u001b[0;32m/usr/local/lib/python3.7/dist-packages/tensorflow/python/eager/function.py\u001b[0m in \u001b[0;36m_backward_function\u001b[0;34m(*args)\u001b[0m\n\u001b[1;32m    805\u001b[0m     \u001b[0;32mdef\u001b[0m \u001b[0m_backward_function\u001b[0m\u001b[0;34m(\u001b[0m\u001b[0;34m*\u001b[0m\u001b[0margs\u001b[0m\u001b[0;34m)\u001b[0m\u001b[0;34m:\u001b[0m\u001b[0;34m\u001b[0m\u001b[0;34m\u001b[0m\u001b[0m\n\u001b[1;32m    806\u001b[0m       \u001b[0mcall_op\u001b[0m \u001b[0;34m=\u001b[0m \u001b[0moutputs\u001b[0m\u001b[0;34m[\u001b[0m\u001b[0;36m0\u001b[0m\u001b[0;34m]\u001b[0m\u001b[0;34m.\u001b[0m\u001b[0mop\u001b[0m\u001b[0;34m\u001b[0m\u001b[0;34m\u001b[0m\u001b[0m\n\u001b[0;32m--> 807\u001b[0;31m       \u001b[0;32mreturn\u001b[0m \u001b[0mself\u001b[0m\u001b[0;34m.\u001b[0m\u001b[0m_rewrite_forward_and_call_backward\u001b[0m\u001b[0;34m(\u001b[0m\u001b[0mcall_op\u001b[0m\u001b[0;34m,\u001b[0m \u001b[0;34m*\u001b[0m\u001b[0margs\u001b[0m\u001b[0;34m)\u001b[0m\u001b[0;34m\u001b[0m\u001b[0;34m\u001b[0m\u001b[0m\n\u001b[0m\u001b[1;32m    808\u001b[0m     \u001b[0;32mreturn\u001b[0m \u001b[0m_backward_function\u001b[0m\u001b[0;34m,\u001b[0m \u001b[0moutputs\u001b[0m\u001b[0;34m\u001b[0m\u001b[0;34m\u001b[0m\u001b[0m\n\u001b[1;32m    809\u001b[0m \u001b[0;34m\u001b[0m\u001b[0m\n",
            "\u001b[0;32m/usr/local/lib/python3.7/dist-packages/tensorflow/python/eager/function.py\u001b[0m in \u001b[0;36m_rewrite_forward_and_call_backward\u001b[0;34m(self, op, *doutputs)\u001b[0m\n\u001b[1;32m    720\u001b[0m   \u001b[0;32mdef\u001b[0m \u001b[0m_rewrite_forward_and_call_backward\u001b[0m\u001b[0;34m(\u001b[0m\u001b[0mself\u001b[0m\u001b[0;34m,\u001b[0m \u001b[0mop\u001b[0m\u001b[0;34m,\u001b[0m \u001b[0;34m*\u001b[0m\u001b[0mdoutputs\u001b[0m\u001b[0;34m)\u001b[0m\u001b[0;34m:\u001b[0m\u001b[0;34m\u001b[0m\u001b[0;34m\u001b[0m\u001b[0m\n\u001b[1;32m    721\u001b[0m     \u001b[0;34m\"\"\"Add outputs to the forward call and feed them to the grad function.\"\"\"\u001b[0m\u001b[0;34m\u001b[0m\u001b[0;34m\u001b[0m\u001b[0m\n\u001b[0;32m--> 722\u001b[0;31m     \u001b[0mforward_function\u001b[0m\u001b[0;34m,\u001b[0m \u001b[0mbackwards_function\u001b[0m \u001b[0;34m=\u001b[0m \u001b[0mself\u001b[0m\u001b[0;34m.\u001b[0m\u001b[0mforward_backward\u001b[0m\u001b[0;34m(\u001b[0m\u001b[0mlen\u001b[0m\u001b[0;34m(\u001b[0m\u001b[0mdoutputs\u001b[0m\u001b[0;34m)\u001b[0m\u001b[0;34m)\u001b[0m\u001b[0;34m\u001b[0m\u001b[0;34m\u001b[0m\u001b[0m\n\u001b[0m\u001b[1;32m    723\u001b[0m     \u001b[0;32mif\u001b[0m \u001b[0;32mnot\u001b[0m \u001b[0mbackwards_function\u001b[0m\u001b[0;34m.\u001b[0m\u001b[0moutputs\u001b[0m\u001b[0;34m:\u001b[0m\u001b[0;34m\u001b[0m\u001b[0;34m\u001b[0m\u001b[0m\n\u001b[1;32m    724\u001b[0m       \u001b[0;32mreturn\u001b[0m \u001b[0mbackwards_function\u001b[0m\u001b[0;34m.\u001b[0m\u001b[0mstructured_outputs\u001b[0m\u001b[0;34m\u001b[0m\u001b[0;34m\u001b[0m\u001b[0m\n",
            "\u001b[0;32m/usr/local/lib/python3.7/dist-packages/tensorflow/python/eager/function.py\u001b[0m in \u001b[0;36mforward_backward\u001b[0;34m(self, num_doutputs)\u001b[0m\n\u001b[1;32m    629\u001b[0m     \u001b[0;32mif\u001b[0m \u001b[0mforward_backward\u001b[0m \u001b[0;32mis\u001b[0m \u001b[0;32mnot\u001b[0m \u001b[0;32mNone\u001b[0m\u001b[0;34m:\u001b[0m\u001b[0;34m\u001b[0m\u001b[0;34m\u001b[0m\u001b[0m\n\u001b[1;32m    630\u001b[0m       \u001b[0;32mreturn\u001b[0m \u001b[0mforward_backward\u001b[0m\u001b[0;34m\u001b[0m\u001b[0;34m\u001b[0m\u001b[0m\n\u001b[0;32m--> 631\u001b[0;31m     \u001b[0mforward\u001b[0m\u001b[0;34m,\u001b[0m \u001b[0mbackward\u001b[0m \u001b[0;34m=\u001b[0m \u001b[0mself\u001b[0m\u001b[0;34m.\u001b[0m\u001b[0m_construct_forward_backward\u001b[0m\u001b[0;34m(\u001b[0m\u001b[0mnum_doutputs\u001b[0m\u001b[0;34m)\u001b[0m\u001b[0;34m\u001b[0m\u001b[0;34m\u001b[0m\u001b[0m\n\u001b[0m\u001b[1;32m    632\u001b[0m     \u001b[0mself\u001b[0m\u001b[0;34m.\u001b[0m\u001b[0m_cached_function_pairs\u001b[0m\u001b[0;34m[\u001b[0m\u001b[0mnum_doutputs\u001b[0m\u001b[0;34m]\u001b[0m \u001b[0;34m=\u001b[0m \u001b[0;34m(\u001b[0m\u001b[0mforward\u001b[0m\u001b[0;34m,\u001b[0m \u001b[0mbackward\u001b[0m\u001b[0;34m)\u001b[0m\u001b[0;34m\u001b[0m\u001b[0;34m\u001b[0m\u001b[0m\n\u001b[1;32m    633\u001b[0m     \u001b[0;32mreturn\u001b[0m \u001b[0mforward\u001b[0m\u001b[0;34m,\u001b[0m \u001b[0mbackward\u001b[0m\u001b[0;34m\u001b[0m\u001b[0;34m\u001b[0m\u001b[0m\n",
            "\u001b[0;32m/usr/local/lib/python3.7/dist-packages/tensorflow/python/eager/function.py\u001b[0m in \u001b[0;36m_construct_forward_backward\u001b[0;34m(self, num_doutputs)\u001b[0m\n\u001b[1;32m    677\u001b[0m           \u001b[0margs\u001b[0m\u001b[0;34m=\u001b[0m\u001b[0;34m[\u001b[0m\u001b[0;34m]\u001b[0m\u001b[0;34m,\u001b[0m \u001b[0mkwargs\u001b[0m\u001b[0;34m=\u001b[0m\u001b[0;34m{\u001b[0m\u001b[0;34m}\u001b[0m\u001b[0;34m,\u001b[0m\u001b[0;34m\u001b[0m\u001b[0;34m\u001b[0m\u001b[0m\n\u001b[1;32m    678\u001b[0m           \u001b[0msignature\u001b[0m\u001b[0;34m=\u001b[0m\u001b[0msignature\u001b[0m\u001b[0;34m,\u001b[0m\u001b[0;34m\u001b[0m\u001b[0;34m\u001b[0m\u001b[0m\n\u001b[0;32m--> 679\u001b[0;31m           func_graph=backwards_graph)\n\u001b[0m\u001b[1;32m    680\u001b[0m       \u001b[0mbackwards_graph_captures\u001b[0m \u001b[0;34m=\u001b[0m \u001b[0mbackwards_graph\u001b[0m\u001b[0;34m.\u001b[0m\u001b[0mexternal_captures\u001b[0m\u001b[0;34m\u001b[0m\u001b[0;34m\u001b[0m\u001b[0m\n\u001b[1;32m    681\u001b[0m       captures_from_forward = [\n",
            "\u001b[0;32m/usr/local/lib/python3.7/dist-packages/tensorflow/python/framework/func_graph.py\u001b[0m in \u001b[0;36mfunc_graph_from_py_func\u001b[0;34m(name, python_func, args, kwargs, signature, func_graph, autograph, autograph_options, add_control_dependencies, arg_names, op_return_value, collections, capture_by_value, override_flat_arg_shapes)\u001b[0m\n\u001b[1;32m    988\u001b[0m         \u001b[0m_\u001b[0m\u001b[0;34m,\u001b[0m \u001b[0moriginal_func\u001b[0m \u001b[0;34m=\u001b[0m \u001b[0mtf_decorator\u001b[0m\u001b[0;34m.\u001b[0m\u001b[0munwrap\u001b[0m\u001b[0;34m(\u001b[0m\u001b[0mpython_func\u001b[0m\u001b[0;34m)\u001b[0m\u001b[0;34m\u001b[0m\u001b[0;34m\u001b[0m\u001b[0m\n\u001b[1;32m    989\u001b[0m \u001b[0;34m\u001b[0m\u001b[0m\n\u001b[0;32m--> 990\u001b[0;31m       \u001b[0mfunc_outputs\u001b[0m \u001b[0;34m=\u001b[0m \u001b[0mpython_func\u001b[0m\u001b[0;34m(\u001b[0m\u001b[0;34m*\u001b[0m\u001b[0mfunc_args\u001b[0m\u001b[0;34m,\u001b[0m \u001b[0;34m**\u001b[0m\u001b[0mfunc_kwargs\u001b[0m\u001b[0;34m)\u001b[0m\u001b[0;34m\u001b[0m\u001b[0;34m\u001b[0m\u001b[0m\n\u001b[0m\u001b[1;32m    991\u001b[0m \u001b[0;34m\u001b[0m\u001b[0m\n\u001b[1;32m    992\u001b[0m       \u001b[0;31m# invariant: `func_outputs` contains only Tensors, CompositeTensors,\u001b[0m\u001b[0;34m\u001b[0m\u001b[0;34m\u001b[0m\u001b[0;34m\u001b[0m\u001b[0m\n",
            "\u001b[0;32m/usr/local/lib/python3.7/dist-packages/tensorflow/python/eager/function.py\u001b[0m in \u001b[0;36m_backprop_function\u001b[0;34m(*grad_ys)\u001b[0m\n\u001b[1;32m    667\u001b[0m             \u001b[0mself\u001b[0m\u001b[0;34m.\u001b[0m\u001b[0m_func_graph\u001b[0m\u001b[0;34m.\u001b[0m\u001b[0minputs\u001b[0m\u001b[0;34m,\u001b[0m\u001b[0;34m\u001b[0m\u001b[0;34m\u001b[0m\u001b[0m\n\u001b[1;32m    668\u001b[0m             \u001b[0mgrad_ys\u001b[0m\u001b[0;34m=\u001b[0m\u001b[0mgrad_ys\u001b[0m\u001b[0;34m,\u001b[0m\u001b[0;34m\u001b[0m\u001b[0;34m\u001b[0m\u001b[0m\n\u001b[0;32m--> 669\u001b[0;31m             src_graph=self._func_graph)\n\u001b[0m\u001b[1;32m    670\u001b[0m \u001b[0;34m\u001b[0m\u001b[0m\n\u001b[1;32m    671\u001b[0m     \u001b[0;32mwith\u001b[0m \u001b[0mself\u001b[0m\u001b[0;34m.\u001b[0m\u001b[0m_func_graph\u001b[0m\u001b[0;34m.\u001b[0m\u001b[0mas_default\u001b[0m\u001b[0;34m(\u001b[0m\u001b[0;34m)\u001b[0m\u001b[0;34m:\u001b[0m\u001b[0;34m\u001b[0m\u001b[0;34m\u001b[0m\u001b[0m\n",
            "\u001b[0;32m/usr/local/lib/python3.7/dist-packages/tensorflow/python/ops/gradients_util.py\u001b[0m in \u001b[0;36m_GradientsHelper\u001b[0;34m(ys, xs, grad_ys, name, colocate_gradients_with_ops, gate_gradients, aggregation_method, stop_gradients, unconnected_gradients, src_graph)\u001b[0m\n\u001b[1;32m    682\u001b[0m                 \u001b[0;31m# functions.\u001b[0m\u001b[0;34m\u001b[0m\u001b[0;34m\u001b[0m\u001b[0;34m\u001b[0m\u001b[0m\n\u001b[1;32m    683\u001b[0m                 in_grads = _MaybeCompile(grad_scope, op, func_call,\n\u001b[0;32m--> 684\u001b[0;31m                                          lambda: grad_fn(op, *out_grads))\n\u001b[0m\u001b[1;32m    685\u001b[0m               \u001b[0;32melse\u001b[0m\u001b[0;34m:\u001b[0m\u001b[0;34m\u001b[0m\u001b[0;34m\u001b[0m\u001b[0m\n\u001b[1;32m    686\u001b[0m                 \u001b[0;31m# For function call ops, we add a 'SymbolicGradient'\u001b[0m\u001b[0;34m\u001b[0m\u001b[0;34m\u001b[0m\u001b[0;34m\u001b[0m\u001b[0m\n",
            "\u001b[0;32m/usr/local/lib/python3.7/dist-packages/tensorflow/python/ops/gradients_util.py\u001b[0m in \u001b[0;36m_MaybeCompile\u001b[0;34m(scope, op, func, grad_fn)\u001b[0m\n\u001b[1;32m    338\u001b[0m \u001b[0;34m\u001b[0m\u001b[0m\n\u001b[1;32m    339\u001b[0m   \u001b[0;32mif\u001b[0m \u001b[0;32mnot\u001b[0m \u001b[0mxla_compile\u001b[0m\u001b[0;34m:\u001b[0m\u001b[0;34m\u001b[0m\u001b[0;34m\u001b[0m\u001b[0m\n\u001b[0;32m--> 340\u001b[0;31m     \u001b[0;32mreturn\u001b[0m \u001b[0mgrad_fn\u001b[0m\u001b[0;34m(\u001b[0m\u001b[0;34m)\u001b[0m  \u001b[0;31m# Exit early\u001b[0m\u001b[0;34m\u001b[0m\u001b[0;34m\u001b[0m\u001b[0m\n\u001b[0m\u001b[1;32m    341\u001b[0m \u001b[0;34m\u001b[0m\u001b[0m\n\u001b[1;32m    342\u001b[0m   \u001b[0;31m# If the gradients are supposed to be compiled separately, we give them a\u001b[0m\u001b[0;34m\u001b[0m\u001b[0;34m\u001b[0m\u001b[0;34m\u001b[0m\u001b[0m\n",
            "\u001b[0;32m/usr/local/lib/python3.7/dist-packages/tensorflow/python/ops/gradients_util.py\u001b[0m in \u001b[0;36m<lambda>\u001b[0;34m()\u001b[0m\n\u001b[1;32m    682\u001b[0m                 \u001b[0;31m# functions.\u001b[0m\u001b[0;34m\u001b[0m\u001b[0;34m\u001b[0m\u001b[0;34m\u001b[0m\u001b[0m\n\u001b[1;32m    683\u001b[0m                 in_grads = _MaybeCompile(grad_scope, op, func_call,\n\u001b[0;32m--> 684\u001b[0;31m                                          lambda: grad_fn(op, *out_grads))\n\u001b[0m\u001b[1;32m    685\u001b[0m               \u001b[0;32melse\u001b[0m\u001b[0;34m:\u001b[0m\u001b[0;34m\u001b[0m\u001b[0;34m\u001b[0m\u001b[0m\n\u001b[1;32m    686\u001b[0m                 \u001b[0;31m# For function call ops, we add a 'SymbolicGradient'\u001b[0m\u001b[0;34m\u001b[0m\u001b[0;34m\u001b[0m\u001b[0;34m\u001b[0m\u001b[0m\n",
            "\u001b[0;32m/usr/local/lib/python3.7/dist-packages/tensorflow/python/eager/function.py\u001b[0m in \u001b[0;36m_rewrite_forward_and_call_backward\u001b[0;34m(self, op, *doutputs)\u001b[0m\n\u001b[1;32m    720\u001b[0m   \u001b[0;32mdef\u001b[0m \u001b[0m_rewrite_forward_and_call_backward\u001b[0m\u001b[0;34m(\u001b[0m\u001b[0mself\u001b[0m\u001b[0;34m,\u001b[0m \u001b[0mop\u001b[0m\u001b[0;34m,\u001b[0m \u001b[0;34m*\u001b[0m\u001b[0mdoutputs\u001b[0m\u001b[0;34m)\u001b[0m\u001b[0;34m:\u001b[0m\u001b[0;34m\u001b[0m\u001b[0;34m\u001b[0m\u001b[0m\n\u001b[1;32m    721\u001b[0m     \u001b[0;34m\"\"\"Add outputs to the forward call and feed them to the grad function.\"\"\"\u001b[0m\u001b[0;34m\u001b[0m\u001b[0;34m\u001b[0m\u001b[0m\n\u001b[0;32m--> 722\u001b[0;31m     \u001b[0mforward_function\u001b[0m\u001b[0;34m,\u001b[0m \u001b[0mbackwards_function\u001b[0m \u001b[0;34m=\u001b[0m \u001b[0mself\u001b[0m\u001b[0;34m.\u001b[0m\u001b[0mforward_backward\u001b[0m\u001b[0;34m(\u001b[0m\u001b[0mlen\u001b[0m\u001b[0;34m(\u001b[0m\u001b[0mdoutputs\u001b[0m\u001b[0;34m)\u001b[0m\u001b[0;34m)\u001b[0m\u001b[0;34m\u001b[0m\u001b[0;34m\u001b[0m\u001b[0m\n\u001b[0m\u001b[1;32m    723\u001b[0m     \u001b[0;32mif\u001b[0m \u001b[0;32mnot\u001b[0m \u001b[0mbackwards_function\u001b[0m\u001b[0;34m.\u001b[0m\u001b[0moutputs\u001b[0m\u001b[0;34m:\u001b[0m\u001b[0;34m\u001b[0m\u001b[0;34m\u001b[0m\u001b[0m\n\u001b[1;32m    724\u001b[0m       \u001b[0;32mreturn\u001b[0m \u001b[0mbackwards_function\u001b[0m\u001b[0;34m.\u001b[0m\u001b[0mstructured_outputs\u001b[0m\u001b[0;34m\u001b[0m\u001b[0;34m\u001b[0m\u001b[0m\n",
            "\u001b[0;32m/usr/local/lib/python3.7/dist-packages/tensorflow/python/eager/function.py\u001b[0m in \u001b[0;36mforward_backward\u001b[0;34m(self, num_doutputs)\u001b[0m\n\u001b[1;32m    629\u001b[0m     \u001b[0;32mif\u001b[0m \u001b[0mforward_backward\u001b[0m \u001b[0;32mis\u001b[0m \u001b[0;32mnot\u001b[0m \u001b[0;32mNone\u001b[0m\u001b[0;34m:\u001b[0m\u001b[0;34m\u001b[0m\u001b[0;34m\u001b[0m\u001b[0m\n\u001b[1;32m    630\u001b[0m       \u001b[0;32mreturn\u001b[0m \u001b[0mforward_backward\u001b[0m\u001b[0;34m\u001b[0m\u001b[0;34m\u001b[0m\u001b[0m\n\u001b[0;32m--> 631\u001b[0;31m     \u001b[0mforward\u001b[0m\u001b[0;34m,\u001b[0m \u001b[0mbackward\u001b[0m \u001b[0;34m=\u001b[0m \u001b[0mself\u001b[0m\u001b[0;34m.\u001b[0m\u001b[0m_construct_forward_backward\u001b[0m\u001b[0;34m(\u001b[0m\u001b[0mnum_doutputs\u001b[0m\u001b[0;34m)\u001b[0m\u001b[0;34m\u001b[0m\u001b[0;34m\u001b[0m\u001b[0m\n\u001b[0m\u001b[1;32m    632\u001b[0m     \u001b[0mself\u001b[0m\u001b[0;34m.\u001b[0m\u001b[0m_cached_function_pairs\u001b[0m\u001b[0;34m[\u001b[0m\u001b[0mnum_doutputs\u001b[0m\u001b[0;34m]\u001b[0m \u001b[0;34m=\u001b[0m \u001b[0;34m(\u001b[0m\u001b[0mforward\u001b[0m\u001b[0;34m,\u001b[0m \u001b[0mbackward\u001b[0m\u001b[0;34m)\u001b[0m\u001b[0;34m\u001b[0m\u001b[0;34m\u001b[0m\u001b[0m\n\u001b[1;32m    633\u001b[0m     \u001b[0;32mreturn\u001b[0m \u001b[0mforward\u001b[0m\u001b[0;34m,\u001b[0m \u001b[0mbackward\u001b[0m\u001b[0;34m\u001b[0m\u001b[0;34m\u001b[0m\u001b[0m\n",
            "\u001b[0;32m/usr/local/lib/python3.7/dist-packages/tensorflow/python/eager/function.py\u001b[0m in \u001b[0;36m_construct_forward_backward\u001b[0;34m(self, num_doutputs)\u001b[0m\n\u001b[1;32m    677\u001b[0m           \u001b[0margs\u001b[0m\u001b[0;34m=\u001b[0m\u001b[0;34m[\u001b[0m\u001b[0;34m]\u001b[0m\u001b[0;34m,\u001b[0m \u001b[0mkwargs\u001b[0m\u001b[0;34m=\u001b[0m\u001b[0;34m{\u001b[0m\u001b[0;34m}\u001b[0m\u001b[0;34m,\u001b[0m\u001b[0;34m\u001b[0m\u001b[0;34m\u001b[0m\u001b[0m\n\u001b[1;32m    678\u001b[0m           \u001b[0msignature\u001b[0m\u001b[0;34m=\u001b[0m\u001b[0msignature\u001b[0m\u001b[0;34m,\u001b[0m\u001b[0;34m\u001b[0m\u001b[0;34m\u001b[0m\u001b[0m\n\u001b[0;32m--> 679\u001b[0;31m           func_graph=backwards_graph)\n\u001b[0m\u001b[1;32m    680\u001b[0m       \u001b[0mbackwards_graph_captures\u001b[0m \u001b[0;34m=\u001b[0m \u001b[0mbackwards_graph\u001b[0m\u001b[0;34m.\u001b[0m\u001b[0mexternal_captures\u001b[0m\u001b[0;34m\u001b[0m\u001b[0;34m\u001b[0m\u001b[0m\n\u001b[1;32m    681\u001b[0m       captures_from_forward = [\n",
            "\u001b[0;32m/usr/local/lib/python3.7/dist-packages/tensorflow/python/framework/func_graph.py\u001b[0m in \u001b[0;36mfunc_graph_from_py_func\u001b[0;34m(name, python_func, args, kwargs, signature, func_graph, autograph, autograph_options, add_control_dependencies, arg_names, op_return_value, collections, capture_by_value, override_flat_arg_shapes)\u001b[0m\n\u001b[1;32m    988\u001b[0m         \u001b[0m_\u001b[0m\u001b[0;34m,\u001b[0m \u001b[0moriginal_func\u001b[0m \u001b[0;34m=\u001b[0m \u001b[0mtf_decorator\u001b[0m\u001b[0;34m.\u001b[0m\u001b[0munwrap\u001b[0m\u001b[0;34m(\u001b[0m\u001b[0mpython_func\u001b[0m\u001b[0;34m)\u001b[0m\u001b[0;34m\u001b[0m\u001b[0;34m\u001b[0m\u001b[0m\n\u001b[1;32m    989\u001b[0m \u001b[0;34m\u001b[0m\u001b[0m\n\u001b[0;32m--> 990\u001b[0;31m       \u001b[0mfunc_outputs\u001b[0m \u001b[0;34m=\u001b[0m \u001b[0mpython_func\u001b[0m\u001b[0;34m(\u001b[0m\u001b[0;34m*\u001b[0m\u001b[0mfunc_args\u001b[0m\u001b[0;34m,\u001b[0m \u001b[0;34m**\u001b[0m\u001b[0mfunc_kwargs\u001b[0m\u001b[0;34m)\u001b[0m\u001b[0;34m\u001b[0m\u001b[0;34m\u001b[0m\u001b[0m\n\u001b[0m\u001b[1;32m    991\u001b[0m \u001b[0;34m\u001b[0m\u001b[0m\n\u001b[1;32m    992\u001b[0m       \u001b[0;31m# invariant: `func_outputs` contains only Tensors, CompositeTensors,\u001b[0m\u001b[0;34m\u001b[0m\u001b[0;34m\u001b[0m\u001b[0;34m\u001b[0m\u001b[0m\n",
            "\u001b[0;32m/usr/local/lib/python3.7/dist-packages/tensorflow/python/eager/function.py\u001b[0m in \u001b[0;36m_backprop_function\u001b[0;34m(*grad_ys)\u001b[0m\n\u001b[1;32m    667\u001b[0m             \u001b[0mself\u001b[0m\u001b[0;34m.\u001b[0m\u001b[0m_func_graph\u001b[0m\u001b[0;34m.\u001b[0m\u001b[0minputs\u001b[0m\u001b[0;34m,\u001b[0m\u001b[0;34m\u001b[0m\u001b[0;34m\u001b[0m\u001b[0m\n\u001b[1;32m    668\u001b[0m             \u001b[0mgrad_ys\u001b[0m\u001b[0;34m=\u001b[0m\u001b[0mgrad_ys\u001b[0m\u001b[0;34m,\u001b[0m\u001b[0;34m\u001b[0m\u001b[0;34m\u001b[0m\u001b[0m\n\u001b[0;32m--> 669\u001b[0;31m             src_graph=self._func_graph)\n\u001b[0m\u001b[1;32m    670\u001b[0m \u001b[0;34m\u001b[0m\u001b[0m\n\u001b[1;32m    671\u001b[0m     \u001b[0;32mwith\u001b[0m \u001b[0mself\u001b[0m\u001b[0;34m.\u001b[0m\u001b[0m_func_graph\u001b[0m\u001b[0;34m.\u001b[0m\u001b[0mas_default\u001b[0m\u001b[0;34m(\u001b[0m\u001b[0;34m)\u001b[0m\u001b[0;34m:\u001b[0m\u001b[0;34m\u001b[0m\u001b[0;34m\u001b[0m\u001b[0m\n",
            "\u001b[0;32m/usr/local/lib/python3.7/dist-packages/tensorflow/python/ops/gradients_util.py\u001b[0m in \u001b[0;36m_GradientsHelper\u001b[0;34m(ys, xs, grad_ys, name, colocate_gradients_with_ops, gate_gradients, aggregation_method, stop_gradients, unconnected_gradients, src_graph)\u001b[0m\n\u001b[1;32m    682\u001b[0m                 \u001b[0;31m# functions.\u001b[0m\u001b[0;34m\u001b[0m\u001b[0;34m\u001b[0m\u001b[0;34m\u001b[0m\u001b[0m\n\u001b[1;32m    683\u001b[0m                 in_grads = _MaybeCompile(grad_scope, op, func_call,\n\u001b[0;32m--> 684\u001b[0;31m                                          lambda: grad_fn(op, *out_grads))\n\u001b[0m\u001b[1;32m    685\u001b[0m               \u001b[0;32melse\u001b[0m\u001b[0;34m:\u001b[0m\u001b[0;34m\u001b[0m\u001b[0;34m\u001b[0m\u001b[0m\n\u001b[1;32m    686\u001b[0m                 \u001b[0;31m# For function call ops, we add a 'SymbolicGradient'\u001b[0m\u001b[0;34m\u001b[0m\u001b[0;34m\u001b[0m\u001b[0;34m\u001b[0m\u001b[0m\n",
            "\u001b[0;32m/usr/local/lib/python3.7/dist-packages/tensorflow/python/ops/gradients_util.py\u001b[0m in \u001b[0;36m_MaybeCompile\u001b[0;34m(scope, op, func, grad_fn)\u001b[0m\n\u001b[1;32m    338\u001b[0m \u001b[0;34m\u001b[0m\u001b[0m\n\u001b[1;32m    339\u001b[0m   \u001b[0;32mif\u001b[0m \u001b[0;32mnot\u001b[0m \u001b[0mxla_compile\u001b[0m\u001b[0;34m:\u001b[0m\u001b[0;34m\u001b[0m\u001b[0;34m\u001b[0m\u001b[0m\n\u001b[0;32m--> 340\u001b[0;31m     \u001b[0;32mreturn\u001b[0m \u001b[0mgrad_fn\u001b[0m\u001b[0;34m(\u001b[0m\u001b[0;34m)\u001b[0m  \u001b[0;31m# Exit early\u001b[0m\u001b[0;34m\u001b[0m\u001b[0;34m\u001b[0m\u001b[0m\n\u001b[0m\u001b[1;32m    341\u001b[0m \u001b[0;34m\u001b[0m\u001b[0m\n\u001b[1;32m    342\u001b[0m   \u001b[0;31m# If the gradients are supposed to be compiled separately, we give them a\u001b[0m\u001b[0;34m\u001b[0m\u001b[0;34m\u001b[0m\u001b[0;34m\u001b[0m\u001b[0m\n",
            "\u001b[0;32m/usr/local/lib/python3.7/dist-packages/tensorflow/python/ops/gradients_util.py\u001b[0m in \u001b[0;36m<lambda>\u001b[0;34m()\u001b[0m\n\u001b[1;32m    682\u001b[0m                 \u001b[0;31m# functions.\u001b[0m\u001b[0;34m\u001b[0m\u001b[0;34m\u001b[0m\u001b[0;34m\u001b[0m\u001b[0m\n\u001b[1;32m    683\u001b[0m                 in_grads = _MaybeCompile(grad_scope, op, func_call,\n\u001b[0;32m--> 684\u001b[0;31m                                          lambda: grad_fn(op, *out_grads))\n\u001b[0m\u001b[1;32m    685\u001b[0m               \u001b[0;32melse\u001b[0m\u001b[0;34m:\u001b[0m\u001b[0;34m\u001b[0m\u001b[0;34m\u001b[0m\u001b[0m\n\u001b[1;32m    686\u001b[0m                 \u001b[0;31m# For function call ops, we add a 'SymbolicGradient'\u001b[0m\u001b[0;34m\u001b[0m\u001b[0;34m\u001b[0m\u001b[0;34m\u001b[0m\u001b[0m\n",
            "\u001b[0;32m/usr/local/lib/python3.7/dist-packages/tensorflow/python/eager/function.py\u001b[0m in \u001b[0;36m_rewrite_forward_and_call_backward\u001b[0;34m(self, op, *doutputs)\u001b[0m\n\u001b[1;32m    720\u001b[0m   \u001b[0;32mdef\u001b[0m \u001b[0m_rewrite_forward_and_call_backward\u001b[0m\u001b[0;34m(\u001b[0m\u001b[0mself\u001b[0m\u001b[0;34m,\u001b[0m \u001b[0mop\u001b[0m\u001b[0;34m,\u001b[0m \u001b[0;34m*\u001b[0m\u001b[0mdoutputs\u001b[0m\u001b[0;34m)\u001b[0m\u001b[0;34m:\u001b[0m\u001b[0;34m\u001b[0m\u001b[0;34m\u001b[0m\u001b[0m\n\u001b[1;32m    721\u001b[0m     \u001b[0;34m\"\"\"Add outputs to the forward call and feed them to the grad function.\"\"\"\u001b[0m\u001b[0;34m\u001b[0m\u001b[0;34m\u001b[0m\u001b[0m\n\u001b[0;32m--> 722\u001b[0;31m     \u001b[0mforward_function\u001b[0m\u001b[0;34m,\u001b[0m \u001b[0mbackwards_function\u001b[0m \u001b[0;34m=\u001b[0m \u001b[0mself\u001b[0m\u001b[0;34m.\u001b[0m\u001b[0mforward_backward\u001b[0m\u001b[0;34m(\u001b[0m\u001b[0mlen\u001b[0m\u001b[0;34m(\u001b[0m\u001b[0mdoutputs\u001b[0m\u001b[0;34m)\u001b[0m\u001b[0;34m)\u001b[0m\u001b[0;34m\u001b[0m\u001b[0;34m\u001b[0m\u001b[0m\n\u001b[0m\u001b[1;32m    723\u001b[0m     \u001b[0;32mif\u001b[0m \u001b[0;32mnot\u001b[0m \u001b[0mbackwards_function\u001b[0m\u001b[0;34m.\u001b[0m\u001b[0moutputs\u001b[0m\u001b[0;34m:\u001b[0m\u001b[0;34m\u001b[0m\u001b[0;34m\u001b[0m\u001b[0m\n\u001b[1;32m    724\u001b[0m       \u001b[0;32mreturn\u001b[0m \u001b[0mbackwards_function\u001b[0m\u001b[0;34m.\u001b[0m\u001b[0mstructured_outputs\u001b[0m\u001b[0;34m\u001b[0m\u001b[0;34m\u001b[0m\u001b[0m\n",
            "\u001b[0;32m/usr/local/lib/python3.7/dist-packages/tensorflow/python/eager/function.py\u001b[0m in \u001b[0;36mforward_backward\u001b[0;34m(self, num_doutputs)\u001b[0m\n\u001b[1;32m    629\u001b[0m     \u001b[0;32mif\u001b[0m \u001b[0mforward_backward\u001b[0m \u001b[0;32mis\u001b[0m \u001b[0;32mnot\u001b[0m \u001b[0;32mNone\u001b[0m\u001b[0;34m:\u001b[0m\u001b[0;34m\u001b[0m\u001b[0;34m\u001b[0m\u001b[0m\n\u001b[1;32m    630\u001b[0m       \u001b[0;32mreturn\u001b[0m \u001b[0mforward_backward\u001b[0m\u001b[0;34m\u001b[0m\u001b[0;34m\u001b[0m\u001b[0m\n\u001b[0;32m--> 631\u001b[0;31m     \u001b[0mforward\u001b[0m\u001b[0;34m,\u001b[0m \u001b[0mbackward\u001b[0m \u001b[0;34m=\u001b[0m \u001b[0mself\u001b[0m\u001b[0;34m.\u001b[0m\u001b[0m_construct_forward_backward\u001b[0m\u001b[0;34m(\u001b[0m\u001b[0mnum_doutputs\u001b[0m\u001b[0;34m)\u001b[0m\u001b[0;34m\u001b[0m\u001b[0;34m\u001b[0m\u001b[0m\n\u001b[0m\u001b[1;32m    632\u001b[0m     \u001b[0mself\u001b[0m\u001b[0;34m.\u001b[0m\u001b[0m_cached_function_pairs\u001b[0m\u001b[0;34m[\u001b[0m\u001b[0mnum_doutputs\u001b[0m\u001b[0;34m]\u001b[0m \u001b[0;34m=\u001b[0m \u001b[0;34m(\u001b[0m\u001b[0mforward\u001b[0m\u001b[0;34m,\u001b[0m \u001b[0mbackward\u001b[0m\u001b[0;34m)\u001b[0m\u001b[0;34m\u001b[0m\u001b[0;34m\u001b[0m\u001b[0m\n\u001b[1;32m    633\u001b[0m     \u001b[0;32mreturn\u001b[0m \u001b[0mforward\u001b[0m\u001b[0;34m,\u001b[0m \u001b[0mbackward\u001b[0m\u001b[0;34m\u001b[0m\u001b[0;34m\u001b[0m\u001b[0m\n",
            "\u001b[0;32m/usr/local/lib/python3.7/dist-packages/tensorflow/python/eager/function.py\u001b[0m in \u001b[0;36m_construct_forward_backward\u001b[0;34m(self, num_doutputs)\u001b[0m\n\u001b[1;32m    677\u001b[0m           \u001b[0margs\u001b[0m\u001b[0;34m=\u001b[0m\u001b[0;34m[\u001b[0m\u001b[0;34m]\u001b[0m\u001b[0;34m,\u001b[0m \u001b[0mkwargs\u001b[0m\u001b[0;34m=\u001b[0m\u001b[0;34m{\u001b[0m\u001b[0;34m}\u001b[0m\u001b[0;34m,\u001b[0m\u001b[0;34m\u001b[0m\u001b[0;34m\u001b[0m\u001b[0m\n\u001b[1;32m    678\u001b[0m           \u001b[0msignature\u001b[0m\u001b[0;34m=\u001b[0m\u001b[0msignature\u001b[0m\u001b[0;34m,\u001b[0m\u001b[0;34m\u001b[0m\u001b[0;34m\u001b[0m\u001b[0m\n\u001b[0;32m--> 679\u001b[0;31m           func_graph=backwards_graph)\n\u001b[0m\u001b[1;32m    680\u001b[0m       \u001b[0mbackwards_graph_captures\u001b[0m \u001b[0;34m=\u001b[0m \u001b[0mbackwards_graph\u001b[0m\u001b[0;34m.\u001b[0m\u001b[0mexternal_captures\u001b[0m\u001b[0;34m\u001b[0m\u001b[0;34m\u001b[0m\u001b[0m\n\u001b[1;32m    681\u001b[0m       captures_from_forward = [\n",
            "\u001b[0;32m/usr/local/lib/python3.7/dist-packages/tensorflow/python/framework/func_graph.py\u001b[0m in \u001b[0;36mfunc_graph_from_py_func\u001b[0;34m(name, python_func, args, kwargs, signature, func_graph, autograph, autograph_options, add_control_dependencies, arg_names, op_return_value, collections, capture_by_value, override_flat_arg_shapes)\u001b[0m\n\u001b[1;32m    988\u001b[0m         \u001b[0m_\u001b[0m\u001b[0;34m,\u001b[0m \u001b[0moriginal_func\u001b[0m \u001b[0;34m=\u001b[0m \u001b[0mtf_decorator\u001b[0m\u001b[0;34m.\u001b[0m\u001b[0munwrap\u001b[0m\u001b[0;34m(\u001b[0m\u001b[0mpython_func\u001b[0m\u001b[0;34m)\u001b[0m\u001b[0;34m\u001b[0m\u001b[0;34m\u001b[0m\u001b[0m\n\u001b[1;32m    989\u001b[0m \u001b[0;34m\u001b[0m\u001b[0m\n\u001b[0;32m--> 990\u001b[0;31m       \u001b[0mfunc_outputs\u001b[0m \u001b[0;34m=\u001b[0m \u001b[0mpython_func\u001b[0m\u001b[0;34m(\u001b[0m\u001b[0;34m*\u001b[0m\u001b[0mfunc_args\u001b[0m\u001b[0;34m,\u001b[0m \u001b[0;34m**\u001b[0m\u001b[0mfunc_kwargs\u001b[0m\u001b[0;34m)\u001b[0m\u001b[0;34m\u001b[0m\u001b[0;34m\u001b[0m\u001b[0m\n\u001b[0m\u001b[1;32m    991\u001b[0m \u001b[0;34m\u001b[0m\u001b[0m\n\u001b[1;32m    992\u001b[0m       \u001b[0;31m# invariant: `func_outputs` contains only Tensors, CompositeTensors,\u001b[0m\u001b[0;34m\u001b[0m\u001b[0;34m\u001b[0m\u001b[0;34m\u001b[0m\u001b[0m\n",
            "\u001b[0;32m/usr/local/lib/python3.7/dist-packages/tensorflow/python/eager/function.py\u001b[0m in \u001b[0;36m_backprop_function\u001b[0;34m(*grad_ys)\u001b[0m\n\u001b[1;32m    667\u001b[0m             \u001b[0mself\u001b[0m\u001b[0;34m.\u001b[0m\u001b[0m_func_graph\u001b[0m\u001b[0;34m.\u001b[0m\u001b[0minputs\u001b[0m\u001b[0;34m,\u001b[0m\u001b[0;34m\u001b[0m\u001b[0;34m\u001b[0m\u001b[0m\n\u001b[1;32m    668\u001b[0m             \u001b[0mgrad_ys\u001b[0m\u001b[0;34m=\u001b[0m\u001b[0mgrad_ys\u001b[0m\u001b[0;34m,\u001b[0m\u001b[0;34m\u001b[0m\u001b[0;34m\u001b[0m\u001b[0m\n\u001b[0;32m--> 669\u001b[0;31m             src_graph=self._func_graph)\n\u001b[0m\u001b[1;32m    670\u001b[0m \u001b[0;34m\u001b[0m\u001b[0m\n\u001b[1;32m    671\u001b[0m     \u001b[0;32mwith\u001b[0m \u001b[0mself\u001b[0m\u001b[0;34m.\u001b[0m\u001b[0m_func_graph\u001b[0m\u001b[0;34m.\u001b[0m\u001b[0mas_default\u001b[0m\u001b[0;34m(\u001b[0m\u001b[0;34m)\u001b[0m\u001b[0;34m:\u001b[0m\u001b[0;34m\u001b[0m\u001b[0;34m\u001b[0m\u001b[0m\n",
            "\u001b[0;32m/usr/local/lib/python3.7/dist-packages/tensorflow/python/ops/gradients_util.py\u001b[0m in \u001b[0;36m_GradientsHelper\u001b[0;34m(ys, xs, grad_ys, name, colocate_gradients_with_ops, gate_gradients, aggregation_method, stop_gradients, unconnected_gradients, src_graph)\u001b[0m\n\u001b[1;32m    682\u001b[0m                 \u001b[0;31m# functions.\u001b[0m\u001b[0;34m\u001b[0m\u001b[0;34m\u001b[0m\u001b[0;34m\u001b[0m\u001b[0m\n\u001b[1;32m    683\u001b[0m                 in_grads = _MaybeCompile(grad_scope, op, func_call,\n\u001b[0;32m--> 684\u001b[0;31m                                          lambda: grad_fn(op, *out_grads))\n\u001b[0m\u001b[1;32m    685\u001b[0m               \u001b[0;32melse\u001b[0m\u001b[0;34m:\u001b[0m\u001b[0;34m\u001b[0m\u001b[0;34m\u001b[0m\u001b[0m\n\u001b[1;32m    686\u001b[0m                 \u001b[0;31m# For function call ops, we add a 'SymbolicGradient'\u001b[0m\u001b[0;34m\u001b[0m\u001b[0;34m\u001b[0m\u001b[0;34m\u001b[0m\u001b[0m\n",
            "\u001b[0;32m/usr/local/lib/python3.7/dist-packages/tensorflow/python/ops/gradients_util.py\u001b[0m in \u001b[0;36m_MaybeCompile\u001b[0;34m(scope, op, func, grad_fn)\u001b[0m\n\u001b[1;32m    338\u001b[0m \u001b[0;34m\u001b[0m\u001b[0m\n\u001b[1;32m    339\u001b[0m   \u001b[0;32mif\u001b[0m \u001b[0;32mnot\u001b[0m \u001b[0mxla_compile\u001b[0m\u001b[0;34m:\u001b[0m\u001b[0;34m\u001b[0m\u001b[0;34m\u001b[0m\u001b[0m\n\u001b[0;32m--> 340\u001b[0;31m     \u001b[0;32mreturn\u001b[0m \u001b[0mgrad_fn\u001b[0m\u001b[0;34m(\u001b[0m\u001b[0;34m)\u001b[0m  \u001b[0;31m# Exit early\u001b[0m\u001b[0;34m\u001b[0m\u001b[0;34m\u001b[0m\u001b[0m\n\u001b[0m\u001b[1;32m    341\u001b[0m \u001b[0;34m\u001b[0m\u001b[0m\n\u001b[1;32m    342\u001b[0m   \u001b[0;31m# If the gradients are supposed to be compiled separately, we give them a\u001b[0m\u001b[0;34m\u001b[0m\u001b[0;34m\u001b[0m\u001b[0;34m\u001b[0m\u001b[0m\n",
            "\u001b[0;32m/usr/local/lib/python3.7/dist-packages/tensorflow/python/ops/gradients_util.py\u001b[0m in \u001b[0;36m<lambda>\u001b[0;34m()\u001b[0m\n\u001b[1;32m    682\u001b[0m                 \u001b[0;31m# functions.\u001b[0m\u001b[0;34m\u001b[0m\u001b[0;34m\u001b[0m\u001b[0;34m\u001b[0m\u001b[0m\n\u001b[1;32m    683\u001b[0m                 in_grads = _MaybeCompile(grad_scope, op, func_call,\n\u001b[0;32m--> 684\u001b[0;31m                                          lambda: grad_fn(op, *out_grads))\n\u001b[0m\u001b[1;32m    685\u001b[0m               \u001b[0;32melse\u001b[0m\u001b[0;34m:\u001b[0m\u001b[0;34m\u001b[0m\u001b[0;34m\u001b[0m\u001b[0m\n\u001b[1;32m    686\u001b[0m                 \u001b[0;31m# For function call ops, we add a 'SymbolicGradient'\u001b[0m\u001b[0;34m\u001b[0m\u001b[0;34m\u001b[0m\u001b[0;34m\u001b[0m\u001b[0m\n",
            "\u001b[0;32m/usr/local/lib/python3.7/dist-packages/tensorflow/python/eager/function.py\u001b[0m in \u001b[0;36m_rewrite_forward_and_call_backward\u001b[0;34m(self, op, *doutputs)\u001b[0m\n\u001b[1;32m    720\u001b[0m   \u001b[0;32mdef\u001b[0m \u001b[0m_rewrite_forward_and_call_backward\u001b[0m\u001b[0;34m(\u001b[0m\u001b[0mself\u001b[0m\u001b[0;34m,\u001b[0m \u001b[0mop\u001b[0m\u001b[0;34m,\u001b[0m \u001b[0;34m*\u001b[0m\u001b[0mdoutputs\u001b[0m\u001b[0;34m)\u001b[0m\u001b[0;34m:\u001b[0m\u001b[0;34m\u001b[0m\u001b[0;34m\u001b[0m\u001b[0m\n\u001b[1;32m    721\u001b[0m     \u001b[0;34m\"\"\"Add outputs to the forward call and feed them to the grad function.\"\"\"\u001b[0m\u001b[0;34m\u001b[0m\u001b[0;34m\u001b[0m\u001b[0m\n\u001b[0;32m--> 722\u001b[0;31m     \u001b[0mforward_function\u001b[0m\u001b[0;34m,\u001b[0m \u001b[0mbackwards_function\u001b[0m \u001b[0;34m=\u001b[0m \u001b[0mself\u001b[0m\u001b[0;34m.\u001b[0m\u001b[0mforward_backward\u001b[0m\u001b[0;34m(\u001b[0m\u001b[0mlen\u001b[0m\u001b[0;34m(\u001b[0m\u001b[0mdoutputs\u001b[0m\u001b[0;34m)\u001b[0m\u001b[0;34m)\u001b[0m\u001b[0;34m\u001b[0m\u001b[0;34m\u001b[0m\u001b[0m\n\u001b[0m\u001b[1;32m    723\u001b[0m     \u001b[0;32mif\u001b[0m \u001b[0;32mnot\u001b[0m \u001b[0mbackwards_function\u001b[0m\u001b[0;34m.\u001b[0m\u001b[0moutputs\u001b[0m\u001b[0;34m:\u001b[0m\u001b[0;34m\u001b[0m\u001b[0;34m\u001b[0m\u001b[0m\n\u001b[1;32m    724\u001b[0m       \u001b[0;32mreturn\u001b[0m \u001b[0mbackwards_function\u001b[0m\u001b[0;34m.\u001b[0m\u001b[0mstructured_outputs\u001b[0m\u001b[0;34m\u001b[0m\u001b[0;34m\u001b[0m\u001b[0m\n",
            "\u001b[0;32m/usr/local/lib/python3.7/dist-packages/tensorflow/python/eager/function.py\u001b[0m in \u001b[0;36mforward_backward\u001b[0;34m(self, num_doutputs)\u001b[0m\n\u001b[1;32m    629\u001b[0m     \u001b[0;32mif\u001b[0m \u001b[0mforward_backward\u001b[0m \u001b[0;32mis\u001b[0m \u001b[0;32mnot\u001b[0m \u001b[0;32mNone\u001b[0m\u001b[0;34m:\u001b[0m\u001b[0;34m\u001b[0m\u001b[0;34m\u001b[0m\u001b[0m\n\u001b[1;32m    630\u001b[0m       \u001b[0;32mreturn\u001b[0m \u001b[0mforward_backward\u001b[0m\u001b[0;34m\u001b[0m\u001b[0;34m\u001b[0m\u001b[0m\n\u001b[0;32m--> 631\u001b[0;31m     \u001b[0mforward\u001b[0m\u001b[0;34m,\u001b[0m \u001b[0mbackward\u001b[0m \u001b[0;34m=\u001b[0m \u001b[0mself\u001b[0m\u001b[0;34m.\u001b[0m\u001b[0m_construct_forward_backward\u001b[0m\u001b[0;34m(\u001b[0m\u001b[0mnum_doutputs\u001b[0m\u001b[0;34m)\u001b[0m\u001b[0;34m\u001b[0m\u001b[0;34m\u001b[0m\u001b[0m\n\u001b[0m\u001b[1;32m    632\u001b[0m     \u001b[0mself\u001b[0m\u001b[0;34m.\u001b[0m\u001b[0m_cached_function_pairs\u001b[0m\u001b[0;34m[\u001b[0m\u001b[0mnum_doutputs\u001b[0m\u001b[0;34m]\u001b[0m \u001b[0;34m=\u001b[0m \u001b[0;34m(\u001b[0m\u001b[0mforward\u001b[0m\u001b[0;34m,\u001b[0m \u001b[0mbackward\u001b[0m\u001b[0;34m)\u001b[0m\u001b[0;34m\u001b[0m\u001b[0;34m\u001b[0m\u001b[0m\n\u001b[1;32m    633\u001b[0m     \u001b[0;32mreturn\u001b[0m \u001b[0mforward\u001b[0m\u001b[0;34m,\u001b[0m \u001b[0mbackward\u001b[0m\u001b[0;34m\u001b[0m\u001b[0;34m\u001b[0m\u001b[0m\n",
            "\u001b[0;32m/usr/local/lib/python3.7/dist-packages/tensorflow/python/eager/function.py\u001b[0m in \u001b[0;36m_construct_forward_backward\u001b[0;34m(self, num_doutputs)\u001b[0m\n\u001b[1;32m    677\u001b[0m           \u001b[0margs\u001b[0m\u001b[0;34m=\u001b[0m\u001b[0;34m[\u001b[0m\u001b[0;34m]\u001b[0m\u001b[0;34m,\u001b[0m \u001b[0mkwargs\u001b[0m\u001b[0;34m=\u001b[0m\u001b[0;34m{\u001b[0m\u001b[0;34m}\u001b[0m\u001b[0;34m,\u001b[0m\u001b[0;34m\u001b[0m\u001b[0;34m\u001b[0m\u001b[0m\n\u001b[1;32m    678\u001b[0m           \u001b[0msignature\u001b[0m\u001b[0;34m=\u001b[0m\u001b[0msignature\u001b[0m\u001b[0;34m,\u001b[0m\u001b[0;34m\u001b[0m\u001b[0;34m\u001b[0m\u001b[0m\n\u001b[0;32m--> 679\u001b[0;31m           func_graph=backwards_graph)\n\u001b[0m\u001b[1;32m    680\u001b[0m       \u001b[0mbackwards_graph_captures\u001b[0m \u001b[0;34m=\u001b[0m \u001b[0mbackwards_graph\u001b[0m\u001b[0;34m.\u001b[0m\u001b[0mexternal_captures\u001b[0m\u001b[0;34m\u001b[0m\u001b[0;34m\u001b[0m\u001b[0m\n\u001b[1;32m    681\u001b[0m       captures_from_forward = [\n",
            "\u001b[0;32m/usr/local/lib/python3.7/dist-packages/tensorflow/python/framework/func_graph.py\u001b[0m in \u001b[0;36mfunc_graph_from_py_func\u001b[0;34m(name, python_func, args, kwargs, signature, func_graph, autograph, autograph_options, add_control_dependencies, arg_names, op_return_value, collections, capture_by_value, override_flat_arg_shapes)\u001b[0m\n\u001b[1;32m    988\u001b[0m         \u001b[0m_\u001b[0m\u001b[0;34m,\u001b[0m \u001b[0moriginal_func\u001b[0m \u001b[0;34m=\u001b[0m \u001b[0mtf_decorator\u001b[0m\u001b[0;34m.\u001b[0m\u001b[0munwrap\u001b[0m\u001b[0;34m(\u001b[0m\u001b[0mpython_func\u001b[0m\u001b[0;34m)\u001b[0m\u001b[0;34m\u001b[0m\u001b[0;34m\u001b[0m\u001b[0m\n\u001b[1;32m    989\u001b[0m \u001b[0;34m\u001b[0m\u001b[0m\n\u001b[0;32m--> 990\u001b[0;31m       \u001b[0mfunc_outputs\u001b[0m \u001b[0;34m=\u001b[0m \u001b[0mpython_func\u001b[0m\u001b[0;34m(\u001b[0m\u001b[0;34m*\u001b[0m\u001b[0mfunc_args\u001b[0m\u001b[0;34m,\u001b[0m \u001b[0;34m**\u001b[0m\u001b[0mfunc_kwargs\u001b[0m\u001b[0;34m)\u001b[0m\u001b[0;34m\u001b[0m\u001b[0;34m\u001b[0m\u001b[0m\n\u001b[0m\u001b[1;32m    991\u001b[0m \u001b[0;34m\u001b[0m\u001b[0m\n\u001b[1;32m    992\u001b[0m       \u001b[0;31m# invariant: `func_outputs` contains only Tensors, CompositeTensors,\u001b[0m\u001b[0;34m\u001b[0m\u001b[0;34m\u001b[0m\u001b[0;34m\u001b[0m\u001b[0m\n",
            "\u001b[0;32m/usr/local/lib/python3.7/dist-packages/tensorflow/python/eager/function.py\u001b[0m in \u001b[0;36m_backprop_function\u001b[0;34m(*grad_ys)\u001b[0m\n\u001b[1;32m    667\u001b[0m             \u001b[0mself\u001b[0m\u001b[0;34m.\u001b[0m\u001b[0m_func_graph\u001b[0m\u001b[0;34m.\u001b[0m\u001b[0minputs\u001b[0m\u001b[0;34m,\u001b[0m\u001b[0;34m\u001b[0m\u001b[0;34m\u001b[0m\u001b[0m\n\u001b[1;32m    668\u001b[0m             \u001b[0mgrad_ys\u001b[0m\u001b[0;34m=\u001b[0m\u001b[0mgrad_ys\u001b[0m\u001b[0;34m,\u001b[0m\u001b[0;34m\u001b[0m\u001b[0;34m\u001b[0m\u001b[0m\n\u001b[0;32m--> 669\u001b[0;31m             src_graph=self._func_graph)\n\u001b[0m\u001b[1;32m    670\u001b[0m \u001b[0;34m\u001b[0m\u001b[0m\n\u001b[1;32m    671\u001b[0m     \u001b[0;32mwith\u001b[0m \u001b[0mself\u001b[0m\u001b[0;34m.\u001b[0m\u001b[0m_func_graph\u001b[0m\u001b[0;34m.\u001b[0m\u001b[0mas_default\u001b[0m\u001b[0;34m(\u001b[0m\u001b[0;34m)\u001b[0m\u001b[0;34m:\u001b[0m\u001b[0;34m\u001b[0m\u001b[0;34m\u001b[0m\u001b[0m\n",
            "\u001b[0;32m/usr/local/lib/python3.7/dist-packages/tensorflow/python/ops/gradients_util.py\u001b[0m in \u001b[0;36m_GradientsHelper\u001b[0;34m(ys, xs, grad_ys, name, colocate_gradients_with_ops, gate_gradients, aggregation_method, stop_gradients, unconnected_gradients, src_graph)\u001b[0m\n\u001b[1;32m    682\u001b[0m                 \u001b[0;31m# functions.\u001b[0m\u001b[0;34m\u001b[0m\u001b[0;34m\u001b[0m\u001b[0;34m\u001b[0m\u001b[0m\n\u001b[1;32m    683\u001b[0m                 in_grads = _MaybeCompile(grad_scope, op, func_call,\n\u001b[0;32m--> 684\u001b[0;31m                                          lambda: grad_fn(op, *out_grads))\n\u001b[0m\u001b[1;32m    685\u001b[0m               \u001b[0;32melse\u001b[0m\u001b[0;34m:\u001b[0m\u001b[0;34m\u001b[0m\u001b[0;34m\u001b[0m\u001b[0m\n\u001b[1;32m    686\u001b[0m                 \u001b[0;31m# For function call ops, we add a 'SymbolicGradient'\u001b[0m\u001b[0;34m\u001b[0m\u001b[0;34m\u001b[0m\u001b[0;34m\u001b[0m\u001b[0m\n",
            "\u001b[0;32m/usr/local/lib/python3.7/dist-packages/tensorflow/python/ops/gradients_util.py\u001b[0m in \u001b[0;36m_MaybeCompile\u001b[0;34m(scope, op, func, grad_fn)\u001b[0m\n\u001b[1;32m    338\u001b[0m \u001b[0;34m\u001b[0m\u001b[0m\n\u001b[1;32m    339\u001b[0m   \u001b[0;32mif\u001b[0m \u001b[0;32mnot\u001b[0m \u001b[0mxla_compile\u001b[0m\u001b[0;34m:\u001b[0m\u001b[0;34m\u001b[0m\u001b[0;34m\u001b[0m\u001b[0m\n\u001b[0;32m--> 340\u001b[0;31m     \u001b[0;32mreturn\u001b[0m \u001b[0mgrad_fn\u001b[0m\u001b[0;34m(\u001b[0m\u001b[0;34m)\u001b[0m  \u001b[0;31m# Exit early\u001b[0m\u001b[0;34m\u001b[0m\u001b[0;34m\u001b[0m\u001b[0m\n\u001b[0m\u001b[1;32m    341\u001b[0m \u001b[0;34m\u001b[0m\u001b[0m\n\u001b[1;32m    342\u001b[0m   \u001b[0;31m# If the gradients are supposed to be compiled separately, we give them a\u001b[0m\u001b[0;34m\u001b[0m\u001b[0;34m\u001b[0m\u001b[0;34m\u001b[0m\u001b[0m\n",
            "\u001b[0;32m/usr/local/lib/python3.7/dist-packages/tensorflow/python/ops/gradients_util.py\u001b[0m in \u001b[0;36m<lambda>\u001b[0;34m()\u001b[0m\n\u001b[1;32m    682\u001b[0m                 \u001b[0;31m# functions.\u001b[0m\u001b[0;34m\u001b[0m\u001b[0;34m\u001b[0m\u001b[0;34m\u001b[0m\u001b[0m\n\u001b[1;32m    683\u001b[0m                 in_grads = _MaybeCompile(grad_scope, op, func_call,\n\u001b[0;32m--> 684\u001b[0;31m                                          lambda: grad_fn(op, *out_grads))\n\u001b[0m\u001b[1;32m    685\u001b[0m               \u001b[0;32melse\u001b[0m\u001b[0;34m:\u001b[0m\u001b[0;34m\u001b[0m\u001b[0;34m\u001b[0m\u001b[0m\n\u001b[1;32m    686\u001b[0m                 \u001b[0;31m# For function call ops, we add a 'SymbolicGradient'\u001b[0m\u001b[0;34m\u001b[0m\u001b[0;34m\u001b[0m\u001b[0;34m\u001b[0m\u001b[0m\n",
            "\u001b[0;32m/usr/local/lib/python3.7/dist-packages/tensorflow/python/ops/math_grad.py\u001b[0m in \u001b[0;36m_MulGrad\u001b[0;34m(op, grad)\u001b[0m\n\u001b[1;32m   1335\u001b[0m   \u001b[0;32melse\u001b[0m\u001b[0;34m:\u001b[0m\u001b[0;34m\u001b[0m\u001b[0;34m\u001b[0m\u001b[0m\n\u001b[1;32m   1336\u001b[0m     gx = array_ops.reshape(\n\u001b[0;32m-> 1337\u001b[0;31m         math_ops.reduce_sum(gen_math_ops.mul(grad, y), rx), sx)\n\u001b[0m\u001b[1;32m   1338\u001b[0m   \u001b[0;32mif\u001b[0m \u001b[0mskip_input_indices\u001b[0m \u001b[0;32mis\u001b[0m \u001b[0;32mnot\u001b[0m \u001b[0;32mNone\u001b[0m \u001b[0;32mand\u001b[0m \u001b[0;36m1\u001b[0m \u001b[0;32min\u001b[0m \u001b[0mskip_input_indices\u001b[0m\u001b[0;34m:\u001b[0m\u001b[0;34m\u001b[0m\u001b[0;34m\u001b[0m\u001b[0m\n\u001b[1;32m   1339\u001b[0m     \u001b[0mgy\u001b[0m \u001b[0;34m=\u001b[0m \u001b[0;32mNone\u001b[0m\u001b[0;34m\u001b[0m\u001b[0;34m\u001b[0m\u001b[0m\n",
            "\u001b[0;32m/usr/local/lib/python3.7/dist-packages/tensorflow/python/ops/gen_math_ops.py\u001b[0m in \u001b[0;36mmul\u001b[0;34m(x, y, name)\u001b[0m\n\u001b[1;32m   6076\u001b[0m   \u001b[0;31m# Add nodes to the TensorFlow graph.\u001b[0m\u001b[0;34m\u001b[0m\u001b[0;34m\u001b[0m\u001b[0;34m\u001b[0m\u001b[0m\n\u001b[1;32m   6077\u001b[0m   _, _, _op, _outputs = _op_def_library._apply_op_helper(\n\u001b[0;32m-> 6078\u001b[0;31m         \"Mul\", x=x, y=y, name=name)\n\u001b[0m\u001b[1;32m   6079\u001b[0m   \u001b[0m_result\u001b[0m \u001b[0;34m=\u001b[0m \u001b[0m_outputs\u001b[0m\u001b[0;34m[\u001b[0m\u001b[0;34m:\u001b[0m\u001b[0;34m]\u001b[0m\u001b[0;34m\u001b[0m\u001b[0;34m\u001b[0m\u001b[0m\n\u001b[1;32m   6080\u001b[0m   \u001b[0;32mif\u001b[0m \u001b[0m_execute\u001b[0m\u001b[0;34m.\u001b[0m\u001b[0mmust_record_gradient\u001b[0m\u001b[0;34m(\u001b[0m\u001b[0;34m)\u001b[0m\u001b[0;34m:\u001b[0m\u001b[0;34m\u001b[0m\u001b[0;34m\u001b[0m\u001b[0m\n",
            "\u001b[0;32m/usr/local/lib/python3.7/dist-packages/tensorflow/python/framework/op_def_library.py\u001b[0m in \u001b[0;36m_apply_op_helper\u001b[0;34m(op_type_name, name, **keywords)\u001b[0m\n\u001b[1;32m    748\u001b[0m       op = g._create_op_internal(op_type_name, inputs, dtypes=None,\n\u001b[1;32m    749\u001b[0m                                  \u001b[0mname\u001b[0m\u001b[0;34m=\u001b[0m\u001b[0mscope\u001b[0m\u001b[0;34m,\u001b[0m \u001b[0minput_types\u001b[0m\u001b[0;34m=\u001b[0m\u001b[0minput_types\u001b[0m\u001b[0;34m,\u001b[0m\u001b[0;34m\u001b[0m\u001b[0;34m\u001b[0m\u001b[0m\n\u001b[0;32m--> 750\u001b[0;31m                                  attrs=attr_protos, op_def=op_def)\n\u001b[0m\u001b[1;32m    751\u001b[0m \u001b[0;34m\u001b[0m\u001b[0m\n\u001b[1;32m    752\u001b[0m     \u001b[0;31m# `outputs` is returned as a separate return value so that the output\u001b[0m\u001b[0;34m\u001b[0m\u001b[0;34m\u001b[0m\u001b[0;34m\u001b[0m\u001b[0m\n",
            "\u001b[0;32m/usr/local/lib/python3.7/dist-packages/tensorflow/python/framework/func_graph.py\u001b[0m in \u001b[0;36m_create_op_internal\u001b[0;34m(self, op_type, inputs, dtypes, input_types, name, attrs, op_def, compute_device)\u001b[0m\n\u001b[1;32m    590\u001b[0m     return super(FuncGraph, self)._create_op_internal(  # pylint: disable=protected-access\n\u001b[1;32m    591\u001b[0m         \u001b[0mop_type\u001b[0m\u001b[0;34m,\u001b[0m \u001b[0mcaptured_inputs\u001b[0m\u001b[0;34m,\u001b[0m \u001b[0mdtypes\u001b[0m\u001b[0;34m,\u001b[0m \u001b[0minput_types\u001b[0m\u001b[0;34m,\u001b[0m \u001b[0mname\u001b[0m\u001b[0;34m,\u001b[0m \u001b[0mattrs\u001b[0m\u001b[0;34m,\u001b[0m \u001b[0mop_def\u001b[0m\u001b[0;34m,\u001b[0m\u001b[0;34m\u001b[0m\u001b[0;34m\u001b[0m\u001b[0m\n\u001b[0;32m--> 592\u001b[0;31m         compute_device)\n\u001b[0m\u001b[1;32m    593\u001b[0m \u001b[0;34m\u001b[0m\u001b[0m\n\u001b[1;32m    594\u001b[0m   \u001b[0;32mdef\u001b[0m \u001b[0mcapture\u001b[0m\u001b[0;34m(\u001b[0m\u001b[0mself\u001b[0m\u001b[0;34m,\u001b[0m \u001b[0mtensor\u001b[0m\u001b[0;34m,\u001b[0m \u001b[0mname\u001b[0m\u001b[0;34m=\u001b[0m\u001b[0;32mNone\u001b[0m\u001b[0;34m,\u001b[0m \u001b[0mshape\u001b[0m\u001b[0;34m=\u001b[0m\u001b[0;32mNone\u001b[0m\u001b[0;34m)\u001b[0m\u001b[0;34m:\u001b[0m\u001b[0;34m\u001b[0m\u001b[0;34m\u001b[0m\u001b[0m\n",
            "\u001b[0;32m/usr/local/lib/python3.7/dist-packages/tensorflow/python/framework/ops.py\u001b[0m in \u001b[0;36m_create_op_internal\u001b[0;34m(self, op_type, inputs, dtypes, input_types, name, attrs, op_def, compute_device)\u001b[0m\n\u001b[1;32m   3534\u001b[0m           \u001b[0minput_types\u001b[0m\u001b[0;34m=\u001b[0m\u001b[0minput_types\u001b[0m\u001b[0;34m,\u001b[0m\u001b[0;34m\u001b[0m\u001b[0;34m\u001b[0m\u001b[0m\n\u001b[1;32m   3535\u001b[0m           \u001b[0moriginal_op\u001b[0m\u001b[0;34m=\u001b[0m\u001b[0mself\u001b[0m\u001b[0;34m.\u001b[0m\u001b[0m_default_original_op\u001b[0m\u001b[0;34m,\u001b[0m\u001b[0;34m\u001b[0m\u001b[0;34m\u001b[0m\u001b[0m\n\u001b[0;32m-> 3536\u001b[0;31m           op_def=op_def)\n\u001b[0m\u001b[1;32m   3537\u001b[0m       \u001b[0mself\u001b[0m\u001b[0;34m.\u001b[0m\u001b[0m_create_op_helper\u001b[0m\u001b[0;34m(\u001b[0m\u001b[0mret\u001b[0m\u001b[0;34m,\u001b[0m \u001b[0mcompute_device\u001b[0m\u001b[0;34m=\u001b[0m\u001b[0mcompute_device\u001b[0m\u001b[0;34m)\u001b[0m\u001b[0;34m\u001b[0m\u001b[0;34m\u001b[0m\u001b[0m\n\u001b[1;32m   3538\u001b[0m     \u001b[0;32mreturn\u001b[0m \u001b[0mret\u001b[0m\u001b[0;34m\u001b[0m\u001b[0;34m\u001b[0m\u001b[0m\n",
            "\u001b[0;32m/usr/local/lib/python3.7/dist-packages/tensorflow/python/framework/ops.py\u001b[0m in \u001b[0;36m__init__\u001b[0;34m(self, node_def, g, inputs, output_types, control_inputs, input_types, original_op, op_def)\u001b[0m\n\u001b[1;32m   2026\u001b[0m       \u001b[0mtf_output\u001b[0m \u001b[0;34m=\u001b[0m \u001b[0mc_api_util\u001b[0m\u001b[0;34m.\u001b[0m\u001b[0mtf_output\u001b[0m\u001b[0;34m(\u001b[0m\u001b[0mself\u001b[0m\u001b[0;34m.\u001b[0m\u001b[0m_c_op\u001b[0m\u001b[0;34m,\u001b[0m \u001b[0mi\u001b[0m\u001b[0;34m)\u001b[0m\u001b[0;34m\u001b[0m\u001b[0;34m\u001b[0m\u001b[0m\n\u001b[1;32m   2027\u001b[0m       \u001b[0moutput_type\u001b[0m \u001b[0;34m=\u001b[0m \u001b[0mpywrap_tf_session\u001b[0m\u001b[0;34m.\u001b[0m\u001b[0mTF_OperationOutputType\u001b[0m\u001b[0;34m(\u001b[0m\u001b[0mtf_output\u001b[0m\u001b[0;34m)\u001b[0m\u001b[0;34m\u001b[0m\u001b[0;34m\u001b[0m\u001b[0m\n\u001b[0;32m-> 2028\u001b[0;31m       \u001b[0mtensor\u001b[0m \u001b[0;34m=\u001b[0m \u001b[0mTensor\u001b[0m\u001b[0;34m.\u001b[0m\u001b[0m_create_with_tf_output\u001b[0m\u001b[0;34m(\u001b[0m\u001b[0mself\u001b[0m\u001b[0;34m,\u001b[0m \u001b[0mi\u001b[0m\u001b[0;34m,\u001b[0m \u001b[0moutput_type\u001b[0m\u001b[0;34m,\u001b[0m \u001b[0mtf_output\u001b[0m\u001b[0;34m)\u001b[0m  \u001b[0;31m# pylint: disable=protected-access\u001b[0m\u001b[0;34m\u001b[0m\u001b[0;34m\u001b[0m\u001b[0m\n\u001b[0m\u001b[1;32m   2029\u001b[0m       \u001b[0mself\u001b[0m\u001b[0;34m.\u001b[0m\u001b[0m_outputs\u001b[0m\u001b[0;34m.\u001b[0m\u001b[0mappend\u001b[0m\u001b[0;34m(\u001b[0m\u001b[0mtensor\u001b[0m\u001b[0;34m)\u001b[0m\u001b[0;34m\u001b[0m\u001b[0;34m\u001b[0m\u001b[0m\n\u001b[1;32m   2030\u001b[0m \u001b[0;34m\u001b[0m\u001b[0m\n",
            "\u001b[0;32m/usr/local/lib/python3.7/dist-packages/tensorflow/python/framework/ops.py\u001b[0m in \u001b[0;36m_create_with_tf_output\u001b[0;34m(op, value_index, dtype, tf_output)\u001b[0m\n\u001b[1;32m    388\u001b[0m   \u001b[0;34m@\u001b[0m\u001b[0mstaticmethod\u001b[0m\u001b[0;34m\u001b[0m\u001b[0;34m\u001b[0m\u001b[0m\n\u001b[1;32m    389\u001b[0m   \u001b[0;32mdef\u001b[0m \u001b[0m_create_with_tf_output\u001b[0m\u001b[0;34m(\u001b[0m\u001b[0mop\u001b[0m\u001b[0;34m,\u001b[0m \u001b[0mvalue_index\u001b[0m\u001b[0;34m,\u001b[0m \u001b[0mdtype\u001b[0m\u001b[0;34m,\u001b[0m \u001b[0mtf_output\u001b[0m\u001b[0;34m)\u001b[0m\u001b[0;34m:\u001b[0m\u001b[0;34m\u001b[0m\u001b[0;34m\u001b[0m\u001b[0m\n\u001b[0;32m--> 390\u001b[0;31m     \u001b[0mret\u001b[0m \u001b[0;34m=\u001b[0m \u001b[0mTensor\u001b[0m\u001b[0;34m(\u001b[0m\u001b[0mop\u001b[0m\u001b[0;34m,\u001b[0m \u001b[0mvalue_index\u001b[0m\u001b[0;34m,\u001b[0m \u001b[0mdtype\u001b[0m\u001b[0;34m)\u001b[0m\u001b[0;34m\u001b[0m\u001b[0;34m\u001b[0m\u001b[0m\n\u001b[0m\u001b[1;32m    391\u001b[0m     \u001b[0mret\u001b[0m\u001b[0;34m.\u001b[0m\u001b[0m_tf_output\u001b[0m \u001b[0;34m=\u001b[0m \u001b[0mtf_output\u001b[0m\u001b[0;34m\u001b[0m\u001b[0;34m\u001b[0m\u001b[0m\n\u001b[1;32m    392\u001b[0m     \u001b[0;32mreturn\u001b[0m \u001b[0mret\u001b[0m\u001b[0;34m\u001b[0m\u001b[0;34m\u001b[0m\u001b[0m\n",
            "\u001b[0;32m/usr/local/lib/python3.7/dist-packages/tensorflow/python/framework/ops.py\u001b[0m in \u001b[0;36m__init__\u001b[0;34m(self, op, value_index, dtype)\u001b[0m\n\u001b[1;32m    375\u001b[0m     \u001b[0mself\u001b[0m\u001b[0;34m.\u001b[0m\u001b[0m_op\u001b[0m \u001b[0;34m=\u001b[0m \u001b[0mop\u001b[0m\u001b[0;34m\u001b[0m\u001b[0;34m\u001b[0m\u001b[0m\n\u001b[1;32m    376\u001b[0m     \u001b[0mself\u001b[0m\u001b[0;34m.\u001b[0m\u001b[0m_value_index\u001b[0m \u001b[0;34m=\u001b[0m \u001b[0mvalue_index\u001b[0m\u001b[0;34m\u001b[0m\u001b[0;34m\u001b[0m\u001b[0m\n\u001b[0;32m--> 377\u001b[0;31m     \u001b[0mself\u001b[0m\u001b[0;34m.\u001b[0m\u001b[0m_dtype\u001b[0m \u001b[0;34m=\u001b[0m \u001b[0mdtypes\u001b[0m\u001b[0;34m.\u001b[0m\u001b[0mas_dtype\u001b[0m\u001b[0;34m(\u001b[0m\u001b[0mdtype\u001b[0m\u001b[0;34m)\u001b[0m\u001b[0;34m\u001b[0m\u001b[0;34m\u001b[0m\u001b[0m\n\u001b[0m\u001b[1;32m    378\u001b[0m     \u001b[0;31m# This will be set by self._as_tf_output().\u001b[0m\u001b[0;34m\u001b[0m\u001b[0;34m\u001b[0m\u001b[0;34m\u001b[0m\u001b[0m\n\u001b[1;32m    379\u001b[0m     \u001b[0mself\u001b[0m\u001b[0;34m.\u001b[0m\u001b[0m_tf_output\u001b[0m \u001b[0;34m=\u001b[0m \u001b[0;32mNone\u001b[0m\u001b[0;34m\u001b[0m\u001b[0;34m\u001b[0m\u001b[0m\n",
            "\u001b[0;32m/usr/local/lib/python3.7/dist-packages/tensorflow/python/framework/dtypes.py\u001b[0m in \u001b[0;36mas_dtype\u001b[0;34m(type_value)\u001b[0m\n\u001b[1;32m    633\u001b[0m \u001b[0;34m\u001b[0m\u001b[0m\n\u001b[1;32m    634\u001b[0m   \u001b[0;32mtry\u001b[0m\u001b[0;34m:\u001b[0m\u001b[0;34m\u001b[0m\u001b[0;34m\u001b[0m\u001b[0m\n\u001b[0;32m--> 635\u001b[0;31m     \u001b[0;32mreturn\u001b[0m \u001b[0m_ANY_TO_TF\u001b[0m\u001b[0;34m[\u001b[0m\u001b[0mtype_value\u001b[0m\u001b[0;34m]\u001b[0m\u001b[0;34m\u001b[0m\u001b[0;34m\u001b[0m\u001b[0m\n\u001b[0m\u001b[1;32m    636\u001b[0m   \u001b[0;32mexcept\u001b[0m \u001b[0;34m(\u001b[0m\u001b[0mKeyError\u001b[0m\u001b[0;34m,\u001b[0m \u001b[0mTypeError\u001b[0m\u001b[0;34m)\u001b[0m\u001b[0;34m:\u001b[0m\u001b[0;34m\u001b[0m\u001b[0;34m\u001b[0m\u001b[0m\n\u001b[1;32m    637\u001b[0m     \u001b[0;31m# TypeError indicates that type_value is not hashable.\u001b[0m\u001b[0;34m\u001b[0m\u001b[0;34m\u001b[0m\u001b[0;34m\u001b[0m\u001b[0m\n",
            "\u001b[0;31mKeyboardInterrupt\u001b[0m: "
          ]
        }
      ]
    },
    {
      "cell_type": "code",
      "metadata": {
        "id": "XAZ52f9ObOXh"
      },
      "source": [
        "# electra baseline with fine tuning\n",
        "bert_model_name = 'electra_base'\n",
        "epochs = 3\n",
        "init_lr = 2e-5\n",
        "batch_size = 8\n",
        "do_fine_tuning = True\n",
        "folds = 10\n",
        "\n",
        "def create_layers(net, text_input): \n",
        "  net = tf.keras.layers.Dropout(0.1)(net)\n",
        "  net = tf.keras.layers.Dense(1, activation='sigmoid', name='classifier')(net)\n",
        "  return tf.keras.Model(text_input, net)\n",
        "\n",
        "results1, history1, classifier_model1 = bert_10_fold(epochs=epochs, \n",
        "                                                  init_lr=init_lr, \n",
        "                                                  batch_size = batch_size, \n",
        "                                                  do_fine_tuning = do_fine_tuning, \n",
        "                                                  create_classifier = create_layers, \n",
        "                                                  bert_model_name = bert_model_name, \n",
        "                                                  folds = folds)\n",
        "\n",
        "print('Average error ', np.mean(results1[bert_model_name]))"
      ],
      "execution_count": null,
      "outputs": []
    },
    {
      "cell_type": "code",
      "metadata": {
        "id": "EIm8KqWwezNP"
      },
      "source": [
        "# electra with fine-tuning, reg \n",
        "bert_model_name = 'electra_base'\n",
        "epochs = 3\n",
        "init_lr = 2e-5\n",
        "batch_size = 8\n",
        "do_fine_tuning = True\n",
        "folds = 10\n",
        "\n",
        "def create_layers(net, text_input): \n",
        "  net = tf.keras.layers.Dropout(0.1)(net)\n",
        "  net = tf.keras.layers.Dense(1, activation='sigmoid', name='classifier', \n",
        "                              kernel_regularizer=tf.keras.regularizers.L1L2(l1=0.01, l2=0.01)\n",
        "                              )(net)\n",
        "  return tf.keras.Model(text_input, net)\n",
        "\n",
        "results2, history2, classifier_model2 = bert_10_fold(epochs=epochs, \n",
        "                                                  init_lr=init_lr, \n",
        "                                                  batch_size = batch_size, \n",
        "                                                  do_fine_tuning = do_fine_tuning, \n",
        "                                                  create_classifier = create_layers, \n",
        "                                                  bert_model_name = bert_model_name, \n",
        "                                                  folds = folds)\n",
        "\n",
        "print('Average accuracy ', np.mean(results2[bert_model_name]))"
      ],
      "execution_count": null,
      "outputs": []
    },
    {
      "cell_type": "code",
      "metadata": {
        "colab": {
          "base_uri": "https://localhost:8080/"
        },
        "id": "P4fqdDfSvCfR",
        "outputId": "4d77bed1-fb25-4e9f-8638-135fa267b792"
      },
      "source": [
        "# electra with fine-tuning, reg \n",
        "bert_model_name = 'electra_base'\n",
        "epochs = 4\n",
        "init_lr = 2e-5\n",
        "batch_size = 8\n",
        "do_fine_tuning = True\n",
        "folds = 10\n",
        "\n",
        "def create_layers(net, text_input): \n",
        "  net = tf.keras.layers.Dropout(0.1)(net)\n",
        "  net = tf.keras.layers.Dense(1, activation='sigmoid', name='classifier', \n",
        "                              kernel_regularizer=tf.keras.regularizers.L1L2(l1=0.01, l2=0.01)\n",
        "                              )(net)\n",
        "  return tf.keras.Model(text_input, net)\n",
        "\n",
        "results2, history2, classifier_model2 = bert_10_fold(epochs=epochs, \n",
        "                                                  init_lr=init_lr, \n",
        "                                                  batch_size = batch_size, \n",
        "                                                  do_fine_tuning = do_fine_tuning, \n",
        "                                                  create_classifier = create_layers, \n",
        "                                                  bert_model_name = bert_model_name, \n",
        "                                                  folds = folds)\n",
        "\n",
        "print('Average accuracy ', np.mean(results2[bert_model_name]))"
      ],
      "execution_count": null,
      "outputs": [
        {
          "output_type": "stream",
          "text": [
            "electra_base\n",
            "FOLD  0\n",
            "Train  3062\n",
            "Test  340\n"
          ],
          "name": "stdout"
        },
        {
          "output_type": "stream",
          "text": [
            "INFO:absl:using Adamw optimizer\n",
            "INFO:absl:gradient_clip_norm=1.000000\n"
          ],
          "name": "stderr"
        },
        {
          "output_type": "stream",
          "text": [
            "Epoch 1/4\n",
            "383/383 [==============================] - 81s 166ms/step - loss: 1.0742 - binary_accuracy: 0.4957 - val_loss: 1.0306 - val_binary_accuracy: 0.5853\n",
            "Epoch 2/4\n",
            "383/383 [==============================] - 63s 164ms/step - loss: 0.9678 - binary_accuracy: 0.6564 - val_loss: 1.0262 - val_binary_accuracy: 0.6412\n",
            "Epoch 3/4\n",
            "383/383 [==============================] - 63s 164ms/step - loss: 0.7994 - binary_accuracy: 0.7912 - val_loss: 1.2416 - val_binary_accuracy: 0.6471\n",
            "Epoch 4/4\n",
            "383/383 [==============================] - 63s 164ms/step - loss: 0.6106 - binary_accuracy: 0.8995 - val_loss: 1.4047 - val_binary_accuracy: 0.6471\n",
            "43/43 [==============================] - 2s 51ms/step - loss: 1.4047 - binary_accuracy: 0.6471\n",
            "FOLD  1\n",
            "Train  3062\n",
            "Test  340\n"
          ],
          "name": "stdout"
        },
        {
          "output_type": "stream",
          "text": [
            "INFO:absl:using Adamw optimizer\n",
            "INFO:absl:gradient_clip_norm=1.000000\n"
          ],
          "name": "stderr"
        },
        {
          "output_type": "stream",
          "text": [
            "Epoch 1/4\n",
            "383/383 [==============================] - 78s 166ms/step - loss: 1.0949 - binary_accuracy: 0.5059 - val_loss: 1.0099 - val_binary_accuracy: 0.6265\n",
            "Epoch 2/4\n",
            "383/383 [==============================] - 63s 164ms/step - loss: 0.9725 - binary_accuracy: 0.6645 - val_loss: 1.0188 - val_binary_accuracy: 0.6882\n",
            "Epoch 3/4\n",
            "383/383 [==============================] - 63s 164ms/step - loss: 0.7676 - binary_accuracy: 0.8092 - val_loss: 1.2658 - val_binary_accuracy: 0.6971\n",
            "Epoch 4/4\n",
            "383/383 [==============================] - 63s 164ms/step - loss: 0.5864 - binary_accuracy: 0.9130 - val_loss: 1.3757 - val_binary_accuracy: 0.6941\n",
            "43/43 [==============================] - 2s 51ms/step - loss: 1.3757 - binary_accuracy: 0.6941\n",
            "FOLD  2\n",
            "Train  3062\n",
            "Test  340\n"
          ],
          "name": "stdout"
        },
        {
          "output_type": "stream",
          "text": [
            "INFO:absl:using Adamw optimizer\n",
            "INFO:absl:gradient_clip_norm=1.000000\n"
          ],
          "name": "stderr"
        },
        {
          "output_type": "stream",
          "text": [
            "Epoch 1/4\n",
            "383/383 [==============================] - 81s 166ms/step - loss: 1.0529 - binary_accuracy: 0.5217 - val_loss: 0.9744 - val_binary_accuracy: 0.6559\n",
            "Epoch 2/4\n",
            "383/383 [==============================] - 63s 164ms/step - loss: 0.9628 - binary_accuracy: 0.6496 - val_loss: 1.0392 - val_binary_accuracy: 0.6353\n",
            "Epoch 3/4\n",
            "383/383 [==============================] - 63s 164ms/step - loss: 0.7700 - binary_accuracy: 0.8013 - val_loss: 1.2256 - val_binary_accuracy: 0.6794\n",
            "Epoch 4/4\n",
            "383/383 [==============================] - 63s 164ms/step - loss: 0.6111 - binary_accuracy: 0.8890 - val_loss: 1.3891 - val_binary_accuracy: 0.6441\n",
            "43/43 [==============================] - 2s 50ms/step - loss: 1.3891 - binary_accuracy: 0.6441\n",
            "FOLD  3\n",
            "Train  3062\n",
            "Test  340\n"
          ],
          "name": "stdout"
        },
        {
          "output_type": "stream",
          "text": [
            "INFO:absl:using Adamw optimizer\n",
            "INFO:absl:gradient_clip_norm=1.000000\n"
          ],
          "name": "stderr"
        },
        {
          "output_type": "stream",
          "text": [
            "Epoch 1/4\n",
            "383/383 [==============================] - 81s 166ms/step - loss: 1.0612 - binary_accuracy: 0.5227 - val_loss: 1.0052 - val_binary_accuracy: 0.6412\n",
            "Epoch 2/4\n",
            "383/383 [==============================] - 63s 164ms/step - loss: 0.9606 - binary_accuracy: 0.6631 - val_loss: 1.0818 - val_binary_accuracy: 0.6647\n",
            "Epoch 3/4\n",
            "383/383 [==============================] - 62s 163ms/step - loss: 0.7653 - binary_accuracy: 0.8110 - val_loss: 1.2882 - val_binary_accuracy: 0.6794\n",
            "Epoch 4/4\n",
            "383/383 [==============================] - 63s 163ms/step - loss: 0.6120 - binary_accuracy: 0.8936 - val_loss: 1.3770 - val_binary_accuracy: 0.6853\n",
            "43/43 [==============================] - 2s 50ms/step - loss: 1.3770 - binary_accuracy: 0.6853\n",
            "FOLD  4\n",
            "Train  3062\n",
            "Test  340\n"
          ],
          "name": "stdout"
        },
        {
          "output_type": "stream",
          "text": [
            "INFO:absl:using Adamw optimizer\n",
            "INFO:absl:gradient_clip_norm=1.000000\n"
          ],
          "name": "stderr"
        },
        {
          "output_type": "stream",
          "text": [
            "Epoch 1/4\n",
            "383/383 [==============================] - 78s 165ms/step - loss: 1.0830 - binary_accuracy: 0.4922 - val_loss: 1.0094 - val_binary_accuracy: 0.6147\n",
            "Epoch 2/4\n",
            "383/383 [==============================] - 63s 163ms/step - loss: 0.9705 - binary_accuracy: 0.6577 - val_loss: 1.0385 - val_binary_accuracy: 0.6588\n",
            "Epoch 3/4\n",
            "383/383 [==============================] - 63s 163ms/step - loss: 0.7860 - binary_accuracy: 0.7942 - val_loss: 1.2128 - val_binary_accuracy: 0.6500\n",
            "Epoch 4/4\n",
            "383/383 [==============================] - 63s 163ms/step - loss: 0.6100 - binary_accuracy: 0.8915 - val_loss: 1.4358 - val_binary_accuracy: 0.6147\n",
            "43/43 [==============================] - 2s 50ms/step - loss: 1.4358 - binary_accuracy: 0.6147\n",
            "FOLD  5\n",
            "Train  3062\n",
            "Test  340\n"
          ],
          "name": "stdout"
        },
        {
          "output_type": "stream",
          "text": [
            "INFO:absl:using Adamw optimizer\n",
            "INFO:absl:gradient_clip_norm=1.000000\n"
          ],
          "name": "stderr"
        },
        {
          "output_type": "stream",
          "text": [
            "Epoch 1/4\n",
            "383/383 [==============================] - 77s 165ms/step - loss: 1.0714 - binary_accuracy: 0.5179 - val_loss: 1.0090 - val_binary_accuracy: 0.6088\n",
            "Epoch 2/4\n",
            "383/383 [==============================] - 63s 163ms/step - loss: 0.9489 - binary_accuracy: 0.6740 - val_loss: 1.1120 - val_binary_accuracy: 0.6029\n",
            "Epoch 3/4\n",
            "383/383 [==============================] - 63s 163ms/step - loss: 0.7386 - binary_accuracy: 0.8169 - val_loss: 1.6623 - val_binary_accuracy: 0.6176\n",
            "Epoch 4/4\n",
            "383/383 [==============================] - 63s 163ms/step - loss: 0.5787 - binary_accuracy: 0.9078 - val_loss: 1.6289 - val_binary_accuracy: 0.6618\n",
            "43/43 [==============================] - 2s 50ms/step - loss: 1.6289 - binary_accuracy: 0.6618\n",
            "FOLD  6\n",
            "Train  3062\n",
            "Test  340\n"
          ],
          "name": "stdout"
        },
        {
          "output_type": "stream",
          "text": [
            "INFO:absl:using Adamw optimizer\n",
            "INFO:absl:gradient_clip_norm=1.000000\n"
          ],
          "name": "stderr"
        },
        {
          "output_type": "stream",
          "text": [
            "Epoch 1/4\n",
            "383/383 [==============================] - 82s 165ms/step - loss: 1.0867 - binary_accuracy: 0.5059 - val_loss: 0.9859 - val_binary_accuracy: 0.6441\n",
            "Epoch 2/4\n",
            "383/383 [==============================] - 63s 163ms/step - loss: 0.9459 - binary_accuracy: 0.6810 - val_loss: 1.0375 - val_binary_accuracy: 0.6147\n",
            "Epoch 3/4\n",
            "383/383 [==============================] - 63s 163ms/step - loss: 0.7418 - binary_accuracy: 0.8251 - val_loss: 1.1243 - val_binary_accuracy: 0.6912\n",
            "Epoch 4/4\n",
            "383/383 [==============================] - 63s 163ms/step - loss: 0.6064 - binary_accuracy: 0.8959 - val_loss: 1.3393 - val_binary_accuracy: 0.6618\n",
            "43/43 [==============================] - 2s 50ms/step - loss: 1.3393 - binary_accuracy: 0.6618\n",
            "FOLD  7\n",
            "Train  3062\n",
            "Test  340\n"
          ],
          "name": "stdout"
        },
        {
          "output_type": "stream",
          "text": [
            "INFO:absl:using Adamw optimizer\n",
            "INFO:absl:gradient_clip_norm=1.000000\n"
          ],
          "name": "stderr"
        },
        {
          "output_type": "stream",
          "text": [
            "Epoch 1/4\n",
            "383/383 [==============================] - 78s 165ms/step - loss: 1.0564 - binary_accuracy: 0.5411 - val_loss: 0.9607 - val_binary_accuracy: 0.6500\n",
            "Epoch 2/4\n",
            "383/383 [==============================] - 62s 163ms/step - loss: 0.9474 - binary_accuracy: 0.6695 - val_loss: 1.0021 - val_binary_accuracy: 0.6559\n",
            "Epoch 3/4\n",
            "383/383 [==============================] - 62s 163ms/step - loss: 0.7607 - binary_accuracy: 0.8107 - val_loss: 1.1977 - val_binary_accuracy: 0.6794\n",
            "Epoch 4/4\n",
            "383/383 [==============================] - 62s 163ms/step - loss: 0.5803 - binary_accuracy: 0.9072 - val_loss: 1.4072 - val_binary_accuracy: 0.6647\n",
            "43/43 [==============================] - 2s 50ms/step - loss: 1.4072 - binary_accuracy: 0.6647\n",
            "FOLD  8\n",
            "Train  3062\n",
            "Test  340\n"
          ],
          "name": "stdout"
        },
        {
          "output_type": "stream",
          "text": [
            "INFO:absl:using Adamw optimizer\n",
            "INFO:absl:gradient_clip_norm=1.000000\n"
          ],
          "name": "stderr"
        },
        {
          "output_type": "stream",
          "text": [
            "Epoch 1/4\n",
            "383/383 [==============================] - 77s 164ms/step - loss: 1.0627 - binary_accuracy: 0.5221 - val_loss: 1.0008 - val_binary_accuracy: 0.6206\n",
            "Epoch 2/4\n",
            "383/383 [==============================] - 62s 163ms/step - loss: 0.9568 - binary_accuracy: 0.6723 - val_loss: 1.0724 - val_binary_accuracy: 0.6412\n",
            "Epoch 3/4\n",
            "383/383 [==============================] - 63s 163ms/step - loss: 0.7763 - binary_accuracy: 0.8028 - val_loss: 1.4118 - val_binary_accuracy: 0.6294\n",
            "Epoch 4/4\n",
            "383/383 [==============================] - 63s 163ms/step - loss: 0.6114 - binary_accuracy: 0.8970 - val_loss: 1.4072 - val_binary_accuracy: 0.6735\n",
            "43/43 [==============================] - 2s 50ms/step - loss: 1.4072 - binary_accuracy: 0.6735\n",
            "FOLD  9\n",
            "Train  3062\n",
            "Test  340\n"
          ],
          "name": "stdout"
        },
        {
          "output_type": "stream",
          "text": [
            "INFO:absl:using Adamw optimizer\n",
            "INFO:absl:gradient_clip_norm=1.000000\n"
          ],
          "name": "stderr"
        },
        {
          "output_type": "stream",
          "text": [
            "Epoch 1/4\n",
            "383/383 [==============================] - 78s 165ms/step - loss: 1.0801 - binary_accuracy: 0.5071 - val_loss: 1.0144 - val_binary_accuracy: 0.5824\n",
            "Epoch 2/4\n",
            "383/383 [==============================] - 63s 163ms/step - loss: 0.9634 - binary_accuracy: 0.6724 - val_loss: 1.0781 - val_binary_accuracy: 0.6353\n",
            "Epoch 3/4\n",
            "383/383 [==============================] - 63s 163ms/step - loss: 0.7729 - binary_accuracy: 0.8087 - val_loss: 1.3211 - val_binary_accuracy: 0.6382\n",
            "Epoch 4/4\n",
            "383/383 [==============================] - 63s 163ms/step - loss: 0.5823 - binary_accuracy: 0.9086 - val_loss: 1.6064 - val_binary_accuracy: 0.6265\n",
            "43/43 [==============================] - 2s 50ms/step - loss: 1.6064 - binary_accuracy: 0.6265\n",
            "Average accuracy  0.6573529303073883\n"
          ],
          "name": "stdout"
        }
      ]
    },
    {
      "cell_type": "code",
      "metadata": {
        "colab": {
          "background_save": true,
          "base_uri": "https://localhost:8080/"
        },
        "id": "PXCHEUhEi9Mk",
        "outputId": "b149a177-a7d6-4680-f0e3-cdb856491dde"
      },
      "source": [
        "# electra with fine-tuning, best CNN \n",
        "bert_model_name = 'electra_base'\n",
        "epochs = 4\n",
        "init_lr = 2e-5\n",
        "batch_size = 8\n",
        "do_fine_tuning = True\n",
        "folds = 10\n",
        "\n",
        "def create_layers(net, text_input): \n",
        "  filter_length = 1\n",
        "  seq_len = 256\n",
        "  net = tf.keras.layers.Reshape((2,384), input_shape=(None,768))(net)\n",
        "  net = tf.keras.layers.Conv1D(filters=256, kernel_size=(filter_length), padding='valid',strides=1, activation='relu')(net)\n",
        "  net = tf.keras.layers.MaxPool1D(pool_size=2)(net)\n",
        "  net = tf.keras.layers.Flatten()(net)\n",
        "  net = tf.keras.layers.Dense(256, activation = 'relu')(net)\n",
        "  net = tf.keras.layers.Dropout(0.1)(net)\n",
        "  net = tf.keras.layers.Dense(1, activation='sigmoid', name='classifier', \n",
        "                              kernel_regularizer=tf.keras.regularizers.L1L2(l1=0.01, l2=0.02)\n",
        "                              )(net)\n",
        "  return tf.keras.Model(text_input, net)\n",
        "\n",
        "results3, history3, classifier_model3 = bert_10_fold(epochs=epochs, \n",
        "                                                  init_lr=init_lr, \n",
        "                                                  batch_size = batch_size, \n",
        "                                                  do_fine_tuning = do_fine_tuning, \n",
        "                                                  create_classifier = create_layers, \n",
        "                                                  bert_model_name = bert_model_name, \n",
        "                                                  folds = folds)\n",
        "\n",
        "print('Average accuracy ', np.mean(results3[bert_model_name]))"
      ],
      "execution_count": null,
      "outputs": [
        {
          "output_type": "stream",
          "text": [
            "electra_base\n",
            "FOLD  0\n",
            "Train  3062\n",
            "Test  340\n"
          ],
          "name": "stdout"
        },
        {
          "output_type": "stream",
          "text": [
            "INFO:absl:using Adamw optimizer\n",
            "INFO:absl:gradient_clip_norm=1.000000\n"
          ],
          "name": "stderr"
        },
        {
          "output_type": "stream",
          "text": [
            "Epoch 1/4\n",
            "383/383 [==============================] - 79s 166ms/step - loss: 0.9256 - binary_accuracy: 0.5276 - val_loss: 0.8972 - val_binary_accuracy: 0.5706\n",
            "Epoch 2/4\n",
            "383/383 [==============================] - 63s 164ms/step - loss: 0.8558 - binary_accuracy: 0.6422 - val_loss: 0.8875 - val_binary_accuracy: 0.6500\n",
            "Epoch 3/4\n",
            "383/383 [==============================] - 63s 164ms/step - loss: 0.6761 - binary_accuracy: 0.7964 - val_loss: 1.1208 - val_binary_accuracy: 0.6412\n",
            "Epoch 4/4\n",
            "383/383 [==============================] - 63s 164ms/step - loss: 0.4938 - binary_accuracy: 0.8933 - val_loss: 1.3129 - val_binary_accuracy: 0.6353\n",
            "43/43 [==============================] - 2s 50ms/step - loss: 1.3129 - binary_accuracy: 0.6353\n",
            "FOLD  1\n",
            "Train  3062\n",
            "Test  340\n"
          ],
          "name": "stdout"
        },
        {
          "output_type": "stream",
          "text": [
            "INFO:absl:using Adamw optimizer\n",
            "INFO:absl:gradient_clip_norm=1.000000\n"
          ],
          "name": "stderr"
        },
        {
          "output_type": "stream",
          "text": [
            "Epoch 1/4\n",
            "383/383 [==============================] - 77s 165ms/step - loss: 0.9370 - binary_accuracy: 0.5219 - val_loss: 0.8888 - val_binary_accuracy: 0.5912\n",
            "Epoch 2/4\n",
            "383/383 [==============================] - 63s 163ms/step - loss: 0.8822 - binary_accuracy: 0.6286 - val_loss: 0.8237 - val_binary_accuracy: 0.7147\n",
            "Epoch 3/4\n",
            "383/383 [==============================] - 63s 163ms/step - loss: 0.7329 - binary_accuracy: 0.7690 - val_loss: 0.8963 - val_binary_accuracy: 0.6882\n",
            "Epoch 4/4\n",
            "383/383 [==============================] - 62s 163ms/step - loss: 0.5795 - binary_accuracy: 0.8629 - val_loss: 0.9829 - val_binary_accuracy: 0.6882\n",
            "43/43 [==============================] - 2s 50ms/step - loss: 0.9829 - binary_accuracy: 0.6882\n",
            "FOLD  2\n",
            "Train  3062\n",
            "Test  340\n"
          ],
          "name": "stdout"
        },
        {
          "output_type": "stream",
          "text": [
            "INFO:absl:using Adamw optimizer\n",
            "INFO:absl:gradient_clip_norm=1.000000\n"
          ],
          "name": "stderr"
        },
        {
          "output_type": "stream",
          "text": [
            "Epoch 1/4\n",
            "383/383 [==============================] - 80s 166ms/step - loss: 0.9577 - binary_accuracy: 0.4969 - val_loss: 0.8591 - val_binary_accuracy: 0.6706\n",
            "Epoch 2/4\n",
            "383/383 [==============================] - 62s 163ms/step - loss: 0.8602 - binary_accuracy: 0.6283 - val_loss: 0.8478 - val_binary_accuracy: 0.6735\n",
            "Epoch 3/4\n",
            "383/383 [==============================] - 62s 163ms/step - loss: 0.6938 - binary_accuracy: 0.7742 - val_loss: 1.0384 - val_binary_accuracy: 0.6676\n",
            "Epoch 4/4\n",
            "383/383 [==============================] - 62s 163ms/step - loss: 0.5071 - binary_accuracy: 0.8923 - val_loss: 1.2453 - val_binary_accuracy: 0.6500\n",
            "43/43 [==============================] - 2s 50ms/step - loss: 1.2453 - binary_accuracy: 0.6500\n",
            "FOLD  3\n",
            "Train  3062\n",
            "Test  340\n"
          ],
          "name": "stdout"
        },
        {
          "output_type": "stream",
          "text": [
            "INFO:absl:using Adamw optimizer\n",
            "INFO:absl:gradient_clip_norm=1.000000\n"
          ],
          "name": "stderr"
        },
        {
          "output_type": "stream",
          "text": [
            "Epoch 1/4\n",
            "383/383 [==============================] - 77s 165ms/step - loss: 0.9408 - binary_accuracy: 0.5336 - val_loss: 0.8855 - val_binary_accuracy: 0.6382\n",
            "Epoch 2/4\n",
            "383/383 [==============================] - 62s 163ms/step - loss: 0.8625 - binary_accuracy: 0.6429 - val_loss: 0.9273 - val_binary_accuracy: 0.6235\n",
            "Epoch 3/4\n",
            "383/383 [==============================] - 62s 163ms/step - loss: 0.7161 - binary_accuracy: 0.7664 - val_loss: 0.9575 - val_binary_accuracy: 0.6706\n",
            "Epoch 4/4\n",
            "383/383 [==============================] - 62s 163ms/step - loss: 0.5654 - binary_accuracy: 0.8659 - val_loss: 1.1004 - val_binary_accuracy: 0.6647\n",
            "43/43 [==============================] - 2s 50ms/step - loss: 1.1004 - binary_accuracy: 0.6647\n",
            "FOLD  4\n",
            "Train  3062\n",
            "Test  340\n"
          ],
          "name": "stdout"
        },
        {
          "output_type": "stream",
          "text": [
            "INFO:absl:using Adamw optimizer\n",
            "INFO:absl:gradient_clip_norm=1.000000\n"
          ],
          "name": "stderr"
        },
        {
          "output_type": "stream",
          "text": [
            "Epoch 1/4\n",
            "383/383 [==============================] - 80s 173ms/step - loss: 0.9436 - binary_accuracy: 0.4964 - val_loss: 0.8805 - val_binary_accuracy: 0.6235\n",
            "Epoch 2/4\n",
            "383/383 [==============================] - 62s 163ms/step - loss: 0.8549 - binary_accuracy: 0.6404 - val_loss: 0.8691 - val_binary_accuracy: 0.6500\n",
            "Epoch 3/4\n",
            "383/383 [==============================] - 62s 163ms/step - loss: 0.7205 - binary_accuracy: 0.7668 - val_loss: 1.0190 - val_binary_accuracy: 0.6382\n",
            "Epoch 4/4\n",
            "383/383 [==============================] - 62s 163ms/step - loss: 0.5508 - binary_accuracy: 0.8585 - val_loss: 1.1663 - val_binary_accuracy: 0.6235\n",
            "43/43 [==============================] - 2s 50ms/step - loss: 1.1663 - binary_accuracy: 0.6235\n",
            "FOLD  5\n",
            "Train  3062\n",
            "Test  340\n"
          ],
          "name": "stdout"
        },
        {
          "output_type": "stream",
          "text": [
            "INFO:absl:using Adamw optimizer\n",
            "INFO:absl:gradient_clip_norm=1.000000\n"
          ],
          "name": "stderr"
        },
        {
          "output_type": "stream",
          "text": [
            "Epoch 1/4\n",
            "383/383 [==============================] - 77s 165ms/step - loss: 0.9458 - binary_accuracy: 0.4856 - val_loss: 0.8962 - val_binary_accuracy: 0.5794\n",
            "Epoch 2/4\n",
            "383/383 [==============================] - 62s 163ms/step - loss: 0.8627 - binary_accuracy: 0.6246 - val_loss: 0.9000 - val_binary_accuracy: 0.6324\n",
            "Epoch 3/4\n",
            "383/383 [==============================] - 62s 163ms/step - loss: 0.7043 - binary_accuracy: 0.7624 - val_loss: 1.0347 - val_binary_accuracy: 0.6265\n",
            "Epoch 4/4\n",
            "383/383 [==============================] - 62s 163ms/step - loss: 0.5400 - binary_accuracy: 0.8565 - val_loss: 1.1755 - val_binary_accuracy: 0.6206\n",
            "43/43 [==============================] - 2s 51ms/step - loss: 1.1755 - binary_accuracy: 0.6206\n",
            "FOLD  6\n",
            "Train  3062\n",
            "Test  340\n"
          ],
          "name": "stdout"
        },
        {
          "output_type": "stream",
          "text": [
            "INFO:absl:using Adamw optimizer\n",
            "INFO:absl:gradient_clip_norm=1.000000\n"
          ],
          "name": "stderr"
        },
        {
          "output_type": "stream",
          "text": [
            "Epoch 1/4\n",
            "383/383 [==============================] - 78s 165ms/step - loss: 0.9426 - binary_accuracy: 0.5172 - val_loss: 0.8747 - val_binary_accuracy: 0.6441\n",
            "Epoch 2/4\n",
            "383/383 [==============================] - 62s 163ms/step - loss: 0.8640 - binary_accuracy: 0.6468 - val_loss: 0.9567 - val_binary_accuracy: 0.6265\n",
            "Epoch 3/4\n",
            "383/383 [==============================] - 62s 163ms/step - loss: 0.6986 - binary_accuracy: 0.7853 - val_loss: 0.9473 - val_binary_accuracy: 0.6706\n",
            "Epoch 4/4\n",
            "383/383 [==============================] - 62s 163ms/step - loss: 0.5596 - binary_accuracy: 0.8601 - val_loss: 1.0588 - val_binary_accuracy: 0.6735\n",
            "43/43 [==============================] - 2s 50ms/step - loss: 1.0588 - binary_accuracy: 0.6735\n",
            "FOLD  7\n",
            "Train  3062\n",
            "Test  340\n"
          ],
          "name": "stdout"
        },
        {
          "output_type": "stream",
          "text": [
            "INFO:absl:using Adamw optimizer\n",
            "INFO:absl:gradient_clip_norm=1.000000\n"
          ],
          "name": "stderr"
        },
        {
          "output_type": "stream",
          "text": [
            "Epoch 1/4\n",
            "383/383 [==============================] - 82s 165ms/step - loss: 0.9242 - binary_accuracy: 0.4937 - val_loss: 0.8601 - val_binary_accuracy: 0.6235\n",
            "Epoch 2/4\n",
            "383/383 [==============================] - 62s 163ms/step - loss: 0.8552 - binary_accuracy: 0.6193 - val_loss: 0.8176 - val_binary_accuracy: 0.6588\n",
            "Epoch 3/4\n",
            "383/383 [==============================] - 62s 163ms/step - loss: 0.7115 - binary_accuracy: 0.7414 - val_loss: 0.9065 - val_binary_accuracy: 0.6500\n",
            "Epoch 4/4\n",
            "383/383 [==============================] - 62s 163ms/step - loss: 0.5591 - binary_accuracy: 0.8534 - val_loss: 1.0218 - val_binary_accuracy: 0.6559\n",
            "43/43 [==============================] - 2s 50ms/step - loss: 1.0218 - binary_accuracy: 0.6559\n",
            "FOLD  8\n",
            "Train  3062\n",
            "Test  340\n"
          ],
          "name": "stdout"
        },
        {
          "output_type": "stream",
          "text": [
            "INFO:absl:using Adamw optimizer\n",
            "INFO:absl:gradient_clip_norm=1.000000\n"
          ],
          "name": "stderr"
        },
        {
          "output_type": "stream",
          "text": [
            "Epoch 1/4\n",
            "383/383 [==============================] - 78s 165ms/step - loss: 0.9409 - binary_accuracy: 0.4911 - val_loss: 0.8668 - val_binary_accuracy: 0.6382\n",
            "Epoch 2/4\n",
            "383/383 [==============================] - 62s 163ms/step - loss: 0.8371 - binary_accuracy: 0.6561 - val_loss: 1.1424 - val_binary_accuracy: 0.5706\n",
            "Epoch 3/4\n",
            "383/383 [==============================] - 62s 163ms/step - loss: 0.6442 - binary_accuracy: 0.8141 - val_loss: 1.2434 - val_binary_accuracy: 0.6118\n",
            "Epoch 4/4\n",
            "383/383 [==============================] - 62s 163ms/step - loss: 0.4957 - binary_accuracy: 0.9007 - val_loss: 1.3552 - val_binary_accuracy: 0.6706\n",
            "43/43 [==============================] - 2s 50ms/step - loss: 1.3552 - binary_accuracy: 0.6706\n",
            "FOLD  9\n",
            "Train  3062\n",
            "Test  340\n"
          ],
          "name": "stdout"
        },
        {
          "output_type": "stream",
          "text": [
            "INFO:absl:using Adamw optimizer\n",
            "INFO:absl:gradient_clip_norm=1.000000\n"
          ],
          "name": "stderr"
        },
        {
          "output_type": "stream",
          "text": [
            "Epoch 1/4\n",
            "383/383 [==============================] - 83s 165ms/step - loss: 0.9243 - binary_accuracy: 0.5378 - val_loss: 0.8676 - val_binary_accuracy: 0.6294\n",
            "Epoch 2/4\n",
            "383/383 [==============================] - 63s 163ms/step - loss: 0.8431 - binary_accuracy: 0.6506 - val_loss: 0.9074 - val_binary_accuracy: 0.6647\n",
            "Epoch 3/4\n",
            "383/383 [==============================] - 62s 163ms/step - loss: 0.6919 - binary_accuracy: 0.7796 - val_loss: 1.0338 - val_binary_accuracy: 0.6382\n",
            "Epoch 4/4\n",
            "383/383 [==============================] - 62s 163ms/step - loss: 0.5507 - binary_accuracy: 0.8607 - val_loss: 1.2469 - val_binary_accuracy: 0.6382\n",
            "43/43 [==============================] - 2s 50ms/step - loss: 1.2469 - binary_accuracy: 0.6382\n",
            "Average accuracy  0.6520588219165802\n"
          ],
          "name": "stdout"
        }
      ]
    },
    {
      "cell_type": "code",
      "metadata": {
        "id": "SS5ttFo1fAU2"
      },
      "source": [
        "# electra with fine-tuning, best CNN \n",
        "bert_model_name = 'electra_base'\n",
        "epochs = 2\n",
        "init_lr = 2e-5\n",
        "batch_size = 8\n",
        "do_fine_tuning = True\n",
        "folds = 10\n",
        "\n",
        "def create_layers(net, text_input): \n",
        "  filter_length = 1\n",
        "  seq_len = 256\n",
        "  net = tf.keras.layers.Reshape((2,384), input_shape=(None,768))(net)\n",
        "  net = tf.keras.layers.Conv1D(filters=256, kernel_size=(filter_length), padding='valid',strides=1, activation='relu')(net)\n",
        "  net = tf.keras.layers.MaxPool1D(pool_size=2)(net)\n",
        "  net = tf.keras.layers.Flatten()(net)\n",
        "  net = tf.keras.layers.Dense(256, activation = 'relu')(net)\n",
        "  net = tf.keras.layers.Dropout(0.1)(net)\n",
        "  net = tf.keras.layers.Dense(1, activation='sigmoid', name='classifier', \n",
        "                              kernel_regularizer=tf.keras.regularizers.L1L2(l1=0.01, l2=0.02)\n",
        "                              )(net)\n",
        "  return tf.keras.Model(text_input, net)\n",
        "\n",
        "results3, history3, classifier_model3 = bert_10_fold(epochs=epochs, \n",
        "                                                  init_lr=init_lr, \n",
        "                                                  batch_size = batch_size, \n",
        "                                                  do_fine_tuning = do_fine_tuning, \n",
        "                                                  create_classifier = create_layers, \n",
        "                                                  bert_model_name = bert_model_name, \n",
        "                                                  folds = folds)\n",
        "\n",
        "print('Average accuracy ', np.mean(results3[bert_model_name]))"
      ],
      "execution_count": null,
      "outputs": []
    },
    {
      "cell_type": "code",
      "metadata": {
        "id": "n5mm5o6gaNzX"
      },
      "source": [
        ""
      ],
      "execution_count": null,
      "outputs": []
    },
    {
      "cell_type": "code",
      "metadata": {
        "id": "aeed4COdunkH"
      },
      "source": [
        ""
      ],
      "execution_count": null,
      "outputs": []
    },
    {
      "cell_type": "code",
      "metadata": {
        "id": "cG1lzQuFunuw"
      },
      "source": [
        ""
      ],
      "execution_count": null,
      "outputs": []
    },
    {
      "cell_type": "code",
      "metadata": {
        "colab": {
          "base_uri": "https://localhost:8080/"
        },
        "id": "lf8522XPun3H",
        "outputId": "12168371-be51-4424-a9e3-e46b89d31c7b"
      },
      "source": [
        "# electra with fine-tuning, best CNN \n",
        "bert_model_name = 'electra_base'\n",
        "epochs = 4\n",
        "init_lr = 2e-5\n",
        "batch_size = 8\n",
        "do_fine_tuning = True\n",
        "folds = 1\n",
        "\n",
        "def create_layers(net, text_input): \n",
        "  filter_length = 1\n",
        "  seq_len = 256\n",
        "  net = tf.keras.layers.Reshape((2,384), input_shape=(None,768))(net)\n",
        "  net = tf.keras.layers.Conv1D(filters=256, kernel_size=(filter_length), padding='valid',strides=1, activation='relu')(net)\n",
        "  net = tf.keras.layers.MaxPool1D(pool_size=2)(net)\n",
        "  net = tf.keras.layers.Flatten()(net)\n",
        "  net = tf.keras.layers.Dense(256, activation = 'relu')(net)\n",
        "  net = tf.keras.layers.Dropout(0.1)(net)\n",
        "  net = tf.keras.layers.Dense(1, activation='sigmoid', name='classifier', \n",
        "                              kernel_regularizer=tf.keras.regularizers.L1L2(l1=0.01, l2=0.02)\n",
        "                              )(net)\n",
        "  return tf.keras.Model(text_input, net)\n",
        "\n",
        "results, history, classifier_model = bert_10_fold(epochs=epochs, \n",
        "                                                  init_lr=init_lr, \n",
        "                                                  batch_size = batch_size, \n",
        "                                                  do_fine_tuning = do_fine_tuning, \n",
        "                                                  create_classifier = create_layers, \n",
        "                                                  bert_model_name = bert_model_name, \n",
        "                                                  folds = folds)\n",
        "\n",
        "print('Average accuracy ', np.mean(results3[bert_model_name]))"
      ],
      "execution_count": null,
      "outputs": [
        {
          "output_type": "stream",
          "text": [
            "electra_base\n",
            "FOLD  0\n",
            "Train  3062\n",
            "Test  340\n"
          ],
          "name": "stdout"
        },
        {
          "output_type": "stream",
          "text": [
            "INFO:absl:using Adamw optimizer\n",
            "INFO:absl:gradient_clip_norm=1.000000\n"
          ],
          "name": "stderr"
        },
        {
          "output_type": "stream",
          "text": [
            "Epoch 1/4\n",
            "383/383 [==============================] - 79s 166ms/step - loss: 0.9291 - binary_accuracy: 0.5341 - val_loss: 0.8914 - val_binary_accuracy: 0.5794\n",
            "Epoch 2/4\n",
            "383/383 [==============================] - 63s 164ms/step - loss: 0.8526 - binary_accuracy: 0.6519 - val_loss: 0.8745 - val_binary_accuracy: 0.6412\n",
            "Epoch 3/4\n",
            "383/383 [==============================] - 63s 164ms/step - loss: 0.6885 - binary_accuracy: 0.7848 - val_loss: 1.1265 - val_binary_accuracy: 0.6235\n",
            "Epoch 4/4\n",
            "383/383 [==============================] - 63s 164ms/step - loss: 0.5354 - binary_accuracy: 0.8721 - val_loss: 1.2011 - val_binary_accuracy: 0.6382\n",
            "43/43 [==============================] - 2s 50ms/step - loss: 1.2011 - binary_accuracy: 0.6382\n",
            "Average accuracy  0.6382352709770203\n"
          ],
          "name": "stdout"
        }
      ]
    },
    {
      "cell_type": "code",
      "metadata": {
        "colab": {
          "base_uri": "https://localhost:8080/"
        },
        "id": "IQ1Vo0vXwv4D",
        "outputId": "bde01cc0-7ede-4a26-c178-5c435ea5f6a4"
      },
      "source": [
        "# error analysis \n",
        "bert_model_name = 'electra_base'\n",
        "epochs = 3\n",
        "init_lr = 2e-5\n",
        "batch_size = 8\n",
        "do_fine_tuning = True\n",
        "folds = 1\n",
        "\n",
        "def create_layers(net, text_input): \n",
        "  net = tf.keras.layers.Dropout(0.1)(net)\n",
        "  net = tf.keras.layers.Dense(1, activation='sigmoid', name='classifier', \n",
        "                              kernel_regularizer=tf.keras.regularizers.L1L2(l1=0.01, l2=0.01)\n",
        "                              )(net)\n",
        "  return tf.keras.Model(text_input, net)\n",
        "\n",
        "results, history, classifier_model = bert_10_fold(epochs=epochs, \n",
        "                                                  init_lr=init_lr, \n",
        "                                                  batch_size = batch_size, \n",
        "                                                  do_fine_tuning = do_fine_tuning, \n",
        "                                                  create_classifier = create_layers, \n",
        "                                                  bert_model_name = bert_model_name, \n",
        "                                                  folds = folds)\n",
        "\n",
        "print('Average accuracy ', np.mean(results[bert_model_name]))\n",
        "\n",
        "  "
      ],
      "execution_count": null,
      "outputs": [
        {
          "output_type": "stream",
          "text": [
            "electra_base\n",
            "FOLD  0\n",
            "Train  3062\n",
            "Test  340\n"
          ],
          "name": "stdout"
        },
        {
          "output_type": "stream",
          "text": [
            "INFO:absl:using Adamw optimizer\n",
            "INFO:absl:gradient_clip_norm=1.000000\n"
          ],
          "name": "stderr"
        },
        {
          "output_type": "stream",
          "text": [
            "Epoch 1/3\n",
            "383/383 [==============================] - 78s 165ms/step - loss: 1.0415 - binary_accuracy: 0.5286 - val_loss: 0.9885 - val_binary_accuracy: 0.6294\n",
            "Epoch 2/3\n",
            "383/383 [==============================] - 63s 163ms/step - loss: 0.9241 - binary_accuracy: 0.6786 - val_loss: 0.9859 - val_binary_accuracy: 0.6647\n",
            "Epoch 3/3\n",
            "383/383 [==============================] - 63s 164ms/step - loss: 0.7303 - binary_accuracy: 0.8271 - val_loss: 1.1115 - val_binary_accuracy: 0.6588\n",
            "43/43 [==============================] - 2s 51ms/step - loss: 1.1115 - binary_accuracy: 0.6588\n",
            "Average accuracy  0.658823549747467\n"
          ],
          "name": "stdout"
        }
      ]
    },
    {
      "cell_type": "code",
      "metadata": {
        "colab": {
          "base_uri": "https://localhost:8080/"
        },
        "id": "_Kt8hM0ZyRgN",
        "outputId": "9de2ee9d-2d6f-481a-f1e2-2820ef8c86bb"
      },
      "source": [
        "# electra with fine-tuning, LSTM \n",
        "bert_model_name = 'electra_base'\n",
        "epochs = 1\n",
        "init_lr = 2e-5\n",
        "batch_size = 32\n",
        "do_fine_tuning = True\n",
        "folds = 1\n",
        "\n",
        "def create_layers(net, text_input): \n",
        "  filter_length = 1\n",
        "  seq_len = 256\n",
        "  net = tf.keras.layers.Reshape((2,384), input_shape=(None,768))(net)\n",
        "  net = tf.keras.layers.LSTM(256, return_sequences=True, activation='tanh')(net)\n",
        "  net = tf.keras.layers.Dense(256, activation = 'relu')(net)\n",
        "  net = tf.keras.layers.Dropout(0.2)(net)\n",
        "  net = tf.keras.layers.Dense(1, activation='sigmoid', name='classifier', \n",
        "                              kernel_regularizer=tf.keras.regularizers.L1L2(l1=0.01, l2=0.01)\n",
        "                              )(net)\n",
        "  return tf.keras.Model(text_input, net)\n",
        "\n",
        "results, history, classifier_model = bert_10_fold(epochs=epochs, \n",
        "                                                  init_lr=init_lr, \n",
        "                                                  batch_size = batch_size, \n",
        "                                                  do_fine_tuning = do_fine_tuning, \n",
        "                                                  create_classifier = create_layers, \n",
        "                                                  bert_model_name = bert_model_name, \n",
        "                                                  folds = folds)\n",
        "\n",
        "print('Average error ', np.mean(results[bert_model_name]))"
      ],
      "execution_count": null,
      "outputs": [
        {
          "output_type": "stream",
          "text": [
            "electra_base\n",
            "FOLD  0\n",
            "Train  3062\n",
            "Test  340\n"
          ],
          "name": "stdout"
        },
        {
          "output_type": "stream",
          "text": [
            "INFO:absl:using Adamw optimizer\n",
            "INFO:absl:gradient_clip_norm=1.000000\n"
          ],
          "name": "stderr"
        },
        {
          "output_type": "stream",
          "text": [
            "96/96 [==============================] - 70s 561ms/step - loss: 0.9007 - binary_accuracy: 0.5129 - val_loss: 0.8957 - val_binary_accuracy: 0.5794\n",
            "11/11 [==============================] - 2s 189ms/step - loss: 0.8957 - binary_accuracy: 0.5794\n",
            "Average error  0.5794117450714111\n"
          ],
          "name": "stdout"
        }
      ]
    },
    {
      "cell_type": "code",
      "metadata": {
        "id": "dLc5lAt1wylW",
        "colab": {
          "base_uri": "https://localhost:8080/"
        },
        "outputId": "fc6104b5-2790-4569-fcb7-0106c65f60f7"
      },
      "source": [
        "# electra with fine-tuning, LSTM \n",
        "bert_model_name = 'electra_base'\n",
        "epochs = 1\n",
        "init_lr = 2e-5\n",
        "batch_size = 32\n",
        "do_fine_tuning = True\n",
        "folds = 1\n",
        "\n",
        "def create_layers(net, text_input): \n",
        "  filter_length = 1\n",
        "  seq_len = 256\n",
        "  net = tf.keras.layers.Reshape((2,384), input_shape=(None,768))(net)\n",
        "  net = tf.keras.layers.LSTM(256, return_sequences=True, activation='tanh')(net)\n",
        "  net = tf.keras.layers.Dense(256, activation = 'relu')(net)\n",
        "  net = tf.keras.layers.Dropout(0.2)(net)\n",
        "  net = tf.keras.layers.Dense(1, activation='sigmoid', name='classifier', \n",
        "                              kernel_regularizer=tf.keras.regularizers.L1L2(l1=0.01, l2=0.01)\n",
        "                              )(net)\n",
        "  return tf.keras.Model(text_input, net)\n",
        "\n",
        "results, history, classifier_model = bert_10_fold(epochs=epochs, \n",
        "                                                  init_lr=init_lr, \n",
        "                                                  batch_size = batch_size, \n",
        "                                                  do_fine_tuning = do_fine_tuning, \n",
        "                                                  create_classifier = create_layers, \n",
        "                                                  bert_model_name = bert_model_name, \n",
        "                                                  folds = folds)\n",
        "\n",
        "print('Average error ', np.mean(results[bert_model_name]))"
      ],
      "execution_count": null,
      "outputs": [
        {
          "output_type": "stream",
          "text": [
            "INFO:absl:Using /tmp/tfhub_modules to cache modules.\n",
            "INFO:absl:Downloading TF-Hub Module 'https://tfhub.dev/tensorflow/bert_en_uncased_preprocess/3'.\n"
          ],
          "name": "stderr"
        },
        {
          "output_type": "stream",
          "text": [
            "electra_base\n",
            "FOLD  0\n",
            "Train  3062\n",
            "Test  340\n"
          ],
          "name": "stdout"
        },
        {
          "output_type": "stream",
          "text": [
            "INFO:absl:Downloaded https://tfhub.dev/tensorflow/bert_en_uncased_preprocess/3, Total size: 1.96MB\n",
            "INFO:absl:Downloaded TF-Hub Module 'https://tfhub.dev/tensorflow/bert_en_uncased_preprocess/3'.\n",
            "INFO:absl:Downloading TF-Hub Module 'https://tfhub.dev/google/electra_base/2'.\n",
            "INFO:absl:Downloaded https://tfhub.dev/google/electra_base/2, Total size: 425.70MB\n",
            "INFO:absl:Downloaded TF-Hub Module 'https://tfhub.dev/google/electra_base/2'.\n",
            "INFO:absl:using Adamw optimizer\n",
            "INFO:absl:gradient_clip_norm=1.000000\n"
          ],
          "name": "stderr"
        },
        {
          "output_type": "stream",
          "text": [
            "96/96 [==============================] - 111s 921ms/step - loss: 0.9042 - binary_accuracy: 0.5279 - val_loss: 0.9013 - val_binary_accuracy: 0.5882\n",
            "11/11 [==============================] - 3s 304ms/step - loss: 0.9013 - binary_accuracy: 0.5882\n",
            "Average error  0.5882353186607361\n"
          ],
          "name": "stdout"
        }
      ]
    },
    {
      "cell_type": "code",
      "metadata": {
        "id": "QYt9sljGvNLD"
      },
      "source": [
        "# save last model\n",
        "model_path = 'baseline_electra_ibc_reg'\n",
        "classifier_model.save(model_path)"
      ],
      "execution_count": null,
      "outputs": []
    },
    {
      "cell_type": "code",
      "metadata": {
        "id": "sadOxoMeZVSU"
      },
      "source": [
        "# error analysis on last test set\n",
        "model_path = 'baseline_electra_ibc_reg'\n",
        "classifier_model = tf.saved_model.load(model_path)"
      ],
      "execution_count": null,
      "outputs": []
    },
    {
      "cell_type": "code",
      "metadata": {
        "colab": {
          "base_uri": "https://localhost:8080/",
          "height": 421
        },
        "id": "pbb8SjArx9ct",
        "outputId": "92044c68-21d9-4b5a-e7f5-dc806c3118fa"
      },
      "source": [
        "# plot change\n",
        "plot_loss(history)"
      ],
      "execution_count": null,
      "outputs": [
        {
          "output_type": "stream",
          "text": [
            "dict_keys(['loss', 'binary_accuracy', 'val_loss', 'val_binary_accuracy'])\n"
          ],
          "name": "stdout"
        },
        {
          "output_type": "display_data",
          "data": {
            "image/png": "[encoded data removed]",
            "text/plain": [
              "<Figure size 720x432 with 2 Axes>"
            ]
          },
          "metadata": {
            "tags": [],
            "needs_background": "light"
          }
        }
      ]
    },
    {
      "cell_type": "code",
      "metadata": {
        "colab": {
          "base_uri": "https://localhost:8080/",
          "height": 758
        },
        "id": "dTtgRcmex_MT",
        "outputId": "c1e0ba83-c42c-450c-a150-956fe16829d5"
      },
      "source": [
        "# model structure\n",
        "tf.keras.utils.plot_model(classifier_model)"
      ],
      "execution_count": null,
      "outputs": [
        {
          "output_type": "execute_result",
          "data": {
            "image/png": "[encoded data removed]",
            "text/plain": [
              "<IPython.core.display.Image object>"
            ]
          },
          "metadata": {
            "tags": []
          },
          "execution_count": 39
        }
      ]
    },
    {
      "cell_type": "code",
      "metadata": {
        "colab": {
          "base_uri": "https://localhost:8080/",
          "height": 261
        },
        "id": "rQK9oHp58doh",
        "outputId": "ef6d6002-6ffe-4144-a0a1-1a8fbdf1760e"
      },
      "source": [
        "#shapes of inputs\n",
        "tf.keras.utils.plot_model(classifier_model, show_shapes=True, dpi=58)"
      ],
      "execution_count": null,
      "outputs": [
        {
          "output_type": "execute_result",
          "data": {
            "image/png": "[encoded data removed]",
            "text/plain": [
              "<IPython.core.display.Image object>"
            ]
          },
          "metadata": {
            "tags": []
          },
          "execution_count": 46
        }
      ]
    },
    {
      "cell_type": "code",
      "metadata": {
        "id": "HM_V1hKs7oop"
      },
      "source": [
        ""
      ],
      "execution_count": null,
      "outputs": []
    },
    {
      "cell_type": "code",
      "metadata": {
        "id": "BWZQLYuGc3_U"
      },
      "source": [
        "def create_test_results():\n",
        "  fold = 0\n",
        "  train, test = stratified_10_fold_split(df, fold = fold, val = False, batch_size = batch_size) \n",
        "  classifier_model.evaluate(test)\n",
        "  preds = classifier_model.predict(test)\n",
        "  pred_prob = [i[0] for i in preds]\n",
        "  pred_label = [1 if i > 0.5 else 0 for i in pred_prob]\n",
        "  sentence = []\n",
        "  actual_label = []\n",
        "  for text_batch, label_batch in test: \n",
        "    for i in range(len(text_batch)): \n",
        "      sentence.append(text_batch.numpy()[i])\n",
        "      actual_label.append(label_batch.numpy()[i])\n",
        "  test_results = pd.DataFrame(zip(sentence, actual_label, pred_label, pred_prob), \n",
        "                              columns = ['sentence', 'actual', 'pred', 'pred_prob'])\n",
        "  test_results['diff'] = [np.abs(a-b) for a,b in zip(test_results['actual'], test_results['pred_prob'])]\n",
        "  print(len(test_results[test_results.actual == test_results.pred]) / len(test_results))\n",
        "  return test_results"
      ],
      "execution_count": null,
      "outputs": []
    },
    {
      "cell_type": "code",
      "metadata": {
        "colab": {
          "base_uri": "https://localhost:8080/"
        },
        "id": "F4Qksg-Xa3HV",
        "outputId": "9f54f217-cdb7-4a25-a3c6-396259ecfd4f"
      },
      "source": [
        "test_results = create_test_results()"
      ],
      "execution_count": null,
      "outputs": [
        {
          "output_type": "stream",
          "text": [
            "Train  3062\n",
            "Test  340\n",
            "11/11 [==============================] - 3s 304ms/step - loss: 0.9013 - binary_accuracy: 0.5882\n",
            "0.5970588235294118\n"
          ],
          "name": "stdout"
        }
      ]
    },
    {
      "cell_type": "code",
      "metadata": {
        "id": "_etAGfdjrqIJ"
      },
      "source": [
        ""
      ],
      "execution_count": null,
      "outputs": []
    },
    {
      "cell_type": "code",
      "metadata": {
        "colab": {
          "base_uri": "https://localhost:8080/",
          "height": 580
        },
        "id": "C2irFM0Nq2uC",
        "outputId": "04741ef5-dd1c-44e2-a1df-6767402fa3f4"
      },
      "source": [
        "print('Probability Distribution')\n",
        "pd.DataFrame([i[0] for i in test_results['pred_prob']]).hist()\n",
        "plt.show()\n",
        "print('Actual vs. Predicted Labels')\n",
        "test_results['actual'].hist()\n",
        "test_results['pred'].hist()\n",
        "plt.legend(['Actual', 'Predicted'])\n"
      ],
      "execution_count": null,
      "outputs": [
        {
          "output_type": "stream",
          "text": [
            "Probability Distribution\n"
          ],
          "name": "stdout"
        },
        {
          "output_type": "display_data",
          "data": {
            "image/png": "[encoded data removed]",
            "text/plain": [
              "<Figure size 432x288 with 1 Axes>"
            ]
          },
          "metadata": {
            "tags": [],
            "needs_background": "light"
          }
        },
        {
          "output_type": "stream",
          "text": [
            "Actual vs. Predicted Labels\n"
          ],
          "name": "stdout"
        },
        {
          "output_type": "execute_result",
          "data": {
            "text/plain": [
              "<matplotlib.legend.Legend at 0x7fcc7293dd50>"
            ]
          },
          "metadata": {
            "tags": []
          },
          "execution_count": 23
        },
        {
          "output_type": "display_data",
          "data": {
            "image/png": "[encoded data removed]",
            "text/plain": [
              "<Figure size 432x288 with 1 Axes>"
            ]
          },
          "metadata": {
            "tags": [],
            "needs_background": "light"
          }
        }
      ]
    },
    {
      "cell_type": "code",
      "metadata": {
        "colab": {
          "base_uri": "https://localhost:8080/",
          "height": 564
        },
        "id": "Ww2KMFobaheF",
        "outputId": "699212ca-5d3b-4da3-a77b-a84d5d07922f"
      },
      "source": [
        "print('Probability Distribution')\n",
        "test_results['pred_prob'].hist()\n",
        "plt.show()\n",
        "print('Actual vs. Predicted Labels')\n",
        "test_results['actual'].hist()\n",
        "test_results['pred'].hist()\n",
        "plt.legend(['Actual', 'Predicted'])\n"
      ],
      "execution_count": null,
      "outputs": [
        {
          "output_type": "stream",
          "text": [
            "Probability Distribution\n"
          ],
          "name": "stdout"
        },
        {
          "output_type": "display_data",
          "data": {
            "image/png": "[encoded data removed]",
            "text/plain": [
              "<Figure size 432x288 with 1 Axes>"
            ]
          },
          "metadata": {
            "tags": [],
            "needs_background": "light"
          }
        },
        {
          "output_type": "stream",
          "text": [
            "Actual vs. Predicted Labels\n"
          ],
          "name": "stdout"
        },
        {
          "output_type": "execute_result",
          "data": {
            "text/plain": [
              "<matplotlib.legend.Legend at 0x7fae0b937550>"
            ]
          },
          "metadata": {
            "tags": []
          },
          "execution_count": 49
        },
        {
          "output_type": "display_data",
          "data": {
            "image/png": "[encoded data removed]",
            "text/plain": [
              "<Figure size 432x288 with 1 Axes>"
            ]
          },
          "metadata": {
            "tags": [],
            "needs_background": "light"
          }
        }
      ]
    },
    {
      "cell_type": "code",
      "metadata": {
        "colab": {
          "base_uri": "https://localhost:8080/",
          "height": 669
        },
        "id": "Uz3_r0YxZ2sB",
        "outputId": "b40ab159-aaf1-497f-d2d6-e169a500f330"
      },
      "source": [
        "test_results.sort_values('diff', ascending = False).head(20)"
      ],
      "execution_count": null,
      "outputs": [
        {
          "output_type": "execute_result",
          "data": {
            "text/html": [
              "<div>\n",
              "<style scoped>\n",
              "    .dataframe tbody tr th:only-of-type {\n",
              "        vertical-align: middle;\n",
              "    }\n",
              "\n",
              "    .dataframe tbody tr th {\n",
              "        vertical-align: top;\n",
              "    }\n",
              "\n",
              "    .dataframe thead th {\n",
              "        text-align: right;\n",
              "    }\n",
              "</style>\n",
              "<table border=\"1\" class=\"dataframe\">\n",
              "  <thead>\n",
              "    <tr style=\"text-align: right;\">\n",
              "      <th></th>\n",
              "      <th>sentence</th>\n",
              "      <th>actual</th>\n",
              "      <th>pred</th>\n",
              "      <th>pred_prob</th>\n",
              "      <th>diff</th>\n",
              "    </tr>\n",
              "  </thead>\n",
              "  <tbody>\n",
              "    <tr>\n",
              "      <th>258</th>\n",
              "      <td>b'Third , a range of public policies helped fa...</td>\n",
              "      <td>0</td>\n",
              "      <td>1</td>\n",
              "      <td>0.992748</td>\n",
              "      <td>0.992748</td>\n",
              "    </tr>\n",
              "    <tr>\n",
              "      <th>24</th>\n",
              "      <td>b'He will create flexible education accounts t...</td>\n",
              "      <td>0</td>\n",
              "      <td>1</td>\n",
              "      <td>0.992496</td>\n",
              "      <td>0.992496</td>\n",
              "    </tr>\n",
              "    <tr>\n",
              "      <th>29</th>\n",
              "      <td>b\"Calling fatherlessness a `` social evil '' a...</td>\n",
              "      <td>0</td>\n",
              "      <td>1</td>\n",
              "      <td>0.990194</td>\n",
              "      <td>0.990194</td>\n",
              "    </tr>\n",
              "    <tr>\n",
              "      <th>205</th>\n",
              "      <td>b'The wealthy do often use their wealth for po...</td>\n",
              "      <td>0</td>\n",
              "      <td>1</td>\n",
              "      <td>0.986282</td>\n",
              "      <td>0.986282</td>\n",
              "    </tr>\n",
              "    <tr>\n",
              "      <th>83</th>\n",
              "      <td>b'As our worst economic crisis since the Depre...</td>\n",
              "      <td>0</td>\n",
              "      <td>1</td>\n",
              "      <td>0.983511</td>\n",
              "      <td>0.983511</td>\n",
              "    </tr>\n",
              "    <tr>\n",
              "      <th>77</th>\n",
              "      <td>b'For the new fundamentalists , the old balanc...</td>\n",
              "      <td>1</td>\n",
              "      <td>0</td>\n",
              "      <td>0.021978</td>\n",
              "      <td>0.978022</td>\n",
              "    </tr>\n",
              "    <tr>\n",
              "      <th>251</th>\n",
              "      <td>b'Progressives also could have been demanding ...</td>\n",
              "      <td>0</td>\n",
              "      <td>1</td>\n",
              "      <td>0.975942</td>\n",
              "      <td>0.975942</td>\n",
              "    </tr>\n",
              "    <tr>\n",
              "      <th>14</th>\n",
              "      <td>b'And , not surprisingly given the extent to w...</td>\n",
              "      <td>0</td>\n",
              "      <td>1</td>\n",
              "      <td>0.975428</td>\n",
              "      <td>0.975428</td>\n",
              "    </tr>\n",
              "    <tr>\n",
              "      <th>269</th>\n",
              "      <td>b\"One recent editorial concluded that `` the o...</td>\n",
              "      <td>0</td>\n",
              "      <td>1</td>\n",
              "      <td>0.973576</td>\n",
              "      <td>0.973576</td>\n",
              "    </tr>\n",
              "    <tr>\n",
              "      <th>13</th>\n",
              "      <td>b'Since politics is about shaping government p...</td>\n",
              "      <td>1</td>\n",
              "      <td>0</td>\n",
              "      <td>0.027174</td>\n",
              "      <td>0.972826</td>\n",
              "    </tr>\n",
              "    <tr>\n",
              "      <th>218</th>\n",
              "      <td>b'Taxes , argued Douthat , are set to rise in ...</td>\n",
              "      <td>0</td>\n",
              "      <td>1</td>\n",
              "      <td>0.968622</td>\n",
              "      <td>0.968622</td>\n",
              "    </tr>\n",
              "    <tr>\n",
              "      <th>169</th>\n",
              "      <td>b\"The fledgling conservative movement was able...</td>\n",
              "      <td>1</td>\n",
              "      <td>0</td>\n",
              "      <td>0.032544</td>\n",
              "      <td>0.967456</td>\n",
              "    </tr>\n",
              "    <tr>\n",
              "      <th>119</th>\n",
              "      <td>b\"If they succeed imposing their regulatory re...</td>\n",
              "      <td>0</td>\n",
              "      <td>1</td>\n",
              "      <td>0.967361</td>\n",
              "      <td>0.967361</td>\n",
              "    </tr>\n",
              "    <tr>\n",
              "      <th>148</th>\n",
              "      <td>b'Not least , they recorded their rage with th...</td>\n",
              "      <td>0</td>\n",
              "      <td>1</td>\n",
              "      <td>0.962495</td>\n",
              "      <td>0.962495</td>\n",
              "    </tr>\n",
              "    <tr>\n",
              "      <th>200</th>\n",
              "      <td>b'Ever since the McCain-Feingold campaign-fina...</td>\n",
              "      <td>0</td>\n",
              "      <td>1</td>\n",
              "      <td>0.961502</td>\n",
              "      <td>0.961502</td>\n",
              "    </tr>\n",
              "    <tr>\n",
              "      <th>224</th>\n",
              "      <td>b\"The biggest reason why Bush 's Medicare drug...</td>\n",
              "      <td>1</td>\n",
              "      <td>0</td>\n",
              "      <td>0.039432</td>\n",
              "      <td>0.960568</td>\n",
              "    </tr>\n",
              "    <tr>\n",
              "      <th>124</th>\n",
              "      <td>b'I believe Soros and hundreds of other hedge ...</td>\n",
              "      <td>0</td>\n",
              "      <td>1</td>\n",
              "      <td>0.957996</td>\n",
              "      <td>0.957996</td>\n",
              "    </tr>\n",
              "    <tr>\n",
              "      <th>97</th>\n",
              "      <td>b'It is certain that there is no way to reach ...</td>\n",
              "      <td>1</td>\n",
              "      <td>0</td>\n",
              "      <td>0.044025</td>\n",
              "      <td>0.955975</td>\n",
              "    </tr>\n",
              "    <tr>\n",
              "      <th>187</th>\n",
              "      <td>b\"The December 4 Independent Mail of Anderson ...</td>\n",
              "      <td>1</td>\n",
              "      <td>0</td>\n",
              "      <td>0.044178</td>\n",
              "      <td>0.955822</td>\n",
              "    </tr>\n",
              "    <tr>\n",
              "      <th>160</th>\n",
              "      <td>b\"He has considerable personal advantages over...</td>\n",
              "      <td>0</td>\n",
              "      <td>1</td>\n",
              "      <td>0.950561</td>\n",
              "      <td>0.950561</td>\n",
              "    </tr>\n",
              "  </tbody>\n",
              "</table>\n",
              "</div>"
            ],
            "text/plain": [
              "                                              sentence  ...      diff\n",
              "258  b'Third , a range of public policies helped fa...  ...  0.992748\n",
              "24   b'He will create flexible education accounts t...  ...  0.992496\n",
              "29   b\"Calling fatherlessness a `` social evil '' a...  ...  0.990194\n",
              "205  b'The wealthy do often use their wealth for po...  ...  0.986282\n",
              "83   b'As our worst economic crisis since the Depre...  ...  0.983511\n",
              "77   b'For the new fundamentalists , the old balanc...  ...  0.978022\n",
              "251  b'Progressives also could have been demanding ...  ...  0.975942\n",
              "14   b'And , not surprisingly given the extent to w...  ...  0.975428\n",
              "269  b\"One recent editorial concluded that `` the o...  ...  0.973576\n",
              "13   b'Since politics is about shaping government p...  ...  0.972826\n",
              "218  b'Taxes , argued Douthat , are set to rise in ...  ...  0.968622\n",
              "169  b\"The fledgling conservative movement was able...  ...  0.967456\n",
              "119  b\"If they succeed imposing their regulatory re...  ...  0.967361\n",
              "148  b'Not least , they recorded their rage with th...  ...  0.962495\n",
              "200  b'Ever since the McCain-Feingold campaign-fina...  ...  0.961502\n",
              "224  b\"The biggest reason why Bush 's Medicare drug...  ...  0.960568\n",
              "124  b'I believe Soros and hundreds of other hedge ...  ...  0.957996\n",
              "97   b'It is certain that there is no way to reach ...  ...  0.955975\n",
              "187  b\"The December 4 Independent Mail of Anderson ...  ...  0.955822\n",
              "160  b\"He has considerable personal advantages over...  ...  0.950561\n",
              "\n",
              "[20 rows x 5 columns]"
            ]
          },
          "metadata": {
            "tags": []
          },
          "execution_count": 50
        }
      ]
    },
    {
      "cell_type": "code",
      "metadata": {
        "colab": {
          "base_uri": "https://localhost:8080/"
        },
        "id": "bMiMIk6bWm9N",
        "outputId": "d5f47b09-9e6b-44d8-aff8-5fd19d8b443d"
      },
      "source": [
        "[sentence for sentence in test_results.sort_values('diff', ascending = False).head(20)['sentence']]"
      ],
      "execution_count": null,
      "outputs": [
        {
          "output_type": "execute_result",
          "data": {
            "text/plain": [
              "[b'Third , a range of public policies helped facilitate this economic mobility and opportunity : a strong minimum wage , grants for low-income students to go to college , generously subsidized state college tuition , a reliable unemployment insurance system , enforcement of the right to join a union , major incentives for homeownership , and a solid safety net for those falling on hard times .',\n",
              " b'He will create flexible education accounts that workers can use to retrain , provide retraining assistance for workers in sectors of the economy vulnerable to dislocation before they lose their jobs , and provide additional assistance for workers to afford health care .',\n",
              " b\"Calling fatherlessness a `` social evil '' and the `` engine driving our worst social problems , '' they promote father presence as a panacea for poverty , failure in school , emotional and behavioral problems among boys , premarital sex and pregnancy among girls , suicide , child abuse , and even social inequality .\",\n",
              " b'The wealthy do often use their wealth for political influence , but his argument treats the rich as if they were a unified voting block with identical interests .',\n",
              " b'As our worst economic crisis since the Depression enters its third full year , the history of the unemployed movement offers a lesson of how local and temporary struggles during a period of overall working-class retreat can interact with radical organizations to strengthen the left for larger struggles to come .',\n",
              " b'For the new fundamentalists , the old balance of morality has been abolished in favor of a new absolutism : not only is all abortion at any stage equally immoral , it is always as immoral as killing an adult human being .',\n",
              " b'Progressives also could have been demanding redress , marching for jobs , barking at the banks , and thereby attracting millions of supporters , but most were peaceably getting to know the new administration , muting their criticisms of Wall Street , and hoping the stimulus bill would work .',\n",
              " b'And , not surprisingly given the extent to which affluent men safely ensconced in liberal urban centers dominate the liberal pundit class , the arguments also greatly understate or ignore the stark class and geographic inequities in abortion access that would inevitably manifest themselves in a post-Roe world .',\n",
              " b\"One recent editorial concluded that `` the overall tax burden grew more progressive from 1979 to 1999 '' and insisted that any higher taxes on the rich would be unfair since the put-upon economic elite `` already bear an outsized share of the American tax burden .\",\n",
              " b'Since politics is about shaping government policy , and government policy is backed up by force or the threat of force , you might think that the consistent pacifist would avoid politics ; but many Christian pacifists are in politics up to their eyeballs .',\n",
              " b'Taxes , argued Douthat , are set to rise in 2013 when the Bush tax cuts expire , making at least a partial tax hike nearly certain if Obama wins reelection .',\n",
              " b\"The fledgling conservative movement was able to nominate Goldwater only because the Republican establishment was caught by surprise , and the movement still had no way to win national elections : Goldwater went down to humiliating defeat . ''\",\n",
              " b\"If they succeed imposing their regulatory regime , by 2050 they will have had no effect on the Earth 's climate -- which will have scarcely changed from the climate experienced today -- but the people enjoying the fine , mid-century weather will likely be poor , unemployed , and hungry as a result .\",\n",
              " b'Not least , they recorded their rage with the nearly $ 500 billion of the $ 787 billion stimulus package spent by Congress in tax cuts and subsidies that have yet to trickle down to produce jobs .',\n",
              " b'Ever since the McCain-Feingold campaign-finance legislation passed , Democrats have looked to so-called 527 groups-named after a part of the tax code that allows groups to raise unlimited sums and make independent expenditures on issues-to save them from cash shortfalls ( specifically for advertising ) that resulted from the reforms .',\n",
              " b\"The biggest reason why Bush 's Medicare drug benefit is so expensive is that the legislation creating it explicitly prohibits the federal government from using its bargaining power as the world 's largest buyer of drugs to negotiate lower prices from pharmaceutical companies .\",\n",
              " b'I believe Soros and hundreds of other hedge fund traders , most of them MFA members , manipulated the system using , primarily , changes in two rules that enabled them to raid the financial markets , generating huge profits for themselves , causing the financial crash of 2008 , and enabling Barack Obama to be elected .',\n",
              " b'It is certain that there is no way to reach a truly harmonious civilization with an economic system in which decisions are made by private individuals based on how much capital will be accumulated as well as personal greed and consumerism .',\n",
              " b\"The December 4 Independent Mail of Anderson , South Carolina , reported on how the Anderson County Sheriff 's Office turned something bad into something good by using seized drug money to pay the strongman 's fees to bring a message of hope , dreams , and choosing the right path to nine elementary and junior-high schools in the area .\",\n",
              " b\"He has considerable personal advantages over Paul -- eight years of executive experience , greater campaign-trail energy , better communication skills -- and today 's GOP is dominated by talk of the poor economy and the size of government , providing a far better climate for a strict libertarian than the one that prevailed in 2008 .\"]"
            ]
          },
          "metadata": {
            "tags": []
          },
          "execution_count": 51
        }
      ]
    },
    {
      "cell_type": "code",
      "metadata": {
        "id": "wOC7E7aQXO9Z"
      },
      "source": [
        ""
      ],
      "execution_count": null,
      "outputs": []
    },
    {
      "cell_type": "code",
      "metadata": {
        "id": "ImCd6_OBXtR8"
      },
      "source": [
        ""
      ],
      "execution_count": null,
      "outputs": []
    },
    {
      "cell_type": "code",
      "metadata": {
        "id": "MSCnB63Xu4qe"
      },
      "source": [
        ""
      ],
      "execution_count": null,
      "outputs": []
    },
    {
      "cell_type": "code",
      "metadata": {
        "id": "mSpZu-qFJhyn"
      },
      "source": [
        "# save model\n",
        "model_path = 'baseline_electra_ibc'\n",
        "saved_model_path = './baseline_electra_ibc_bert'.format(dataset_name.replace('/', '_'))\n",
        "\n",
        "classifier_model.save(saved_model_path)\n",
        "\n",
        "model.save('path/to/location')\n"
      ],
      "execution_count": null,
      "outputs": []
    },
    {
      "cell_type": "code",
      "metadata": {
        "id": "Yxv9U5QxJ1_P"
      },
      "source": [
        "# reload saved model\n",
        "reloaded_model = tf.saved_model.load(saved_model_path)"
      ],
      "execution_count": null,
      "outputs": []
    },
    {
      "cell_type": "code",
      "metadata": {
        "id": "q5CENZAfJ324"
      },
      "source": [
        "# test on new input\n"
      ],
      "execution_count": null,
      "outputs": []
    },
    {
      "cell_type": "code",
      "metadata": {
        "id": "xjaekAgZhk0G"
      },
      "source": [
        ""
      ],
      "execution_count": null,
      "outputs": []
    },
    {
      "cell_type": "code",
      "metadata": {
        "id": "HTziycOorGfF"
      },
      "source": [
        ""
      ],
      "execution_count": null,
      "outputs": []
    },
    {
      "cell_type": "code",
      "metadata": {
        "id": "lzUv5vjEIHku"
      },
      "source": [
        "\n"
      ],
      "execution_count": null,
      "outputs": []
    },
    {
      "cell_type": "code",
      "metadata": {
        "id": "a5a99tTrI5xS"
      },
      "source": [
        "\n"
      ],
      "execution_count": null,
      "outputs": []
    },
    {
      "cell_type": "code",
      "metadata": {
        "id": "KBps52A7gOUf"
      },
      "source": [
        ""
      ],
      "execution_count": null,
      "outputs": []
    },
    {
      "cell_type": "code",
      "metadata": {
        "id": "J7BhcN3YXlC-"
      },
      "source": [
        ""
      ],
      "execution_count": null,
      "outputs": []
    }
  ]
}